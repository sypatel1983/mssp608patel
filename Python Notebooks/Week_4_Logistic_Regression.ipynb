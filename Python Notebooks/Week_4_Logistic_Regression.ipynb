{
  "nbformat": 4,
  "nbformat_minor": 0,
  "metadata": {
    "colab": {
      "provenance": [],
      "collapsed_sections": []
    },
    "kernelspec": {
      "name": "python3",
      "display_name": "Python 3"
    }
  },
  "cells": [
    {
      "cell_type": "markdown",
      "metadata": {
        "id": "WSAvvETI052N"
      },
      "source": [
        "# **Build Logistic Regression Model in Python**\n",
        "\n",
        "I will be showing you how to build a logistic regression model in Python using the scikit-learn package.\n",
        "\n",
        "\n",
        "---"
      ]
    },
    {
      "cell_type": "markdown",
      "metadata": {
        "id": "ebyXGC8S2kgV"
      },
      "source": [
        "## **Step 1: Import the required modules**"
      ]
    },
    {
      "cell_type": "markdown",
      "metadata": {
        "id": "TmsgVFU56LbU"
      },
      "source": [
        "### **Import library**"
      ]
    },
    {
      "cell_type": "code",
      "metadata": {
        "id": "l-vSjx5O6G6M"
      },
      "source": [
        "from sklearn.datasets import make_classification\n",
        "from matplotlib import pyplot as plt\n",
        "from sklearn.linear_model import LogisticRegression\n",
        "from sklearn.model_selection import train_test_split\n",
        "from sklearn.metrics import confusion_matrix\n",
        "import pandas as pd"
      ],
      "execution_count": null,
      "outputs": []
    },
    {
      "cell_type": "markdown",
      "metadata": {
        "id": "eXQDM3856Rzy"
      },
      "source": [
        "### **Step 2: Generate the dataset**"
      ]
    },
    {
      "cell_type": "code",
      "metadata": {
        "id": "nC8pBDOB2jI8"
      },
      "source": [
        "x, y = make_classification(\n",
        "    n_samples=100,\n",
        "    n_features=1,\n",
        "    n_classes=2,\n",
        "    n_clusters_per_class=1,\n",
        "    flip_y=0.03,\n",
        "    n_informative=1,\n",
        "    n_redundant=0,\n",
        "    n_repeated=0\n",
        ")"
      ],
      "execution_count": null,
      "outputs": []
    },
    {
      "cell_type": "markdown",
      "metadata": {
        "id": "nwEA8kjK6Ypj"
      },
      "source": [
        "### **Step 3: Visualize the Data**"
      ]
    },
    {
      "cell_type": "code",
      "metadata": {
        "id": "TI8bfUX05_mp",
        "outputId": "ee857f8c-9f27-4a54-8c82-fb051a84826d",
        "colab": {
          "base_uri": "https://localhost:8080/",
          "height": 281
        }
      },
      "source": [
        "plt.scatter(x, y, c=y, cmap='rainbow')\n",
        "plt.title('Scatter Plot of Logistic Regression')\n",
        "plt.show()"
      ],
      "execution_count": null,
      "outputs": [
        {
          "output_type": "display_data",
          "data": {
            "image/png": "[encoded data removed]",
            "text/plain": [
              "<Figure size 432x288 with 1 Axes>"
            ]
          },
          "metadata": {
            "needs_background": "light"
          }
        }
      ]
    },
    {
      "cell_type": "markdown",
      "metadata": {
        "id": "60JWEmpn6zQJ"
      },
      "source": [
        "### **Step 4: Split the Dataset**"
      ]
    },
    {
      "cell_type": "code",
      "metadata": {
        "id": "nGYLRa3x64Q_"
      },
      "source": [
        "x_train, x_test, y_train, y_test = train_test_split(x, y, test_size=0.2, random_state=1)"
      ],
      "execution_count": null,
      "outputs": []
    },
    {
      "cell_type": "markdown",
      "metadata": {
        "id": "y5wMVRtpkvo2"
      },
      "source": [
        "## **Step 5: Perform Logistic Regression**"
      ]
    },
    {
      "cell_type": "code",
      "source": [
        "log_reg = LogisticRegression()\n",
        "log_reg.fit(x_train, y_train)\n",
        "print(log_reg.coef_)\n",
        "print(log_reg.intercept_)"
      ],
      "metadata": {
        "id": "vQ7y0VxoPjhr",
        "colab": {
          "base_uri": "https://localhost:8080/"
        },
        "outputId": "cf18f0b7-1735-4cae-dffd-225131c77e1c"
      },
      "execution_count": null,
      "outputs": [
        {
          "output_type": "stream",
          "name": "stdout",
          "text": [
            "[[3.17680316]]\n",
            "[-0.06008168]\n"
          ]
        }
      ]
    },
    {
      "cell_type": "markdown",
      "metadata": {
        "id": "a2FdlRkWlGhd"
      },
      "source": [
        "### **Step 6: Make prediction using the model**"
      ]
    },
    {
      "cell_type": "code",
      "metadata": {
        "id": "-loRD7Chkx2u"
      },
      "source": [
        "y_pred = log_reg.predict(x_test)"
      ],
      "execution_count": null,
      "outputs": []
    },
    {
      "cell_type": "markdown",
      "metadata": {
        "id": "5u43h3GllJL5"
      },
      "source": [
        "\n",
        "\n",
        "```\n",
        "# This is formatted as code\n",
        "```\n",
        "\n",
        "### **Step 7: Display the Confusion Matrix**"
      ]
    },
    {
      "cell_type": "code",
      "metadata": {
        "id": "DCkW1c_fk0ZB",
        "colab": {
          "base_uri": "https://localhost:8080/"
        },
        "outputId": "fc3ea3b3-708a-4010-a520-20bbab3f956a"
      },
      "source": [
        "confusion_matrix(y_test, y_pred)"
      ],
      "execution_count": null,
      "outputs": [
        {
          "output_type": "execute_result",
          "data": {
            "text/plain": [
              "array([[11,  1],\n",
              "       [ 0,  8]])"
            ]
          },
          "metadata": {},
          "execution_count": 28
        }
      ]
    },
    {
      "cell_type": "markdown",
      "metadata": {
        "id": "ftLHUDWWmAyC"
      },
      "source": [
        "\n",
        "\n",
        "```\n",
        "# This is formatted as code\n",
        "```\n",
        "\n",
        "## We can deduce from the confusion matrix that:\n",
        "\n",
        "# True positive: (upper-left) – Number of positives we predicted correctly\n",
        "# True negative: (lower-right) – Number of negatives we predicted correctly\n",
        "# False positive: (top-right) – Number of positives we predicted wrongly\n",
        "# False negative: (lower-left) – Number of negatives we predicted wrongly"
      ]
    }
  ]
}