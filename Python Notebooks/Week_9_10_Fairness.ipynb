{
  "nbformat": 4,
  "nbformat_minor": 0,
  "metadata": {
    "colab": {
      "provenance": [],
      "toc_visible": true
    },
    "kernelspec": {
      "name": "python3",
      "display_name": "Python 3"
    }
  },
  "cells": [
    {
      "cell_type": "markdown",
      "metadata": {
        "id": "QJueeGboY54a"
      },
      "source": [
        "# Prerequisites\n",
        "\n",
        "- Understanding of the classifiers we have discussed in class"
      ]
    },
    {
      "cell_type": "markdown",
      "metadata": {
        "id": "dN0Yd-A2Y0DL"
      },
      "source": [
        "# Imports, Loading Functions, and Downloading Data"
      ]
    },
    {
      "cell_type": "code",
      "metadata": {
        "id": "3Q6N3VROefnK"
      },
      "source": [
        "import math\n",
        "import pandas as pd\n",
        "import numpy as np\n",
        "import matplotlib.pyplot as plt\n",
        "from scipy import stats\n",
        "from datetime import datetime\n",
        "\n",
        "from sklearn.metrics import accuracy_score, precision_score, recall_score, cohen_kappa_score, confusion_matrix, f1_score, ConfusionMatrixDisplay\n",
        "from sklearn.linear_model import LogisticRegression\n",
        "from sklearn.tree import DecisionTreeClassifier\n",
        "from sklearn.naive_bayes import BernoulliNB, ComplementNB, GaussianNB, MultinomialNB \n",
        "from sklearn.svm import LinearSVC, SVC\n",
        "from sklearn.neural_network import MLPClassifier\n",
        "from sklearn.linear_model import Perceptron\n",
        "from sklearn.ensemble import RandomForestClassifier, BaggingClassifier\n",
        "from sklearn.model_selection import train_test_split, KFold, StratifiedKFold\n",
        "\n",
        "from sklearn.exceptions import ConvergenceWarning, UndefinedMetricWarning"
      ],
      "execution_count": null,
      "outputs": []
    },
    {
      "cell_type": "code",
      "metadata": {
        "id": "wBDzIYiTQX32"
      },
      "source": [
        "\"\"\"\n",
        "Options for noisy: \"loud\", \"quiet\", and other. Any other value prints nothing (silent).\n",
        "\"\"\"\n",
        "# Start by defining a function to evaluate a classifier's predictions\n",
        "def evaluate(y_pred, y_actual, metrics, model_name = 'model'):\n",
        "    # Compute Confusion Matrix\n",
        "    conf_matrix = confusion_matrix(y_actual, y_pred)\n",
        "\n",
        "    # Compute and store each metric\n",
        "    model_metrics = {}\n",
        "    for (metric_name, metric) in metrics.items():\n",
        "        result = metric(y_actual, y_pred)\n",
        "        model_metrics[metric_name] = result\n",
        "\n",
        "    return conf_matrix, model_metrics\n",
        "\n",
        "# Then define a function that trains a classifier and evaluates it on one fold\n",
        "def evaluate_one_fold(classifier_name, classifier, X_train, y_train, X_test, y_test, metrics, fold_num, noisy = 'loud', labels=[]):\n",
        "\n",
        "    # Train and Evaluate Model\n",
        "    model = classifier.fit(X_train, y_train)\n",
        "    y_pred = model.predict(X_test)\n",
        "    conf_matrix, model_metrics = evaluate(y_pred, y_test, metrics, model_name = classifier_name)\n",
        "\n",
        "    # Display Results appropriately when noisy is set to 'loud' or 'quiet'\n",
        "    if noisy == 'quiet' and fold_num == 0:\n",
        "        print(f\"{classifier_name}: Fold {fold_num}\", end = '')\n",
        "    elif noisy == 'quiet':\n",
        "        print(f'...{fold_num}', end ='')\n",
        "    elif noisy == 'loud':\n",
        "        print(f\"{classifier_name}: Fold {fold_num} Results\")\n",
        "        ConfusionMatrixDisplay(conf_matrix, labels).plot(values_format='.4g')\n",
        "        plt.show()\n",
        "        print(model_metrics)\n",
        "        print(\"------------------------\")\n",
        "\n",
        "    return model_metrics\n",
        "\n",
        "# Then define a function to evaluate over all folds\n",
        "def evaluate_all_folds(classifier_name, classifier, X, y, kf, metrics, noisy = 'loud', labels=[]):\n",
        "\n",
        "    # Initialize tracking variables\n",
        "    all_fold_metrics = {metric_name: [] for metric_name in metrics}\n",
        "\n",
        "    # Iterate over each fold\n",
        "    for fold_num, (train_index, test_index) in enumerate(kf.split(X, y)):\n",
        "        # Get the data subset for the current fold\n",
        "        X_train = X.iloc[train_index]\n",
        "        X_test = X.iloc[test_index]\n",
        "        y_train = y.iloc[train_index]\n",
        "        y_test = y.iloc[test_index]\n",
        "\n",
        "        # Train and Evaluate the Model\n",
        "        model_metrics =  evaluate_one_fold(classifier_name, classifier, X_train, y_train, X_test, y_test, metrics, fold_num, noisy, labels=labels)\n",
        "\n",
        "        # Update our tracking variables\n",
        "        [all_fold_metrics[metric_name].append(metric_val) for metric_name, metric_val in model_metrics.items()]\n",
        "\n",
        "    return all_fold_metrics\n",
        "\n",
        "#Dont worry about these two lines\n",
        "# Then define a function to compare different classifiers\n",
        "def compare_classifiers(classifiers, metrics, metric_to_optimize, df, feature_set,\n",
        "                        target, folds = 10, shuffle = True, noisy='loud', labels=[]):\n",
        "    # Initialize tracking variables\n",
        "    best = 0\n",
        "    best_name = None\n",
        "    classifier_comparison = {}\n",
        "\n",
        "    # Set up dataset and cross validation\n",
        "    X = df.loc[:, feature_set]\n",
        "    X = pd.get_dummies(X)\n",
        "    y = df[target]\n",
        "    kf = StratifiedKFold(n_splits=folds, shuffle=shuffle)\n",
        "\n",
        "\n",
        "    # For each classifier\n",
        "    for classifier_name, classifier in classifiers.items():\n",
        "        # Evaluate on all metrics for all folds\n",
        "        all_fold_metrics = evaluate_all_folds(classifier_name, classifier, X, y, kf, metrics, noisy = noisy, labels=labels)\n",
        "\n",
        "        # Compute average performance on metric to optimize over\n",
        "        optimization_metric_avg = np.mean(all_fold_metrics[metric_to_optimize])\n",
        "\n",
        "        # Update Tracking Variables\n",
        "        if optimization_metric_avg > best:\n",
        "            best = optimization_metric_avg\n",
        "            best_name = classifier_name\n",
        "        classifier_comparison[classifier_name] = all_fold_metrics\n",
        "        if noisy == 'quiet': \n",
        "            print()\n",
        "            print(f\"Average {metric_to_optimize}: {optimization_metric_avg:.3f}\")\n",
        "            print('-------------')\n",
        "    # Return our results\n",
        "    return best, best_name, classifier_comparison\n",
        "    "
      ],
      "execution_count": null,
      "outputs": []
    },
    {
      "cell_type": "code",
      "metadata": {
        "id": "Yrbhcql_ftC3",
        "outputId": "d18db057-ee60-492c-a1a3-25adf88988eb",
        "colab": {
          "base_uri": "https://localhost:8080/"
        }
      },
      "source": [
        "!wget --no-check-certificate 'https://drive.google.com/uc?export=download&id=1YHCYjo69dGYhkBcdft6u6xEqUH6GnU02' -O compas.csv"
      ],
      "execution_count": null,
      "outputs": [
        {
          "output_type": "stream",
          "name": "stdout",
          "text": [
            "--2022-03-28 15:55:17--  https://drive.google.com/uc?export=download&id=1YHCYjo69dGYhkBcdft6u6xEqUH6GnU02\n",
            "Resolving drive.google.com (drive.google.com)... 142.250.141.113, 142.250.141.102, 142.250.141.139, ...\n",
            "Connecting to drive.google.com (drive.google.com)|142.250.141.113|:443... connected.\n",
            "HTTP request sent, awaiting response... 303 See Other\n",
            "Location: https://doc-0o-b0-docs.googleusercontent.com/docs/securesc/ha0ro937gcuc7l7deffksulhg5h7mbp1/83kselaq5r5ggobe8s275ck5196895qm/1648482900000/09640029349513786515/*/1YHCYjo69dGYhkBcdft6u6xEqUH6GnU02?e=download [following]\n",
            "Warning: wildcards not supported in HTTP.\n",
            "--2022-03-28 15:55:18--  https://doc-0o-b0-docs.googleusercontent.com/docs/securesc/ha0ro937gcuc7l7deffksulhg5h7mbp1/83kselaq5r5ggobe8s275ck5196895qm/1648482900000/09640029349513786515/*/1YHCYjo69dGYhkBcdft6u6xEqUH6GnU02?e=download\n",
            "Resolving doc-0o-b0-docs.googleusercontent.com (doc-0o-b0-docs.googleusercontent.com)... 142.250.141.132, 2607:f8b0:4023:c0b::84\n",
            "Connecting to doc-0o-b0-docs.googleusercontent.com (doc-0o-b0-docs.googleusercontent.com)|142.250.141.132|:443... connected.\n",
            "HTTP request sent, awaiting response... 200 OK\n",
            "Length: 2546489 (2.4M) [text/csv]\n",
            "Saving to: ‘compas.csv’\n",
            "\n",
            "compas.csv          100%[===================>]   2.43M  12.6MB/s    in 0.2s    \n",
            "\n",
            "2022-03-28 15:55:19 (12.6 MB/s) - ‘compas.csv’ saved [2546489/2546489]\n",
            "\n"
          ]
        }
      ]
    },
    {
      "cell_type": "markdown",
      "metadata": {
        "id": "ShffiFywfuDo"
      },
      "source": [
        "# Getting to know the data (COMPAS)\n",
        "Before we do anything else today, let's get acquainted with this new dataset. COMPAS is a dataset on how well an algorithm predicts recidivism - the tendency of a convicted criminal to reoffend.\n",
        "\n",
        "COMPAS (Correctional Offender Management Profiling for Alternative Sanctions) is a popular commercial algorithm used by judges and parole officers for scoring criminal defendant’s likelihood of reoffending (recidivism). It has been shown that the algorithm is biased in favor of white defendants, and against black inmates, based on a 2 year follow up study (i.e who actually committed crimes or violent crimes after 2 years). The pattern of mistakes, as measured by precision/sensitivity is notable.\n",
        "\n",
        "Data contains variables used by the COMPAS algorithm in scoring defendants, along with their outcomes within 2 years of the decision, for over 10,000 criminal defendants in Broward County, Florida. \n",
        "\n",
        "[More on the data](https://www.kaggle.com/danofer/compass#cox-violent-parsed.csv)"
      ]
    },
    {
      "cell_type": "code",
      "metadata": {
        "id": "GVI8097dfwug",
        "outputId": "cc871b58-2887-44f8-99c3-4c41f18553b8",
        "colab": {
          "base_uri": "https://localhost:8080/",
          "height": 490
        }
      },
      "source": [
        "# First lets load COMPAS and perform some preprocessing of the table\n",
        "compas = pd.read_csv(\"compas.csv\")\n",
        "compas = compas.loc[compas.days_b_screening_arrest < 30]\n",
        "compas = compas.loc[compas.days_b_screening_arrest > -30]\n",
        "compas = compas.loc[compas.c_charge_degree != \"O\"]\n",
        "\n",
        "# Summary statistics of compas data\n",
        "compas[\"in_date\"] = compas[\"c_jail_in\"].apply(lambda x: datetime.strptime(x, '%Y-%m-%d %H:%M:%S'))\n",
        "compas[\"out_date\"] = compas[\"c_jail_out\"].apply(lambda x: datetime.strptime(x, '%Y-%m-%d %H:%M:%S'))\n",
        "compas[\"length_of_stay\"] = compas[\"out_date\"] - compas[\"in_date\"]\n",
        "\n",
        "# After processing, we have 6159 samples of 56 features\n",
        "print(compas.shape)\n",
        "\n",
        "# Let's also look at the raw data\n",
        "compas.head()"
      ],
      "execution_count": null,
      "outputs": [
        {
          "output_type": "stream",
          "name": "stdout",
          "text": [
            "(6159, 56)\n"
          ]
        },
        {
          "output_type": "execute_result",
          "data": {
            "text/plain": [
              "   id              name   first       last compas_screening_date   sex  \\\n",
              "0   1  miguel hernandez  miguel  hernandez            2013-08-14  Male   \n",
              "1   3       kevon dixon   kevon      dixon            2013-01-27  Male   \n",
              "2   4          ed philo      ed      philo            2013-04-14  Male   \n",
              "5   7      marsha miles  marsha      miles            2013-11-30  Male   \n",
              "6   8     edward riddle  edward     riddle            2014-02-19  Male   \n",
              "\n",
              "          dob  age          age_cat              race  ...  in_custody  \\\n",
              "0  1947-04-18   69  Greater than 45             Other  ...  2014-07-07   \n",
              "1  1982-01-22   34          25 - 45  African-American  ...  2013-01-26   \n",
              "2  1991-05-14   24     Less than 25  African-American  ...  2013-06-16   \n",
              "5  1971-08-22   44          25 - 45             Other  ...  2013-11-30   \n",
              "6  1974-07-23   41          25 - 45         Caucasian  ...  2014-03-31   \n",
              "\n",
              "   out_custody  priors_count.1  start  end  event two_year_recid  \\\n",
              "0   2014-07-14               0      0  327      0              0   \n",
              "1   2013-02-05               0      9  159      1              1   \n",
              "2   2013-06-16               4      0   63      0              1   \n",
              "5   2013-12-01               0      1  853      0              0   \n",
              "6   2014-04-18              14      5   40      1              1   \n",
              "\n",
              "              in_date            out_date   length_of_stay  \n",
              "0 2013-08-13 06:03:42 2013-08-14 05:41:20  0 days 23:37:38  \n",
              "1 2013-01-26 03:45:27 2013-02-05 05:36:53 10 days 01:51:26  \n",
              "2 2013-04-13 04:58:34 2013-04-14 07:02:04  1 days 02:03:30  \n",
              "5 2013-11-30 04:50:18 2013-12-01 12:28:56  1 days 07:38:38  \n",
              "6 2014-02-18 05:08:24 2014-02-24 12:18:30  6 days 07:10:06  \n",
              "\n",
              "[5 rows x 56 columns]"
            ],
            "text/html": [
              "\n",
              "  <div id=\"df-33084bc1-fa26-4e90-aba9-5f07d1803c7d\">\n",
              "    <div class=\"colab-df-container\">\n",
              "      <div>\n",
              "<style scoped>\n",
              "    .dataframe tbody tr th:only-of-type {\n",
              "        vertical-align: middle;\n",
              "    }\n",
              "\n",
              "    .dataframe tbody tr th {\n",
              "        vertical-align: top;\n",
              "    }\n",
              "\n",
              "    .dataframe thead th {\n",
              "        text-align: right;\n",
              "    }\n",
              "</style>\n",
              "<table border=\"1\" class=\"dataframe\">\n",
              "  <thead>\n",
              "    <tr style=\"text-align: right;\">\n",
              "      <th></th>\n",
              "      <th>id</th>\n",
              "      <th>name</th>\n",
              "      <th>first</th>\n",
              "      <th>last</th>\n",
              "      <th>compas_screening_date</th>\n",
              "      <th>sex</th>\n",
              "      <th>dob</th>\n",
              "      <th>age</th>\n",
              "      <th>age_cat</th>\n",
              "      <th>race</th>\n",
              "      <th>...</th>\n",
              "      <th>in_custody</th>\n",
              "      <th>out_custody</th>\n",
              "      <th>priors_count.1</th>\n",
              "      <th>start</th>\n",
              "      <th>end</th>\n",
              "      <th>event</th>\n",
              "      <th>two_year_recid</th>\n",
              "      <th>in_date</th>\n",
              "      <th>out_date</th>\n",
              "      <th>length_of_stay</th>\n",
              "    </tr>\n",
              "  </thead>\n",
              "  <tbody>\n",
              "    <tr>\n",
              "      <th>0</th>\n",
              "      <td>1</td>\n",
              "      <td>miguel hernandez</td>\n",
              "      <td>miguel</td>\n",
              "      <td>hernandez</td>\n",
              "      <td>2013-08-14</td>\n",
              "      <td>Male</td>\n",
              "      <td>1947-04-18</td>\n",
              "      <td>69</td>\n",
              "      <td>Greater than 45</td>\n",
              "      <td>Other</td>\n",
              "      <td>...</td>\n",
              "      <td>2014-07-07</td>\n",
              "      <td>2014-07-14</td>\n",
              "      <td>0</td>\n",
              "      <td>0</td>\n",
              "      <td>327</td>\n",
              "      <td>0</td>\n",
              "      <td>0</td>\n",
              "      <td>2013-08-13 06:03:42</td>\n",
              "      <td>2013-08-14 05:41:20</td>\n",
              "      <td>0 days 23:37:38</td>\n",
              "    </tr>\n",
              "    <tr>\n",
              "      <th>1</th>\n",
              "      <td>3</td>\n",
              "      <td>kevon dixon</td>\n",
              "      <td>kevon</td>\n",
              "      <td>dixon</td>\n",
              "      <td>2013-01-27</td>\n",
              "      <td>Male</td>\n",
              "      <td>1982-01-22</td>\n",
              "      <td>34</td>\n",
              "      <td>25 - 45</td>\n",
              "      <td>African-American</td>\n",
              "      <td>...</td>\n",
              "      <td>2013-01-26</td>\n",
              "      <td>2013-02-05</td>\n",
              "      <td>0</td>\n",
              "      <td>9</td>\n",
              "      <td>159</td>\n",
              "      <td>1</td>\n",
              "      <td>1</td>\n",
              "      <td>2013-01-26 03:45:27</td>\n",
              "      <td>2013-02-05 05:36:53</td>\n",
              "      <td>10 days 01:51:26</td>\n",
              "    </tr>\n",
              "    <tr>\n",
              "      <th>2</th>\n",
              "      <td>4</td>\n",
              "      <td>ed philo</td>\n",
              "      <td>ed</td>\n",
              "      <td>philo</td>\n",
              "      <td>2013-04-14</td>\n",
              "      <td>Male</td>\n",
              "      <td>1991-05-14</td>\n",
              "      <td>24</td>\n",
              "      <td>Less than 25</td>\n",
              "      <td>African-American</td>\n",
              "      <td>...</td>\n",
              "      <td>2013-06-16</td>\n",
              "      <td>2013-06-16</td>\n",
              "      <td>4</td>\n",
              "      <td>0</td>\n",
              "      <td>63</td>\n",
              "      <td>0</td>\n",
              "      <td>1</td>\n",
              "      <td>2013-04-13 04:58:34</td>\n",
              "      <td>2013-04-14 07:02:04</td>\n",
              "      <td>1 days 02:03:30</td>\n",
              "    </tr>\n",
              "    <tr>\n",
              "      <th>5</th>\n",
              "      <td>7</td>\n",
              "      <td>marsha miles</td>\n",
              "      <td>marsha</td>\n",
              "      <td>miles</td>\n",
              "      <td>2013-11-30</td>\n",
              "      <td>Male</td>\n",
              "      <td>1971-08-22</td>\n",
              "      <td>44</td>\n",
              "      <td>25 - 45</td>\n",
              "      <td>Other</td>\n",
              "      <td>...</td>\n",
              "      <td>2013-11-30</td>\n",
              "      <td>2013-12-01</td>\n",
              "      <td>0</td>\n",
              "      <td>1</td>\n",
              "      <td>853</td>\n",
              "      <td>0</td>\n",
              "      <td>0</td>\n",
              "      <td>2013-11-30 04:50:18</td>\n",
              "      <td>2013-12-01 12:28:56</td>\n",
              "      <td>1 days 07:38:38</td>\n",
              "    </tr>\n",
              "    <tr>\n",
              "      <th>6</th>\n",
              "      <td>8</td>\n",
              "      <td>edward riddle</td>\n",
              "      <td>edward</td>\n",
              "      <td>riddle</td>\n",
              "      <td>2014-02-19</td>\n",
              "      <td>Male</td>\n",
              "      <td>1974-07-23</td>\n",
              "      <td>41</td>\n",
              "      <td>25 - 45</td>\n",
              "      <td>Caucasian</td>\n",
              "      <td>...</td>\n",
              "      <td>2014-03-31</td>\n",
              "      <td>2014-04-18</td>\n",
              "      <td>14</td>\n",
              "      <td>5</td>\n",
              "      <td>40</td>\n",
              "      <td>1</td>\n",
              "      <td>1</td>\n",
              "      <td>2014-02-18 05:08:24</td>\n",
              "      <td>2014-02-24 12:18:30</td>\n",
              "      <td>6 days 07:10:06</td>\n",
              "    </tr>\n",
              "  </tbody>\n",
              "</table>\n",
              "<p>5 rows × 56 columns</p>\n",
              "</div>\n",
              "      <button class=\"colab-df-convert\" onclick=\"convertToInteractive('df-33084bc1-fa26-4e90-aba9-5f07d1803c7d')\"\n",
              "              title=\"Convert this dataframe to an interactive table.\"\n",
              "              style=\"display:none;\">\n",
              "        \n",
              "  <svg xmlns=\"http://www.w3.org/2000/svg\" height=\"24px\"viewBox=\"0 0 24 24\"\n",
              "       width=\"24px\">\n",
              "    <path d=\"M0 0h24v24H0V0z\" fill=\"none\"/>\n",
              "    <path d=\"M18.56 5.44l.94 2.06.94-2.06 2.06-.94-2.06-.94-.94-2.06-.94 2.06-2.06.94zm-11 1L8.5 8.5l.94-2.06 2.06-.94-2.06-.94L8.5 2.5l-.94 2.06-2.06.94zm10 10l.94 2.06.94-2.06 2.06-.94-2.06-.94-.94-2.06-.94 2.06-2.06.94z\"/><path d=\"M17.41 7.96l-1.37-1.37c-.4-.4-.92-.59-1.43-.59-.52 0-1.04.2-1.43.59L10.3 9.45l-7.72 7.72c-.78.78-.78 2.05 0 2.83L4 21.41c.39.39.9.59 1.41.59.51 0 1.02-.2 1.41-.59l7.78-7.78 2.81-2.81c.8-.78.8-2.07 0-2.86zM5.41 20L4 18.59l7.72-7.72 1.47 1.35L5.41 20z\"/>\n",
              "  </svg>\n",
              "      </button>\n",
              "      \n",
              "  <style>\n",
              "    .colab-df-container {\n",
              "      display:flex;\n",
              "      flex-wrap:wrap;\n",
              "      gap: 12px;\n",
              "    }\n",
              "\n",
              "    .colab-df-convert {\n",
              "      background-color: #E8F0FE;\n",
              "      border: none;\n",
              "      border-radius: 50%;\n",
              "      cursor: pointer;\n",
              "      display: none;\n",
              "      fill: #1967D2;\n",
              "      height: 32px;\n",
              "      padding: 0 0 0 0;\n",
              "      width: 32px;\n",
              "    }\n",
              "\n",
              "    .colab-df-convert:hover {\n",
              "      background-color: #E2EBFA;\n",
              "      box-shadow: 0px 1px 2px rgba(60, 64, 67, 0.3), 0px 1px 3px 1px rgba(60, 64, 67, 0.15);\n",
              "      fill: #174EA6;\n",
              "    }\n",
              "\n",
              "    [theme=dark] .colab-df-convert {\n",
              "      background-color: #3B4455;\n",
              "      fill: #D2E3FC;\n",
              "    }\n",
              "\n",
              "    [theme=dark] .colab-df-convert:hover {\n",
              "      background-color: #434B5C;\n",
              "      box-shadow: 0px 1px 3px 1px rgba(0, 0, 0, 0.15);\n",
              "      filter: drop-shadow(0px 1px 2px rgba(0, 0, 0, 0.3));\n",
              "      fill: #FFFFFF;\n",
              "    }\n",
              "  </style>\n",
              "\n",
              "      <script>\n",
              "        const buttonEl =\n",
              "          document.querySelector('#df-33084bc1-fa26-4e90-aba9-5f07d1803c7d button.colab-df-convert');\n",
              "        buttonEl.style.display =\n",
              "          google.colab.kernel.accessAllowed ? 'block' : 'none';\n",
              "\n",
              "        async function convertToInteractive(key) {\n",
              "          const element = document.querySelector('#df-33084bc1-fa26-4e90-aba9-5f07d1803c7d');\n",
              "          const dataTable =\n",
              "            await google.colab.kernel.invokeFunction('convertToInteractive',\n",
              "                                                     [key], {});\n",
              "          if (!dataTable) return;\n",
              "\n",
              "          const docLinkHtml = 'Like what you see? Visit the ' +\n",
              "            '<a target=\"_blank\" href=https://colab.research.google.com/notebooks/data_table.ipynb>data table notebook</a>'\n",
              "            + ' to learn more about interactive tables.';\n",
              "          element.innerHTML = '';\n",
              "          dataTable['output_type'] = 'display_data';\n",
              "          await google.colab.output.renderOutput(dataTable, element);\n",
              "          const docLink = document.createElement('div');\n",
              "          docLink.innerHTML = docLinkHtml;\n",
              "          element.appendChild(docLink);\n",
              "        }\n",
              "      </script>\n",
              "    </div>\n",
              "  </div>\n",
              "  "
            ]
          },
          "metadata": {},
          "execution_count": 21
        }
      ]
    },
    {
      "cell_type": "code",
      "metadata": {
        "id": "Fi0b4Oy0WMH7",
        "outputId": "054d7e33-9fb0-4b2f-809b-5bab3dca2f90",
        "colab": {
          "base_uri": "https://localhost:8080/"
        }
      },
      "source": [
        "# Let's see the distribution of the score_test column\n",
        "print(compas.score_text.value_counts())\n",
        "\n",
        "print(compas.decile_score.value_counts())"
      ],
      "execution_count": null,
      "outputs": [
        {
          "output_type": "stream",
          "name": "stdout",
          "text": [
            "Low       3414\n",
            "Medium    1604\n",
            "High      1141\n",
            "Name: score_text, dtype: int64\n",
            "1     1283\n",
            "2      820\n",
            "4      665\n",
            "3      646\n",
            "5      581\n",
            "6      527\n",
            "7      496\n",
            "8      419\n",
            "9      418\n",
            "10     304\n",
            "Name: decile_score, dtype: int64\n"
          ]
        }
      ]
    },
    {
      "cell_type": "markdown",
      "metadata": {
        "id": "qtnMDN-sabSp"
      },
      "source": [
        "Let's also get some summary statistics to better understand the data. In the following cells we will briefly explore these relations:\n",
        "\n",
        "- The distribution of race in the data\n",
        "- The distribution of gender in the data\n",
        "- The distribution of recidivism outcomes in the data"
      ]
    },
    {
      "cell_type": "code",
      "metadata": {
        "id": "m8KyzhRDArSS",
        "outputId": "c2949720-09bf-4bf0-e346-6feda3238377",
        "colab": {
          "base_uri": "https://localhost:8080/"
        }
      },
      "source": [
        "print(\"Distribution of Race\")\n",
        "print(compas.race.value_counts() / len(compas))\n",
        "print()\n",
        "\n",
        "print(\"Distribution of Gender\")\n",
        "print(compas.sex.value_counts() / len(compas))\n",
        "print()\n",
        "\n",
        "print(\"Distrubtion of Recidivism Outcomes\")\n",
        "print(compas.two_year_recid.value_counts() / len(compas))\n",
        "print()"
      ],
      "execution_count": null,
      "outputs": [
        {
          "output_type": "stream",
          "name": "stdout",
          "text": [
            "Distribution of Race\n",
            "African-American    0.515019\n",
            "Caucasian           0.340153\n",
            "Hispanic            0.082481\n",
            "Other               0.055528\n",
            "Asian               0.005033\n",
            "Native American     0.001786\n",
            "Name: race, dtype: float64\n",
            "\n",
            "Distribution of Gender\n",
            "Male      0.810034\n",
            "Female    0.189966\n",
            "Name: sex, dtype: float64\n",
            "\n",
            "Distrubtion of Recidivism Outcomes\n",
            "0    0.544894\n",
            "1    0.455106\n",
            "Name: two_year_recid, dtype: float64\n",
            "\n"
          ]
        }
      ]
    },
    {
      "cell_type": "markdown",
      "metadata": {
        "id": "n8fUT-WwAJCZ"
      },
      "source": [
        "Next, let's get some quick statistics on the length of stay of the average defendant; this will come into play again later in the notebook."
      ]
    },
    {
      "cell_type": "markdown",
      "metadata": {
        "id": "98Pd8b1Jf3Dt"
      },
      "source": [
        "# Fairness Auditing\n",
        "\n",
        "One of the main goals of today is to get you thinking about the dangers of using machine learning -- especially in tasks that have huge human impact. Machine models are almost always imperfect, as they are filled with the biases of the data they are trained on and the people who develop them. It is important that we take care to make sure the models that we develop or train are providing positive value to the world and are not doing harm.\n",
        "\n",
        "One of the important aspects of this is to make sure that our models are not worsening inequalities that already exist -- which is incredibly common as these inequalities are often represented in the data and the models will often exaggerate these properties as they are easy to use to improve prediction accuracy. One way that we can try to avoid introducing unfair models into a sensitive task is to perform fairness audits. \n",
        "\n",
        "In the next cells we will examine how the COMPAS algorithm performs significantly worse on certain groups in a way that is unfair -- and in a context that has large potential impact on a person's life. Remember, the output of this COMPAS algorithm is considered by judges before deciding whether to allow people to go on parole. \n",
        "\n",
        "Let's start by comparing the distributions in the decile_scores predicted by the algorithm for all African-American individuals and all Caucasian individuals in the datset. \n",
        "\n",
        "[Resource on Fairness](https://towardsdatascience.com/a-tutorial-on-fairness-in-machine-learning-3ff8ba1040cb)\n",
        "\n",
        "[Talk on Fairness](https://youtu.be/WC1kPtG8Iz8)"
      ]
    },
    {
      "cell_type": "markdown",
      "metadata": {
        "id": "o6C4celDb5q5"
      },
      "source": [
        "## Demographic Parity\n",
        "\n",
        "The first definition of fairness that we could choose to use is based on distribution of scores. We can see how many members of each demographic subgroup get assigned each label from the classifier, and under this naive definition, the model is unfair if the rates are not balanced.\n",
        "\n",
        "This is overly simplistic but it gives us a starting point for understanding our data."
      ]
    },
    {
      "cell_type": "code",
      "metadata": {
        "id": "482oW1V-BVaJ",
        "outputId": "87a506d8-58ff-40b3-aab8-77723ca26798",
        "colab": {
          "base_uri": "https://localhost:8080/",
          "height": 573
        }
      },
      "source": [
        "plt.title(\"Risk Scores for African-Americans\")\n",
        "black = compas.loc[compas.race == \"African-American\"]\n",
        "plt.hist(black.decile_score)\n",
        "plt.xlabel(\"Risk score\")\n",
        "plt.ylabel(\"Count in training data\")\n",
        "plt.show()\n",
        "\n",
        "plt.title(\"Risk Scores for Caucasians\")\n",
        "white = compas.loc[compas.race == \"Caucasian\"]\n",
        "plt.hist(white.decile_score)\n",
        "plt.xlabel(\"Risk score\")\n",
        "plt.ylabel(\"Count in training data\")\n",
        "plt.show()"
      ],
      "execution_count": null,
      "outputs": [
        {
          "output_type": "display_data",
          "data": {
            "text/plain": [
              "<Figure size 432x288 with 1 Axes>"
            ],
            "image/png": "[encoded data removed]"
          },
          "metadata": {
            "needs_background": "light"
          }
        },
        {
          "output_type": "display_data",
          "data": {
            "text/plain": [
              "<Figure size 432x288 with 1 Axes>"
            ],
            "image/png": "[encoded data removed]"
          },
          "metadata": {
            "needs_background": "light"
          }
        }
      ]
    },
    {
      "cell_type": "markdown",
      "metadata": {
        "id": "WQ-65K93coOO"
      },
      "source": [
        "## Prevalence \n",
        "This is complicated to analyze, though, because we don't have a good sense of pre-existing baseline distributions in the dataset. \n",
        "\n",
        "One simple early test is to start by counting the percentage of each race in the dataset, then seeing whether the distribution changes at each risk score.\n",
        "\n",
        "But this doesn't tell us much about the world outside of the classifier, making it an imperfect measure."
      ]
    },
    {
      "cell_type": "code",
      "metadata": {
        "id": "L7hF8u0sc4u_",
        "outputId": "1636dbeb-b10f-4fec-9211-4a98428d4b95",
        "colab": {
          "base_uri": "https://localhost:8080/",
          "height": 698
        }
      },
      "source": [
        "print(\"Distribution of Race\")\n",
        "print(compas.race.value_counts() / len(compas))\n",
        "print()\n",
        "\n",
        "plt.bar(range(1,11), black.decile_score.value_counts())\n",
        "plt.bar(range(1,11), white.decile_score.value_counts(), bottom=black.decile_score.value_counts())\n",
        "plt.legend([\"Black\", \"White\"])\n",
        "plt.xlabel(\"Decile Score\")\n",
        "plt.ylabel(\"Count in Training Data\")\n",
        "plt.show()\n",
        "\n",
        "black_pcts = black.decile_score.value_counts() / (black.decile_score.value_counts() + white.decile_score.value_counts())\n",
        "white_pcts = white.decile_score.value_counts() / (black.decile_score.value_counts() + white.decile_score.value_counts())\n",
        "\n",
        "plt.bar(range(1,11), black_pcts)\n",
        "plt.bar(range(1,11), white_pcts, bottom=black_pcts)\n",
        "plt.hlines(0.515, 0, 11)\n",
        "plt.legend([\"Black % of Training Set\", \"Black\", \"White\"])\n",
        "plt.xlabel(\"Decile Score\")\n",
        "plt.ylabel(\"Percent in Training Data\")\n",
        "plt.show()"
      ],
      "execution_count": null,
      "outputs": [
        {
          "output_type": "stream",
          "name": "stdout",
          "text": [
            "Distribution of Race\n",
            "African-American    0.515019\n",
            "Caucasian           0.340153\n",
            "Hispanic            0.082481\n",
            "Other               0.055528\n",
            "Asian               0.005033\n",
            "Native American     0.001786\n",
            "Name: race, dtype: float64\n",
            "\n"
          ]
        },
        {
          "output_type": "display_data",
          "data": {
            "text/plain": [
              "<Figure size 432x288 with 1 Axes>"
            ],
            "image/png": "[encoded data removed]"
          },
          "metadata": {
            "needs_background": "light"
          }
        },
        {
          "output_type": "display_data",
          "data": {
            "text/plain": [
              "<Figure size 432x288 with 1 Axes>"
            ],
            "image/png": "[encoded data removed]"
          },
          "metadata": {
            "needs_background": "light"
          }
        }
      ]
    },
    {
      "cell_type": "markdown",
      "metadata": {
        "id": "unxOIHmvh8Tc"
      },
      "source": [
        "We can then reproduce all of the analyses above using the three-class classification task, which gives us a clearer sense of whether the model is predicting that an individual's recidivism risk is high, medium, or low."
      ]
    },
    {
      "cell_type": "code",
      "metadata": {
        "outputId": "ec322edf-c143-44ba-dbea-84ed62a28946",
        "id": "nSsPs3Riib26",
        "colab": {
          "base_uri": "https://localhost:8080/",
          "height": 573
        }
      },
      "source": [
        "plt.title(\"Risk Scores for African-Americans\")\n",
        "black = compas.loc[compas.race == \"African-American\"]\n",
        "black_labels = black.score_text.value_counts()\n",
        "plt.bar(black_labels.index, black_labels)\n",
        "plt.xlabel(\"Risk score\")\n",
        "plt.ylabel(\"Count in training data\")\n",
        "plt.show()\n",
        "\n",
        "plt.title(\"Risk Scores for Caucasians\")\n",
        "white_labels = white.score_text.value_counts()\n",
        "plt.bar(white_labels.index, white_labels)\n",
        "plt.xlabel(\"Risk score\")\n",
        "plt.ylabel(\"Count in training data\")\n",
        "plt.show()"
      ],
      "execution_count": null,
      "outputs": [
        {
          "output_type": "display_data",
          "data": {
            "text/plain": [
              "<Figure size 432x288 with 1 Axes>"
            ],
            "image/png": "[encoded data removed]"
          },
          "metadata": {
            "needs_background": "light"
          }
        },
        {
          "output_type": "display_data",
          "data": {
            "text/plain": [
              "<Figure size 432x288 with 1 Axes>"
            ],
            "image/png": "[encoded data removed]"
          },
          "metadata": {
            "needs_background": "light"
          }
        }
      ]
    },
    {
      "cell_type": "code",
      "metadata": {
        "id": "-272-h6SD74I",
        "outputId": "9a820261-311d-447a-e58a-143f983772fa",
        "colab": {
          "base_uri": "https://localhost:8080/",
          "height": 697
        }
      },
      "source": [
        "print(\"Distribution of Race\")\n",
        "print(compas.race.value_counts() / len(compas))\n",
        "print()\n",
        "\n",
        "plt.bar(range(1,4), black.score_text.value_counts())\n",
        "plt.bar(range(1,4), white.score_text.value_counts(), bottom=black.score_text.value_counts())\n",
        "plt.legend([\"Black\", \"White\"])\n",
        "plt.xlabel(\"Risk Score\")\n",
        "plt.ylabel(\"Count in Training Data\")\n",
        "plt.show()\n",
        "\n",
        "black_pcts = black.score_text.value_counts() / (black.score_text.value_counts() + white.score_text.value_counts())\n",
        "white_pcts = white.score_text.value_counts() / (black.score_text.value_counts() + white.score_text.value_counts())\n",
        "\n",
        "plt.bar(range(1,4), black_pcts)\n",
        "plt.bar(range(1,4), white_pcts, bottom=black_pcts)\n",
        "plt.hlines(0.515, 0, 4)\n",
        "plt.legend([\"Black % of Training Set\", \"Black\", \"White\"])\n",
        "plt.xlabel(\"Risk Score\")\n",
        "plt.ylabel(\"Percent in Training Data\")\n",
        "plt.show()"
      ],
      "execution_count": null,
      "outputs": [
        {
          "output_type": "stream",
          "name": "stdout",
          "text": [
            "Distribution of Race\n",
            "African-American    0.515019\n",
            "Caucasian           0.340153\n",
            "Hispanic            0.082481\n",
            "Other               0.055528\n",
            "Asian               0.005033\n",
            "Native American     0.001786\n",
            "Name: race, dtype: float64\n",
            "\n"
          ]
        },
        {
          "output_type": "display_data",
          "data": {
            "text/plain": [
              "<Figure size 432x288 with 1 Axes>"
            ],
            "image/png": "[encoded data removed]"
          },
          "metadata": {
            "needs_background": "light"
          }
        },
        {
          "output_type": "display_data",
          "data": {
            "text/plain": [
              "<Figure size 432x288 with 1 Axes>"
            ],
            "image/png": "[encoded data removed]"
          },
          "metadata": {
            "needs_background": "light"
          }
        }
      ]
    },
    {
      "cell_type": "markdown",
      "metadata": {
        "id": "sTcp6Acjfazy"
      },
      "source": [
        "We can already see that the distributions are uneven in our data, but this is not the end of the story. In particular, one counter-argument is that the classifier may produce racial differences in classifications, but that the predictions are justified objectively by the prevalence of recidivism in the model (that is, \"black defendants really are higher risk\").\n",
        "\n",
        "Testing this hypothesis requires slightly more sophisticated analysis.\n"
      ]
    },
    {
      "cell_type": "markdown",
      "metadata": {
        "id": "kw622Mohg-A_"
      },
      "source": [
        "## Calibration\n",
        "\n",
        "We can next test the model based on *calibration*. This method was the basis for the Compas developer's defense of their system and we'll see that it gives fairly good fairness results. \n",
        "\n",
        "Normally, this would require us to have access to the probabilities of the model. But because we have a multi-class model, we have a metric for the model to be \"partially\" correct based just on its observed outputs, without direct access to the model internals. We can therefore measure the likelihood of a predicted future event and whether the model's accuracy goes up as its confidence or risk score gets higher. "
      ]
    },
    {
      "cell_type": "code",
      "metadata": {
        "id": "NTR1cxsMf34b",
        "outputId": "aaad743b-62e7-4fb6-9429-62ff41abecb8",
        "colab": {
          "base_uri": "https://localhost:8080/",
          "height": 334
        }
      },
      "source": [
        "# Model calibration - as the risk score predicted by the model goes up, \n",
        "# does the actual risk of recidivism go up for different subgroups at the\n",
        "# same rate, or does it differ?\n",
        "race_probs = []\n",
        "for race in [black, white]:\n",
        "    probs = []\n",
        "    for score in range(1,11):\n",
        "        subset = race.loc[race.decile_score == score]\n",
        "        recid = subset.loc[subset.is_recid==1]\n",
        "        prob_recid = len(recid) / len(subset)\n",
        "        probs.append(prob_recid)\n",
        "    race_probs.append(probs)\n",
        "\n",
        "fig = plt.gcf()\n",
        "fig.set_size_inches(10,5)\n",
        "plt.bar(range(1,11), race_probs[0], align='edge', width=-.4)\n",
        "plt.bar(range(1,11), race_probs[1], align='edge', width=.4)\n",
        "plt.xlabel(\"Decile Score\")\n",
        "plt.xticks(ticks=range(1,11), labels=range(1,11))\n",
        "plt.ylabel(\"% Chance of Recidivism\")\n",
        "plt.legend([\"Black\", \"White\"])\n",
        "plt.show()"
      ],
      "execution_count": null,
      "outputs": [
        {
          "output_type": "display_data",
          "data": {
            "text/plain": [
              "<Figure size 720x360 with 1 Axes>"
            ],
            "image/png": "[encoded data removed]"
          },
          "metadata": {
            "needs_background": "light"
          }
        }
      ]
    },
    {
      "cell_type": "markdown",
      "metadata": {
        "id": "0LmVtzMy1kvK"
      },
      "source": [
        "Separately, though we won't spend much time on this attribute during this class, we can also perform all of these same tests on sex instead of race. We see below, for instance, that while the model is calibrated well by race it actually is not by sex, which is less discussed in the literature on COMPAS."
      ]
    },
    {
      "cell_type": "code",
      "metadata": {
        "id": "uQZXS9y_1XWj",
        "outputId": "2d734566-da40-4243-c0bc-d999937a510d",
        "colab": {
          "base_uri": "https://localhost:8080/",
          "height": 334
        }
      },
      "source": [
        "male = compas.loc[compas.sex == \"Male\"]\n",
        "female = compas.loc[compas.sex == \"Female\"]\n",
        "\n",
        "sex_probs = []\n",
        "for sex in [male, female]:\n",
        "    probs = []\n",
        "    for score in range(1,11):\n",
        "        subset = sex.loc[sex.decile_score == score]\n",
        "        recid = subset.loc[subset.is_recid==1]\n",
        "        prob_recid = len(recid) / len(subset)\n",
        "        probs.append(prob_recid)\n",
        "    sex_probs.append(probs)\n",
        "\n",
        "fig = plt.gcf()\n",
        "fig.set_size_inches(10,5)\n",
        "plt.bar(range(1,11), sex_probs[0], align='edge', width=-.4)\n",
        "plt.bar(range(1,11), sex_probs[1], align='edge', width=.4)\n",
        "plt.xlabel(\"Decile Score\")\n",
        "plt.xticks(ticks=range(1,11), labels=range(1,11))\n",
        "plt.ylabel(\"% Chance of Recidivism\")\n",
        "plt.legend([\"Male\", \"Female\"])\n",
        "plt.show()"
      ],
      "execution_count": null,
      "outputs": [
        {
          "output_type": "display_data",
          "data": {
            "text/plain": [
              "<Figure size 720x360 with 1 Axes>"
            ],
            "image/png": "[encoded data removed]"
          },
          "metadata": {
            "needs_background": "light"
          }
        }
      ]
    },
    {
      "cell_type": "markdown",
      "metadata": {
        "id": "gRJBycDI2B24"
      },
      "source": [
        "These results show that the model is far more likely to miss high-risk female defendants, who have disproportionately high likelihood of rearrest when receiving a low risk score (this balances out at the very top end of the scale)."
      ]
    },
    {
      "cell_type": "markdown",
      "metadata": {
        "id": "W97-bXE8hmmD"
      },
      "source": [
        "## Predictive Parity\n",
        "\n",
        "\n",
        "We can look at a few more sophisticated distributions to better understand the performance of the model. Lets look at the following distributions and ask:\n",
        "\n",
        "   - If COMPAS assigns someone the Risk score X, how likely are they to commit another crime? Does it vary across races?\n",
        "\n",
        "To do this we test whether the model makes correct predictions. If we assume future recidivism is a \"correct\" label, what does our confusion matrix look like? Specifically, if we picked a risk threshold at which we said everyone with above this risk will commit a new crime, what would our accuracy be for predicting the future, and does that accuracy vary across races?"
      ]
    },
    {
      "cell_type": "code",
      "metadata": {
        "id": "tdO8qgN2kjDY",
        "outputId": "41825d5c-3b83-45e1-e12a-a593586e5de9",
        "colab": {
          "base_uri": "https://localhost:8080/",
          "height": 334
        }
      },
      "source": [
        "# Predictive Parity\n",
        "race_probs = []\n",
        "for race in [black, white]:\n",
        "  probs = []\n",
        "  for score in range(1,11):\n",
        "    subset = race.loc[race.decile_score >= score]\n",
        "    recid = subset.loc[subset.is_recid==1]\n",
        "    prob_recid = len(recid) / len(subset)\n",
        "    probs.append(prob_recid)\n",
        "  race_probs.append(probs)\n",
        "\n",
        "fig = plt.gcf()\n",
        "fig.set_size_inches(10,5)\n",
        "plt.bar(range(1,11), race_probs[0], align='edge', width=-.4)\n",
        "plt.bar(range(1,11), race_probs[1], align='edge', width=.4)\n",
        "plt.xlabel(\"Risk Threshold Cutoff\")\n",
        "plt.xticks(ticks=range(1,11), labels=range(1,11))\n",
        "plt.ylabel(\"% Chance of Recidivism\")\n",
        "plt.legend([\"Black\", \"White\"])\n",
        "plt.show()"
      ],
      "execution_count": null,
      "outputs": [
        {
          "output_type": "display_data",
          "data": {
            "text/plain": [
              "<Figure size 720x360 with 1 Axes>"
            ],
            "image/png": "[encoded data removed]"
          },
          "metadata": {
            "needs_background": "light"
          }
        }
      ]
    },
    {
      "cell_type": "markdown",
      "metadata": {
        "id": "KxSCarh-FxN0"
      },
      "source": [
        "If anything, this graph would tend to suggest that the Compas system is biased against **white** defendants. At each risk threshold cutoff, white defendants at or above that threshold are less likely to commit a later crime than black defendants."
      ]
    },
    {
      "cell_type": "markdown",
      "metadata": {
        "id": "gS6I2ncMFSL4"
      },
      "source": [
        "## Error Rate Parity"
      ]
    },
    {
      "cell_type": "code",
      "metadata": {
        "id": "2wnlI-60m-qk",
        "outputId": "2e13feb0-d871-4c0d-f683-1e70d8fb32f7",
        "colab": {
          "base_uri": "https://localhost:8080/",
          "height": 1000
        }
      },
      "source": [
        "def find_best_threshold(df, loud=True):\n",
        "  observed_outcomes = pd.Series([x==1 for x in df.is_recid])\n",
        "  compas_risks = [int(x) for x in df.decile_score]\n",
        "\n",
        "  # Set a list of metrics we want to use to compare our classifiers \n",
        "  metrics = {\n",
        "      \"Accuracy\" : lambda y,y_pred: 100*accuracy_score(y,y_pred),\n",
        "      \"Kappa\"    : cohen_kappa_score\n",
        "  }\n",
        "\n",
        "  labels = [False, True]\n",
        "  best_threshold = -1\n",
        "  best_result = -1\n",
        "  best_metrics = None\n",
        "  metric_to_optimize = \"Kappa\"\n",
        "  for threshold in range(1, 10):\n",
        "    predicted_outcomes = [x > threshold for x in compas_risks]\n",
        "    conf_matrix, model_metrics = evaluate(predicted_outcomes, observed_outcomes, metrics)\n",
        "    if loud:\n",
        "      ConfusionMatrixDisplay(conf_matrix).plot(values_format='.4g')\n",
        "      plt.title(f\"Confusion Matrix for threshold Risk>{threshold}\")\n",
        "      plt.show()\n",
        "    print(model_metrics)\n",
        "    print(\"---\")\n",
        "\n",
        "    if model_metrics[metric_to_optimize] > best_result:\n",
        "      best_threshold = threshold\n",
        "      best_result = model_metrics[metric_to_optimize]\n",
        "      best_metrics = model_metrics\n",
        "  print(f\"Best threshold result: {best_threshold}\")\n",
        "  print(f\"Best threshold metrics: {best_metrics}\")\n",
        "\n",
        "find_best_threshold(compas)\n"
      ],
      "execution_count": null,
      "outputs": [
        {
          "output_type": "display_data",
          "data": {
            "text/plain": [
              "<Figure size 432x288 with 2 Axes>"
            ],
            "image/png": "[encoded data removed]"
          },
          "metadata": {
            "needs_background": "light"
          }
        },
        {
          "output_type": "stream",
          "name": "stdout",
          "text": [
            "{'Accuracy': 59.538886182821884, 'Kappa': 0.20515747156413866}\n",
            "---\n"
          ]
        },
        {
          "output_type": "display_data",
          "data": {
            "text/plain": [
              "<Figure size 432x288 with 2 Axes>"
            ],
            "image/png": "[encoded data removed]"
          },
          "metadata": {
            "needs_background": "light"
          }
        },
        {
          "output_type": "stream",
          "name": "stdout",
          "text": [
            "{'Accuracy': 63.46809547004384, 'Kappa': 0.2764767908697221}\n",
            "---\n"
          ]
        },
        {
          "output_type": "display_data",
          "data": {
            "text/plain": [
              "<Figure size 432x288 with 2 Axes>"
            ],
            "image/png": "[encoded data removed]"
          },
          "metadata": {
            "needs_background": "light"
          }
        },
        {
          "output_type": "stream",
          "name": "stdout",
          "text": [
            "{'Accuracy': 65.22162688748173, 'Kappa': 0.30673987268156633}\n",
            "---\n"
          ]
        },
        {
          "output_type": "display_data",
          "data": {
            "text/plain": [
              "<Figure size 432x288 with 2 Axes>"
            ],
            "image/png": "[encoded data removed]"
          },
          "metadata": {
            "needs_background": "light"
          }
        },
        {
          "output_type": "stream",
          "name": "stdout",
          "text": [
            "{'Accuracy': 65.85484656600099, 'Kappa': 0.31478878391827725}\n",
            "---\n"
          ]
        },
        {
          "output_type": "display_data",
          "data": {
            "text/plain": [
              "<Figure size 432x288 with 2 Axes>"
            ],
            "image/png": "[encoded data removed]"
          },
          "metadata": {
            "needs_background": "light"
          }
        },
        {
          "output_type": "stream",
          "name": "stdout",
          "text": [
            "{'Accuracy': 65.61130053580126, 'Kappa': 0.3058261644186979}\n",
            "---\n"
          ]
        },
        {
          "output_type": "display_data",
          "data": {
            "text/plain": [
              "<Figure size 432x288 with 2 Axes>"
            ],
            "image/png": "[encoded data removed]"
          },
          "metadata": {
            "needs_background": "light"
          }
        },
        {
          "output_type": "stream",
          "name": "stdout",
          "text": [
            "{'Accuracy': 63.67916869621691, 'Kappa': 0.26287559072828326}\n",
            "---\n"
          ]
        },
        {
          "output_type": "display_data",
          "data": {
            "text/plain": [
              "<Figure size 432x288 with 2 Axes>"
            ],
            "image/png": "[encoded data removed]"
          },
          "metadata": {
            "needs_background": "light"
          }
        },
        {
          "output_type": "stream",
          "name": "stdout",
          "text": [
            "{'Accuracy': 61.4385452183796, 'Kappa': 0.21341575651227307}\n",
            "---\n"
          ]
        },
        {
          "output_type": "display_data",
          "data": {
            "text/plain": [
              "<Figure size 432x288 with 2 Axes>"
            ],
            "image/png": "[encoded data removed]"
          },
          "metadata": {
            "needs_background": "light"
          }
        },
        {
          "output_type": "stream",
          "name": "stdout",
          "text": [
            "{'Accuracy': 57.980191589543765, 'Kappa': 0.13916700033559504}\n",
            "---\n"
          ]
        },
        {
          "output_type": "display_data",
          "data": {
            "text/plain": [
              "<Figure size 432x288 with 2 Axes>"
            ],
            "image/png": "[encoded data removed]"
          },
          "metadata": {
            "needs_background": "light"
          }
        },
        {
          "output_type": "stream",
          "name": "stdout",
          "text": [
            "{'Accuracy': 54.70043838285436, 'Kappa': 0.06795805282124823}\n",
            "---\n",
            "Best threshold result: 4\n",
            "Best threshold metrics: {'Accuracy': 65.85484656600099, 'Kappa': 0.31478878391827725}\n"
          ]
        }
      ]
    },
    {
      "cell_type": "markdown",
      "metadata": {
        "id": "n2QkBby2ppLc"
      },
      "source": [
        "From this, we can see that the accuracy of the system at its best threshold (risk > 4) is 65.9%, with a kappa of 0.31. Does that differ for different subsets of the population?"
      ]
    },
    {
      "cell_type": "code",
      "metadata": {
        "id": "n7oWD4rGqYiZ",
        "colab": {
          "base_uri": "https://localhost:8080/"
        },
        "outputId": "1d8431de-89a4-4bfd-9211-6bdf806f0312"
      },
      "source": [
        "find_best_threshold(black, loud=False)"
      ],
      "execution_count": null,
      "outputs": [
        {
          "output_type": "stream",
          "name": "stdout",
          "text": [
            "{'Accuracy': 61.44388398486759, 'Kappa': 0.1532497035881979}\n",
            "---\n",
            "{'Accuracy': 64.72257250945775, 'Kappa': 0.24620412199137276}\n",
            "---\n",
            "{'Accuracy': 65.29003783102144, 'Kappa': 0.2752093201639695}\n",
            "---\n",
            "{'Accuracy': 65.13240857503153, 'Kappa': 0.2901867729346773}\n",
            "---\n",
            "{'Accuracy': 64.53341740226986, 'Kappa': 0.2949490016074807}\n",
            "---\n",
            "{'Accuracy': 61.979823455233294, 'Kappa': 0.26121322705790195}\n",
            "---\n",
            "{'Accuracy': 58.79571248423707, 'Kappa': 0.2183945751832128}\n",
            "---\n",
            "{'Accuracy': 54.12988650693569, 'Kappa': 0.14762930556848342}\n",
            "---\n",
            "{'Accuracy': 49.21185372005044, 'Kappa': 0.07608376496862002}\n",
            "---\n",
            "Best threshold result: 5\n",
            "Best threshold metrics: {'Accuracy': 64.53341740226986, 'Kappa': 0.2949490016074807}\n"
          ]
        }
      ]
    },
    {
      "cell_type": "code",
      "metadata": {
        "id": "xJGnNQnjp1Kt",
        "colab": {
          "base_uri": "https://localhost:8080/"
        },
        "outputId": "1da1c84b-f0eb-4d22-ca0b-a4a8fd22604e"
      },
      "source": [
        "find_best_threshold(white, loud=False)"
      ],
      "execution_count": null,
      "outputs": [
        {
          "output_type": "stream",
          "name": "stdout",
          "text": [
            "{'Accuracy': 57.13603818615752, 'Kappa': 0.19943982788026515}\n",
            "---\n",
            "{'Accuracy': 61.909307875894996, 'Kappa': 0.2530934025283338}\n",
            "---\n",
            "{'Accuracy': 64.82100238663485, 'Kappa': 0.28371881783207353}\n",
            "---\n",
            "{'Accuracy': 66.20525059665871, 'Kappa': 0.2837233290451189}\n",
            "---\n",
            "{'Accuracy': 66.73031026252984, 'Kappa': 0.27038170906407244}\n",
            "---\n",
            "{'Accuracy': 65.25059665871122, 'Kappa': 0.21619857645758922}\n",
            "---\n",
            "{'Accuracy': 63.67541766109785, 'Kappa': 0.16372003338206365}\n",
            "---\n",
            "{'Accuracy': 61.09785202863962, 'Kappa': 0.0883566686902566}\n",
            "---\n",
            "{'Accuracy': 59.379474940334134, 'Kappa': 0.0344131911816874}\n",
            "---\n",
            "Best threshold result: 4\n",
            "Best threshold metrics: {'Accuracy': 66.20525059665871, 'Kappa': 0.2837233290451189}\n"
          ]
        }
      ]
    },
    {
      "cell_type": "markdown",
      "metadata": {
        "id": "txUqzAvGtvGW"
      },
      "source": [
        "We find that by this metric of error rate parity, defined based on kappa and measuring a correct prediction based on the risk score's ability to predict future re-arrest, there is no disparity! Our black population has a kappa of 0.29 and our white population has a kappa of 0.28, virtually indistinguishable.\n",
        "\n",
        "If we stopped here, we would make the claim that this model is fair - it is equally accurate on both races we're studying, and if anything is slightly more accurate in predicting recidivism among black defendants. "
      ]
    },
    {
      "cell_type": "markdown",
      "metadata": {
        "id": "1g-jwwQhwk92"
      },
      "source": [
        "## Error Balance\n",
        "\n",
        "\n",
        "However, we will now look more carefully at the modes of failure -- false positives and alse negatives -- separate from one another. This will reveal a different trend in the model's predictions. \n"
      ]
    },
    {
      "cell_type": "code",
      "metadata": {
        "id": "4ebcQsbvPxJe",
        "colab": {
          "base_uri": "https://localhost:8080/"
        },
        "outputId": "e20ad63b-dcd0-4e22-ec73-2662197dd113"
      },
      "source": [
        "# Error balance of false positives\n",
        "race_probs = []\n",
        "for race in [black, white]:\n",
        "  probs = []\n",
        "  for score in range(1,11):\n",
        "    subset = race.loc[race.is_recid==0]\n",
        "    false_positive = subset.loc[subset.decile_score >= score]\n",
        "    false_positive_rate = len(false_positive) / len(subset)\n",
        "    probs.append(false_positive_rate)\n",
        "  race_probs.append(probs)\n",
        "\n",
        "fig = plt.gcf()\n",
        "fig.set_size_inches(10,5)\n",
        "plt.bar(range(1,11), race_probs[0], align='edge', width=-.4)\n",
        "plt.bar(range(1,11), race_probs[1], align='edge', width=.4)\n",
        "plt.xlabel(\"Risk Threshold Cutoff\")\n",
        "plt.xticks(ticks=range(1,11), labels=range(1,11))\n",
        "plt.ylabel(\"False Positive Rate\")\n",
        "plt.legend([\"Black\", \"White\"])\n",
        "plt.title(\"Comparative False Positive Rates\")\n",
        "plt.show()"
      ],
      "execution_count": null,
      "outputs": [
        {
          "output_type": "display_data",
          "data": {
            "text/plain": [
              "<Figure size 720x360 with 1 Axes>"
            ],
            "image/png": "[encoded data removed]"
          },
          "metadata": {
            "needs_background": "light"
          }
        }
      ]
    },
    {
      "cell_type": "code",
      "metadata": {
        "id": "P-6phC7rP88h",
        "colab": {
          "base_uri": "https://localhost:8080/"
        },
        "outputId": "296a17b8-7d3c-4e6c-8c57-c55d214beb32"
      },
      "source": [
        "# Error balance of false negatives\n",
        "\n",
        "race_probs = []\n",
        "for race in [black, white]:\n",
        "  probs = []\n",
        "  for score in range(1,11):\n",
        "    subset = race.loc[race.is_recid==1]\n",
        "    false_negative = subset.loc[subset.decile_score <= score]\n",
        "    false_negative_rate = len(false_negative) / len(subset)\n",
        "    probs.append(false_negative_rate)\n",
        "  race_probs.append(probs)\n",
        "\n",
        "fig = plt.gcf()\n",
        "fig.set_size_inches(10,5)\n",
        "plt.bar(range(1,11), race_probs[0], align='edge', width=-.4)\n",
        "plt.bar(range(1,11), race_probs[1], align='edge', width=.4)\n",
        "plt.xlabel(\"Risk Threshold Cutoff\")\n",
        "plt.xticks(ticks=range(1,11), labels=range(1,11))\n",
        "plt.ylabel(\"False Negative Rate\")\n",
        "plt.legend([\"Black\", \"White\"])\n",
        "plt.title(\"Comparative False Negative Rates\")\n",
        "plt.show()"
      ],
      "execution_count": null,
      "outputs": [
        {
          "output_type": "display_data",
          "data": {
            "text/plain": [
              "<Figure size 720x360 with 1 Axes>"
            ],
            "image/png": "[encoded data removed]"
          },
          "metadata": {
            "needs_background": "light"
          }
        }
      ]
    },
    {
      "cell_type": "markdown",
      "metadata": {
        "id": "8O13fhXkxoBZ"
      },
      "source": [
        "\n",
        "When we do this further analysis, we see that the model has many more false positives for black defendants than it does for white defendants, and many more false negatives in the opposite direction. \n",
        "\n",
        "This means that, when the model fails for an African American, it tends to err on the side of guessing that they will commit another crime. In contrast, when the algorithm fails for Caucasians, it will tend to err on the side of guessing that they will *not* commit another crime. "
      ]
    },
    {
      "cell_type": "markdown",
      "metadata": {
        "id": "VspF0nFI2ohT"
      },
      "source": [
        "## Disparate Impact\n",
        "\n",
        "We'll end this section of our analysis with a measure of _impact_ - the actual change in harm that is caused by this mismatch in error balance, even for a correctly calibrated classifier.\n"
      ]
    },
    {
      "cell_type": "code",
      "metadata": {
        "id": "20o3Cfzq2xYy",
        "colab": {
          "base_uri": "https://localhost:8080/"
        },
        "outputId": "d2a57fa8-e200-420e-e351-368130acdc25"
      },
      "source": [
        "races = {\"black\":black, \"white\":white}\n",
        "race_metrics = {}\n",
        "\n",
        "for threshold in range(1,11):\n",
        "  for race_name, race in races.items():\n",
        "    if race_name not in race_metrics:\n",
        "      race_metrics[race_name] = {}\n",
        "    positive_subset = race.loc[race.is_recid==1]\n",
        "    false_positive = positive_subset.loc[positive_subset.decile_score > threshold]\n",
        "    false_positive_rate = len(false_positive) / len(positive_subset)\n",
        "    negative_subset = race.loc[race.is_recid==0]\n",
        "    false_negative = negative_subset.loc[negative_subset.decile_score <= threshold]\n",
        "    false_negative_rate = len(false_negative) / len(negative_subset)\n",
        "    print(f\"At threshold {threshold} and race {race_name}, FPR={false_positive_rate:.3f}, FNR={false_negative_rate:.3f}\")\n",
        "    race_metrics[race_name][threshold] = {\n",
        "        \"FPR\":false_positive_rate,\n",
        "        \"FNR\":false_negative_rate\n",
        "    }\n"
      ],
      "execution_count": null,
      "outputs": [
        {
          "output_type": "stream",
          "name": "stdout",
          "text": [
            "At threshold 1 and race black, FPR=0.947, FNR=0.194\n",
            "At threshold 1 and race white, FPR=0.841, FNR=0.379\n",
            "At threshold 2 and race black, FPR=0.879, FNR=0.354\n",
            "At threshold 2 and race white, FPR=0.715, FNR=0.551\n",
            "At threshold 3 and race black, FPR=0.800, FNR=0.467\n",
            "At threshold 3 and race white, FPR=0.614, FNR=0.673\n",
            "At threshold 4 and race black, FPR=0.703, FNR=0.586\n",
            "At threshold 4 and race white, FPR=0.491, FNR=0.784\n",
            "At threshold 5 and race black, FPR=0.607, FNR=0.694\n",
            "At threshold 5 and race white, FPR=0.384, FNR=0.870\n",
            "At threshold 6 and race black, FPR=0.494, FNR=0.778\n",
            "At threshold 6 and race white, FPR=0.275, FNR=0.922\n",
            "At threshold 7 and race black, FPR=0.369, FNR=0.864\n",
            "At threshold 7 and race white, FPR=0.191, FNR=0.955\n",
            "At threshold 8 and race black, FPR=0.242, FNR=0.919\n",
            "At threshold 8 and race white, FPR=0.105, FNR=0.972\n",
            "At threshold 9 and race black, FPR=0.109, FNR=0.976\n",
            "At threshold 9 and race white, FPR=0.041, FNR=0.989\n",
            "At threshold 10 and race black, FPR=0.000, FNR=1.000\n",
            "At threshold 10 and race white, FPR=0.000, FNR=1.000\n"
          ]
        }
      ]
    },
    {
      "cell_type": "markdown",
      "metadata": {
        "id": "kluct-wkB6-h"
      },
      "source": [
        "To measure the impact of this gap, we need to not just look at the error rate but also at the real-world impact of a misclassification. We'll use a value representing the additional prison sentence that would be added on for a high-risk defendant, compared to a low-risk prediction.\n",
        "\n",
        "These numbers are not available in COMPAS; however, some estimates are present in the research literature, suggesting values for misdemeanor crimes at 2 months, and for felonies at 6 months. Obviously, these numbers are subject to change and if we had more information, we could change them. We will assign them to variables which we can update if we learn more information in the future."
      ]
    },
    {
      "cell_type": "code",
      "metadata": {
        "id": "Dwz78_8nIyWA",
        "colab": {
          "base_uri": "https://localhost:8080/"
        },
        "outputId": "f3cf2c18-091d-48ec-fd91-0ca9bbff1fa3"
      },
      "source": [
        "misdemeanor_penalty = 2\n",
        "felony_penalty = 6\n",
        "\n",
        "for threshold in range(1,11):\n",
        "  print(f\"At risk threshold {threshold}\")\n",
        "  for race_name, race in races.items():\n",
        "    cumulative_harm = 0\n",
        "    for row in range(len(race)):\n",
        "      defendant = race.iloc[row]\n",
        "      if defendant.decile_score >= threshold: # and defendant.is_recid == 0:\n",
        "        if defendant.c_charge_degree == \"M\":\n",
        "          cumulative_harm += misdemeanor_penalty*race_metrics[race_name][threshold][\"FPR\"]\n",
        "        if defendant.c_charge_degree == \"F\":\n",
        "          cumulative_harm += felony_penalty*race_metrics[race_name][threshold][\"FPR\"]\n",
        "\n",
        "    print(f\"   For {race_name} defendants, cumulative harm from false positives:\")\n",
        "    print(f\"      {cumulative_harm:.1f} months across {len(race)} defendants.\")\n",
        "    print(f\"      Average {cumulative_harm/len(race):.1f} additional months per defendant.\")\n"
      ],
      "execution_count": null,
      "outputs": [
        {
          "output_type": "stream",
          "name": "stdout",
          "text": [
            "At risk threshold 1\n",
            "   For black defendants, cumulative harm from false positives:\n",
            "      14325.6 months across 3172 defendants.\n",
            "      Average 4.5 additional months per defendant.\n",
            "   For white defendants, cumulative harm from false positives:\n",
            "      7689.8 months across 2095 defendants.\n",
            "      Average 3.7 additional months per defendant.\n",
            "At risk threshold 2\n",
            "   For black defendants, cumulative harm from false positives:\n",
            "      11911.8 months across 3172 defendants.\n",
            "      Average 3.8 additional months per defendant.\n",
            "   For white defendants, cumulative harm from false positives:\n",
            "      4916.2 months across 2095 defendants.\n",
            "      Average 2.3 additional months per defendant.\n",
            "At risk threshold 3\n",
            "   For black defendants, cumulative harm from false positives:\n",
            "      9659.2 months across 3172 defendants.\n",
            "      Average 3.0 additional months per defendant.\n",
            "   For white defendants, cumulative harm from false positives:\n",
            "      3387.9 months across 2095 defendants.\n",
            "      Average 1.6 additional months per defendant.\n",
            "At risk threshold 4\n",
            "   For black defendants, cumulative harm from false positives:\n",
            "      7477.0 months across 3172 defendants.\n",
            "      Average 2.4 additional months per defendant.\n",
            "   For white defendants, cumulative harm from false positives:\n",
            "      2183.8 months across 2095 defendants.\n",
            "      Average 1.0 additional months per defendant.\n",
            "At risk threshold 5\n",
            "   For black defendants, cumulative harm from false positives:\n",
            "      5497.4 months across 3172 defendants.\n",
            "      Average 1.7 additional months per defendant.\n",
            "   For white defendants, cumulative harm from false positives:\n",
            "      1288.6 months across 2095 defendants.\n",
            "      Average 0.6 additional months per defendant.\n",
            "At risk threshold 6\n",
            "   For black defendants, cumulative harm from false positives:\n",
            "      3730.4 months across 3172 defendants.\n",
            "      Average 1.2 additional months per defendant.\n",
            "   For white defendants, cumulative harm from false positives:\n",
            "      669.7 months across 2095 defendants.\n",
            "      Average 0.3 additional months per defendant.\n",
            "At risk threshold 7\n",
            "   For black defendants, cumulative harm from false positives:\n",
            "      2215.0 months across 3172 defendants.\n",
            "      Average 0.7 additional months per defendant.\n",
            "   For white defendants, cumulative harm from false positives:\n",
            "      320.2 months across 2095 defendants.\n",
            "      Average 0.2 additional months per defendant.\n",
            "At risk threshold 8\n",
            "   For black defendants, cumulative harm from false positives:\n",
            "      1043.7 months across 3172 defendants.\n",
            "      Average 0.3 additional months per defendant.\n",
            "   For white defendants, cumulative harm from false positives:\n",
            "      118.9 months across 2095 defendants.\n",
            "      Average 0.1 additional months per defendant.\n",
            "At risk threshold 9\n",
            "   For black defendants, cumulative harm from false positives:\n",
            "      303.8 months across 3172 defendants.\n",
            "      Average 0.1 additional months per defendant.\n",
            "   For white defendants, cumulative harm from false positives:\n",
            "      26.4 months across 2095 defendants.\n",
            "      Average 0.0 additional months per defendant.\n",
            "At risk threshold 10\n",
            "   For black defendants, cumulative harm from false positives:\n",
            "      0.0 months across 3172 defendants.\n",
            "      Average 0.0 additional months per defendant.\n",
            "   For white defendants, cumulative harm from false positives:\n",
            "      0.0 months across 2095 defendants.\n",
            "      Average 0.0 additional months per defendant.\n"
          ]
        }
      ]
    },
    {
      "cell_type": "markdown",
      "metadata": {
        "id": "vrabuZ6_PPEB"
      },
      "source": [
        "# Training a risk classifier\n",
        "\n",
        "Now lets try to extend our analysis away from visualizations by training some models of our own. One way we can understand how related two variables are is to train a classifier that tries to identify the value of one variable based on the value of the other. If a classifier can easily get high accuracy, then this indicates that the variables are highly related. However, the opposite is not true. In general, it is very difficult to really prove definitively that there is little relation between two variables. However, we can show that there is at least some significant nuance to the relationship if a simple classifier can not relate them easily."
      ]
    },
    {
      "cell_type": "markdown",
      "metadata": {
        "id": "1x7ReOgjZ9_m"
      },
      "source": [
        "## Predicting decile score\n",
        "\n",
        "Our first test is whether we can predict the decile score based only on simple, highly visible, and protected attributes like sex, age, race, and prior convictions. "
      ]
    },
    {
      "cell_type": "code",
      "metadata": {
        "id": "6vxg-HfEPVua"
      },
      "source": [
        "X = compas\n",
        "y = compas.decile_score\n",
        "X_train, X_test, y_train, y_test = train_test_split(X,y,test_size=0.2, random_state=123)"
      ],
      "execution_count": null,
      "outputs": []
    },
    {
      "cell_type": "code",
      "metadata": {
        "id": "5byXjl-JIkpK"
      },
      "source": [
        "\n",
        "classifiers = { \n",
        "    \"Multinomial NB\": MultinomialNB(),\n",
        "    \"Decision Tree\": DecisionTreeClassifier(),\n",
        "    \"Logistic Regression\": LogisticRegression(),\n",
        "    \"SVM\": LinearSVC(),\n",
        "    \"Random Forests\": RandomForestClassifier()\n",
        "}\n",
        "\n",
        "# Set a list of metrics we want to use to compare our classifiers \n",
        "metrics = {\n",
        "    \"Accuracy\" : lambda y,y_pred: 100*accuracy_score(y,y_pred),\n",
        "    \"Kappa\"    : cohen_kappa_score,\n",
        "    \"QWK\"      : lambda y,y_pred: cohen_kappa_score(y, y_pred, weights=\"quadratic\")\n",
        "}\n",
        "\n",
        "# Choose a metric to optimize over\n",
        "metric_to_optimize = 'QWK'\n",
        "X_train['result'] = y_train\n",
        "digits = [str(i) for i in range(0,10)]\n"
      ],
      "execution_count": null,
      "outputs": []
    },
    {
      "cell_type": "code",
      "metadata": {
        "id": "UVZCFxC6kCqK",
        "colab": {
          "base_uri": "https://localhost:8080/"
        },
        "outputId": "9be301b1-2659-4006-df0a-63bcff00ab91"
      },
      "source": [
        "# Predict decile score based on easily observable features\n",
        "\n",
        "# Pick features to use\n",
        "protected_features = [\"sex\", \"age\", \"race\"]\n",
        "\n",
        "feature_set = protected_features \n",
        "\n",
        "# Compare models and display final result\n",
        "best, best_name, classifier_comparison = compare_classifiers(classifiers, metrics, metric_to_optimize, X_train, feature_set, \"decile_score\", labels=digits, noisy = 'quiet', folds=5)\n",
        "\n",
        "print(f\"Best classifier is: {best_name} \\nWith K={best:.3f}.\")"
      ],
      "execution_count": null,
      "outputs": [
        {
          "output_type": "stream",
          "name": "stdout",
          "text": [
            "Multinomial NB: Fold 0...1...2...3...4\n",
            "Average QWK: 0.317\n",
            "-------------\n",
            "Decision Tree: Fold 0...1...2...3...4\n",
            "Average QWK: 0.275\n",
            "-------------\n"
          ]
        },
        {
          "output_type": "stream",
          "name": "stderr",
          "text": [
            "/usr/local/lib/python3.7/dist-packages/sklearn/linear_model/_logistic.py:818: ConvergenceWarning: lbfgs failed to converge (status=1):\n",
            "STOP: TOTAL NO. of ITERATIONS REACHED LIMIT.\n",
            "\n",
            "Increase the number of iterations (max_iter) or scale the data as shown in:\n",
            "    https://scikit-learn.org/stable/modules/preprocessing.html\n",
            "Please also refer to the documentation for alternative solver options:\n",
            "    https://scikit-learn.org/stable/modules/linear_model.html#logistic-regression\n",
            "  extra_warning_msg=_LOGISTIC_SOLVER_CONVERGENCE_MSG,\n"
          ]
        },
        {
          "output_type": "stream",
          "name": "stdout",
          "text": [
            "Logistic Regression: Fold 0"
          ]
        },
        {
          "output_type": "stream",
          "name": "stderr",
          "text": [
            "/usr/local/lib/python3.7/dist-packages/sklearn/linear_model/_logistic.py:818: ConvergenceWarning: lbfgs failed to converge (status=1):\n",
            "STOP: TOTAL NO. of ITERATIONS REACHED LIMIT.\n",
            "\n",
            "Increase the number of iterations (max_iter) or scale the data as shown in:\n",
            "    https://scikit-learn.org/stable/modules/preprocessing.html\n",
            "Please also refer to the documentation for alternative solver options:\n",
            "    https://scikit-learn.org/stable/modules/linear_model.html#logistic-regression\n",
            "  extra_warning_msg=_LOGISTIC_SOLVER_CONVERGENCE_MSG,\n"
          ]
        },
        {
          "output_type": "stream",
          "name": "stdout",
          "text": [
            "...1"
          ]
        },
        {
          "output_type": "stream",
          "name": "stderr",
          "text": [
            "/usr/local/lib/python3.7/dist-packages/sklearn/linear_model/_logistic.py:818: ConvergenceWarning: lbfgs failed to converge (status=1):\n",
            "STOP: TOTAL NO. of ITERATIONS REACHED LIMIT.\n",
            "\n",
            "Increase the number of iterations (max_iter) or scale the data as shown in:\n",
            "    https://scikit-learn.org/stable/modules/preprocessing.html\n",
            "Please also refer to the documentation for alternative solver options:\n",
            "    https://scikit-learn.org/stable/modules/linear_model.html#logistic-regression\n",
            "  extra_warning_msg=_LOGISTIC_SOLVER_CONVERGENCE_MSG,\n"
          ]
        },
        {
          "output_type": "stream",
          "name": "stdout",
          "text": [
            "...2"
          ]
        },
        {
          "output_type": "stream",
          "name": "stderr",
          "text": [
            "/usr/local/lib/python3.7/dist-packages/sklearn/linear_model/_logistic.py:818: ConvergenceWarning: lbfgs failed to converge (status=1):\n",
            "STOP: TOTAL NO. of ITERATIONS REACHED LIMIT.\n",
            "\n",
            "Increase the number of iterations (max_iter) or scale the data as shown in:\n",
            "    https://scikit-learn.org/stable/modules/preprocessing.html\n",
            "Please also refer to the documentation for alternative solver options:\n",
            "    https://scikit-learn.org/stable/modules/linear_model.html#logistic-regression\n",
            "  extra_warning_msg=_LOGISTIC_SOLVER_CONVERGENCE_MSG,\n"
          ]
        },
        {
          "output_type": "stream",
          "name": "stdout",
          "text": [
            "...3"
          ]
        },
        {
          "output_type": "stream",
          "name": "stderr",
          "text": [
            "/usr/local/lib/python3.7/dist-packages/sklearn/linear_model/_logistic.py:818: ConvergenceWarning: lbfgs failed to converge (status=1):\n",
            "STOP: TOTAL NO. of ITERATIONS REACHED LIMIT.\n",
            "\n",
            "Increase the number of iterations (max_iter) or scale the data as shown in:\n",
            "    https://scikit-learn.org/stable/modules/preprocessing.html\n",
            "Please also refer to the documentation for alternative solver options:\n",
            "    https://scikit-learn.org/stable/modules/linear_model.html#logistic-regression\n",
            "  extra_warning_msg=_LOGISTIC_SOLVER_CONVERGENCE_MSG,\n"
          ]
        },
        {
          "output_type": "stream",
          "name": "stdout",
          "text": [
            "...4\n",
            "Average QWK: 0.372\n",
            "-------------\n"
          ]
        },
        {
          "output_type": "stream",
          "name": "stderr",
          "text": [
            "/usr/local/lib/python3.7/dist-packages/sklearn/svm/_base.py:1208: ConvergenceWarning: Liblinear failed to converge, increase the number of iterations.\n",
            "  ConvergenceWarning,\n"
          ]
        },
        {
          "output_type": "stream",
          "name": "stdout",
          "text": [
            "SVM: Fold 0"
          ]
        },
        {
          "output_type": "stream",
          "name": "stderr",
          "text": [
            "/usr/local/lib/python3.7/dist-packages/sklearn/svm/_base.py:1208: ConvergenceWarning: Liblinear failed to converge, increase the number of iterations.\n",
            "  ConvergenceWarning,\n"
          ]
        },
        {
          "output_type": "stream",
          "name": "stdout",
          "text": [
            "...1"
          ]
        },
        {
          "output_type": "stream",
          "name": "stderr",
          "text": [
            "/usr/local/lib/python3.7/dist-packages/sklearn/svm/_base.py:1208: ConvergenceWarning: Liblinear failed to converge, increase the number of iterations.\n",
            "  ConvergenceWarning,\n"
          ]
        },
        {
          "output_type": "stream",
          "name": "stdout",
          "text": [
            "...2"
          ]
        },
        {
          "output_type": "stream",
          "name": "stderr",
          "text": [
            "/usr/local/lib/python3.7/dist-packages/sklearn/svm/_base.py:1208: ConvergenceWarning: Liblinear failed to converge, increase the number of iterations.\n",
            "  ConvergenceWarning,\n"
          ]
        },
        {
          "output_type": "stream",
          "name": "stdout",
          "text": [
            "...3"
          ]
        },
        {
          "output_type": "stream",
          "name": "stderr",
          "text": [
            "/usr/local/lib/python3.7/dist-packages/sklearn/svm/_base.py:1208: ConvergenceWarning: Liblinear failed to converge, increase the number of iterations.\n",
            "  ConvergenceWarning,\n"
          ]
        },
        {
          "output_type": "stream",
          "name": "stdout",
          "text": [
            "...4\n",
            "Average QWK: 0.266\n",
            "-------------\n",
            "Random Forests: Fold 0...1...2...3...4\n",
            "Average QWK: 0.279\n",
            "-------------\n",
            "Best classifier is: Logistic Regression \n",
            "With K=0.372.\n"
          ]
        }
      ]
    },
    {
      "cell_type": "markdown",
      "metadata": {
        "id": "kn6_GpyykdcX"
      },
      "source": [
        "This brief evaluation results in a low but nontrivial kappa, showing that the features used in the COMPAS system are indeed more nuanced than this, but that these protected features do have some predictive power on the recidivism scores. Let's compare this to a model trained on just metadata features as well as one trained on both protected and metadata features."
      ]
    },
    {
      "cell_type": "code",
      "metadata": {
        "id": "QDoSfeK-lHlZ",
        "colab": {
          "base_uri": "https://localhost:8080/"
        },
        "outputId": "4472d590-1b33-4970-b273-1f9b79755250"
      },
      "source": [
        "# Predict decile score based on easily observable features\n",
        "\n",
        "# Pick features to use\n",
        "metadata_features = [\"juv_fel_count\", \"juv_misd_count\", \"juv_other_count\", \"priors_count\", \"c_charge_degree\", \"c_charge_desc\"]\n",
        "\n",
        "feature_set = metadata_features\n",
        "\n",
        "digits = [str(i) for i in range(0,10)]\n",
        "# Compare models and display final result\n",
        "best, best_name, classifier_comparison = compare_classifiers(classifiers, metrics, metric_to_optimize, X_train, feature_set, \"decile_score\", labels=digits, noisy = 'quiet', folds=5)\n",
        "\n",
        "print(f\"Best classifier is: {best_name} \\nWith K={best:.3f}.\")"
      ],
      "execution_count": null,
      "outputs": [
        {
          "output_type": "stream",
          "name": "stdout",
          "text": [
            "Multinomial NB: Fold 0...1...2...3...4\n",
            "Average QWK: 0.478\n",
            "-------------\n",
            "Decision Tree: Fold 0...1...2...3...4\n",
            "Average QWK: 0.418\n",
            "-------------\n"
          ]
        },
        {
          "output_type": "stream",
          "name": "stderr",
          "text": [
            "/usr/local/lib/python3.7/dist-packages/sklearn/linear_model/_logistic.py:818: ConvergenceWarning: lbfgs failed to converge (status=1):\n",
            "STOP: TOTAL NO. of ITERATIONS REACHED LIMIT.\n",
            "\n",
            "Increase the number of iterations (max_iter) or scale the data as shown in:\n",
            "    https://scikit-learn.org/stable/modules/preprocessing.html\n",
            "Please also refer to the documentation for alternative solver options:\n",
            "    https://scikit-learn.org/stable/modules/linear_model.html#logistic-regression\n",
            "  extra_warning_msg=_LOGISTIC_SOLVER_CONVERGENCE_MSG,\n"
          ]
        },
        {
          "output_type": "stream",
          "name": "stdout",
          "text": [
            "Logistic Regression: Fold 0"
          ]
        },
        {
          "output_type": "stream",
          "name": "stderr",
          "text": [
            "/usr/local/lib/python3.7/dist-packages/sklearn/linear_model/_logistic.py:818: ConvergenceWarning: lbfgs failed to converge (status=1):\n",
            "STOP: TOTAL NO. of ITERATIONS REACHED LIMIT.\n",
            "\n",
            "Increase the number of iterations (max_iter) or scale the data as shown in:\n",
            "    https://scikit-learn.org/stable/modules/preprocessing.html\n",
            "Please also refer to the documentation for alternative solver options:\n",
            "    https://scikit-learn.org/stable/modules/linear_model.html#logistic-regression\n",
            "  extra_warning_msg=_LOGISTIC_SOLVER_CONVERGENCE_MSG,\n"
          ]
        },
        {
          "output_type": "stream",
          "name": "stdout",
          "text": [
            "...1"
          ]
        },
        {
          "output_type": "stream",
          "name": "stderr",
          "text": [
            "/usr/local/lib/python3.7/dist-packages/sklearn/linear_model/_logistic.py:818: ConvergenceWarning: lbfgs failed to converge (status=1):\n",
            "STOP: TOTAL NO. of ITERATIONS REACHED LIMIT.\n",
            "\n",
            "Increase the number of iterations (max_iter) or scale the data as shown in:\n",
            "    https://scikit-learn.org/stable/modules/preprocessing.html\n",
            "Please also refer to the documentation for alternative solver options:\n",
            "    https://scikit-learn.org/stable/modules/linear_model.html#logistic-regression\n",
            "  extra_warning_msg=_LOGISTIC_SOLVER_CONVERGENCE_MSG,\n"
          ]
        },
        {
          "output_type": "stream",
          "name": "stdout",
          "text": [
            "...2"
          ]
        },
        {
          "output_type": "stream",
          "name": "stderr",
          "text": [
            "/usr/local/lib/python3.7/dist-packages/sklearn/linear_model/_logistic.py:818: ConvergenceWarning: lbfgs failed to converge (status=1):\n",
            "STOP: TOTAL NO. of ITERATIONS REACHED LIMIT.\n",
            "\n",
            "Increase the number of iterations (max_iter) or scale the data as shown in:\n",
            "    https://scikit-learn.org/stable/modules/preprocessing.html\n",
            "Please also refer to the documentation for alternative solver options:\n",
            "    https://scikit-learn.org/stable/modules/linear_model.html#logistic-regression\n",
            "  extra_warning_msg=_LOGISTIC_SOLVER_CONVERGENCE_MSG,\n"
          ]
        },
        {
          "output_type": "stream",
          "name": "stdout",
          "text": [
            "...3"
          ]
        },
        {
          "output_type": "stream",
          "name": "stderr",
          "text": [
            "/usr/local/lib/python3.7/dist-packages/sklearn/linear_model/_logistic.py:818: ConvergenceWarning: lbfgs failed to converge (status=1):\n",
            "STOP: TOTAL NO. of ITERATIONS REACHED LIMIT.\n",
            "\n",
            "Increase the number of iterations (max_iter) or scale the data as shown in:\n",
            "    https://scikit-learn.org/stable/modules/preprocessing.html\n",
            "Please also refer to the documentation for alternative solver options:\n",
            "    https://scikit-learn.org/stable/modules/linear_model.html#logistic-regression\n",
            "  extra_warning_msg=_LOGISTIC_SOLVER_CONVERGENCE_MSG,\n"
          ]
        },
        {
          "output_type": "stream",
          "name": "stdout",
          "text": [
            "...4\n",
            "Average QWK: 0.451\n",
            "-------------\n"
          ]
        },
        {
          "output_type": "stream",
          "name": "stderr",
          "text": [
            "/usr/local/lib/python3.7/dist-packages/sklearn/svm/_base.py:1208: ConvergenceWarning: Liblinear failed to converge, increase the number of iterations.\n",
            "  ConvergenceWarning,\n"
          ]
        },
        {
          "output_type": "stream",
          "name": "stdout",
          "text": [
            "SVM: Fold 0"
          ]
        },
        {
          "output_type": "stream",
          "name": "stderr",
          "text": [
            "/usr/local/lib/python3.7/dist-packages/sklearn/svm/_base.py:1208: ConvergenceWarning: Liblinear failed to converge, increase the number of iterations.\n",
            "  ConvergenceWarning,\n"
          ]
        },
        {
          "output_type": "stream",
          "name": "stdout",
          "text": [
            "...1"
          ]
        },
        {
          "output_type": "stream",
          "name": "stderr",
          "text": [
            "/usr/local/lib/python3.7/dist-packages/sklearn/svm/_base.py:1208: ConvergenceWarning: Liblinear failed to converge, increase the number of iterations.\n",
            "  ConvergenceWarning,\n"
          ]
        },
        {
          "output_type": "stream",
          "name": "stdout",
          "text": [
            "...2"
          ]
        },
        {
          "output_type": "stream",
          "name": "stderr",
          "text": [
            "/usr/local/lib/python3.7/dist-packages/sklearn/svm/_base.py:1208: ConvergenceWarning: Liblinear failed to converge, increase the number of iterations.\n",
            "  ConvergenceWarning,\n"
          ]
        },
        {
          "output_type": "stream",
          "name": "stdout",
          "text": [
            "...3"
          ]
        },
        {
          "output_type": "stream",
          "name": "stderr",
          "text": [
            "/usr/local/lib/python3.7/dist-packages/sklearn/svm/_base.py:1208: ConvergenceWarning: Liblinear failed to converge, increase the number of iterations.\n",
            "  ConvergenceWarning,\n"
          ]
        },
        {
          "output_type": "stream",
          "name": "stdout",
          "text": [
            "...4\n",
            "Average QWK: 0.426\n",
            "-------------\n",
            "Random Forests: Fold 0...1...2...3...4\n",
            "Average QWK: 0.429\n",
            "-------------\n",
            "Best classifier is: Multinomial NB \n",
            "With K=0.478.\n"
          ]
        }
      ]
    },
    {
      "cell_type": "code",
      "metadata": {
        "id": "HxZVRXoGQ_XB",
        "colab": {
          "base_uri": "https://localhost:8080/"
        },
        "outputId": "6e050e22-b513-447b-8421-714837f8e420"
      },
      "source": [
        "# Predict decile score based on easily observable features\n",
        "\n",
        "# Pick features to use\n",
        "protected_features = [\"sex\", \"age\", \"race\"]\n",
        "metadata_features = [\"juv_fel_count\", \"juv_misd_count\", \"juv_other_count\", \"priors_count\", \"c_charge_degree\", \"c_charge_desc\"]\n",
        "\n",
        "feature_set = protected_features + metadata_features\n",
        "\n",
        "# Compare models and display final result\n",
        "best, best_name, classifier_comparison = compare_classifiers(classifiers, metrics, metric_to_optimize, X_train, feature_set, \"decile_score\", labels=digits, noisy = 'quiet', folds=5)\n",
        "\n",
        "print(f\"Best classifier is: {best_name} \\nWith K={best:.3f}.\")"
      ],
      "execution_count": null,
      "outputs": [
        {
          "output_type": "stream",
          "name": "stdout",
          "text": [
            "Multinomial NB: Fold 0...1...2...3...4\n",
            "Average QWK: 0.560\n",
            "-------------\n",
            "Decision Tree: Fold 0...1...2...3...4\n",
            "Average QWK: 0.547\n",
            "-------------\n"
          ]
        },
        {
          "output_type": "stream",
          "name": "stderr",
          "text": [
            "/usr/local/lib/python3.7/dist-packages/sklearn/linear_model/_logistic.py:818: ConvergenceWarning: lbfgs failed to converge (status=1):\n",
            "STOP: TOTAL NO. of ITERATIONS REACHED LIMIT.\n",
            "\n",
            "Increase the number of iterations (max_iter) or scale the data as shown in:\n",
            "    https://scikit-learn.org/stable/modules/preprocessing.html\n",
            "Please also refer to the documentation for alternative solver options:\n",
            "    https://scikit-learn.org/stable/modules/linear_model.html#logistic-regression\n",
            "  extra_warning_msg=_LOGISTIC_SOLVER_CONVERGENCE_MSG,\n"
          ]
        },
        {
          "output_type": "stream",
          "name": "stdout",
          "text": [
            "Logistic Regression: Fold 0"
          ]
        },
        {
          "output_type": "stream",
          "name": "stderr",
          "text": [
            "/usr/local/lib/python3.7/dist-packages/sklearn/linear_model/_logistic.py:818: ConvergenceWarning: lbfgs failed to converge (status=1):\n",
            "STOP: TOTAL NO. of ITERATIONS REACHED LIMIT.\n",
            "\n",
            "Increase the number of iterations (max_iter) or scale the data as shown in:\n",
            "    https://scikit-learn.org/stable/modules/preprocessing.html\n",
            "Please also refer to the documentation for alternative solver options:\n",
            "    https://scikit-learn.org/stable/modules/linear_model.html#logistic-regression\n",
            "  extra_warning_msg=_LOGISTIC_SOLVER_CONVERGENCE_MSG,\n"
          ]
        },
        {
          "output_type": "stream",
          "name": "stdout",
          "text": [
            "...1"
          ]
        },
        {
          "output_type": "stream",
          "name": "stderr",
          "text": [
            "/usr/local/lib/python3.7/dist-packages/sklearn/linear_model/_logistic.py:818: ConvergenceWarning: lbfgs failed to converge (status=1):\n",
            "STOP: TOTAL NO. of ITERATIONS REACHED LIMIT.\n",
            "\n",
            "Increase the number of iterations (max_iter) or scale the data as shown in:\n",
            "    https://scikit-learn.org/stable/modules/preprocessing.html\n",
            "Please also refer to the documentation for alternative solver options:\n",
            "    https://scikit-learn.org/stable/modules/linear_model.html#logistic-regression\n",
            "  extra_warning_msg=_LOGISTIC_SOLVER_CONVERGENCE_MSG,\n"
          ]
        },
        {
          "output_type": "stream",
          "name": "stdout",
          "text": [
            "...2"
          ]
        },
        {
          "output_type": "stream",
          "name": "stderr",
          "text": [
            "/usr/local/lib/python3.7/dist-packages/sklearn/linear_model/_logistic.py:818: ConvergenceWarning: lbfgs failed to converge (status=1):\n",
            "STOP: TOTAL NO. of ITERATIONS REACHED LIMIT.\n",
            "\n",
            "Increase the number of iterations (max_iter) or scale the data as shown in:\n",
            "    https://scikit-learn.org/stable/modules/preprocessing.html\n",
            "Please also refer to the documentation for alternative solver options:\n",
            "    https://scikit-learn.org/stable/modules/linear_model.html#logistic-regression\n",
            "  extra_warning_msg=_LOGISTIC_SOLVER_CONVERGENCE_MSG,\n"
          ]
        },
        {
          "output_type": "stream",
          "name": "stdout",
          "text": [
            "...3"
          ]
        },
        {
          "output_type": "stream",
          "name": "stderr",
          "text": [
            "/usr/local/lib/python3.7/dist-packages/sklearn/linear_model/_logistic.py:818: ConvergenceWarning: lbfgs failed to converge (status=1):\n",
            "STOP: TOTAL NO. of ITERATIONS REACHED LIMIT.\n",
            "\n",
            "Increase the number of iterations (max_iter) or scale the data as shown in:\n",
            "    https://scikit-learn.org/stable/modules/preprocessing.html\n",
            "Please also refer to the documentation for alternative solver options:\n",
            "    https://scikit-learn.org/stable/modules/linear_model.html#logistic-regression\n",
            "  extra_warning_msg=_LOGISTIC_SOLVER_CONVERGENCE_MSG,\n"
          ]
        },
        {
          "output_type": "stream",
          "name": "stdout",
          "text": [
            "...4\n",
            "Average QWK: 0.627\n",
            "-------------\n"
          ]
        },
        {
          "output_type": "stream",
          "name": "stderr",
          "text": [
            "/usr/local/lib/python3.7/dist-packages/sklearn/svm/_base.py:1208: ConvergenceWarning: Liblinear failed to converge, increase the number of iterations.\n",
            "  ConvergenceWarning,\n"
          ]
        },
        {
          "output_type": "stream",
          "name": "stdout",
          "text": [
            "SVM: Fold 0"
          ]
        },
        {
          "output_type": "stream",
          "name": "stderr",
          "text": [
            "/usr/local/lib/python3.7/dist-packages/sklearn/svm/_base.py:1208: ConvergenceWarning: Liblinear failed to converge, increase the number of iterations.\n",
            "  ConvergenceWarning,\n"
          ]
        },
        {
          "output_type": "stream",
          "name": "stdout",
          "text": [
            "...1"
          ]
        },
        {
          "output_type": "stream",
          "name": "stderr",
          "text": [
            "/usr/local/lib/python3.7/dist-packages/sklearn/svm/_base.py:1208: ConvergenceWarning: Liblinear failed to converge, increase the number of iterations.\n",
            "  ConvergenceWarning,\n"
          ]
        },
        {
          "output_type": "stream",
          "name": "stdout",
          "text": [
            "...2"
          ]
        },
        {
          "output_type": "stream",
          "name": "stderr",
          "text": [
            "/usr/local/lib/python3.7/dist-packages/sklearn/svm/_base.py:1208: ConvergenceWarning: Liblinear failed to converge, increase the number of iterations.\n",
            "  ConvergenceWarning,\n"
          ]
        },
        {
          "output_type": "stream",
          "name": "stdout",
          "text": [
            "...3"
          ]
        },
        {
          "output_type": "stream",
          "name": "stderr",
          "text": [
            "/usr/local/lib/python3.7/dist-packages/sklearn/svm/_base.py:1208: ConvergenceWarning: Liblinear failed to converge, increase the number of iterations.\n",
            "  ConvergenceWarning,\n"
          ]
        },
        {
          "output_type": "stream",
          "name": "stdout",
          "text": [
            "...4\n",
            "Average QWK: 0.292\n",
            "-------------\n",
            "Random Forests: Fold 0...1...2...3...4\n",
            "Average QWK: 0.542\n",
            "-------------\n",
            "Best classifier is: Logistic Regression \n",
            "With K=0.627.\n"
          ]
        }
      ]
    },
    {
      "cell_type": "markdown",
      "metadata": {
        "id": "f6HqjrMskwFK"
      },
      "source": [
        "We definitely see improvement in performance from using the metadata features in addition to the protected features. The protected features do contribute to the model's ability to predict the decile score quite significantly, indicating a relationship between these protected features and the scores predicted by the algorithm. \n",
        "\n",
        "Our results indicate a best QWK with the following feature sets:\n",
        "   - Demographics alone: 0.377\n",
        "   - Observable features alone: 0.482\n",
        "   - Demographics + features: 0.622\n",
        "\n",
        "So adding the demographics is definitely useful information to the model - it will use those features as part of the model's decision-making, because they improve the accuracy of replicating observed data."
      ]
    },
    {
      "cell_type": "markdown",
      "metadata": {
        "id": "SEnxb8OeJhsl"
      },
      "source": [
        "## Predicting recidivism directly\n",
        "\n",
        "Let's continue this analysis by predicting the binary **recidivism** task based on the decile score as well as predicting recidivism based on some sets of features."
      ]
    },
    {
      "cell_type": "code",
      "metadata": {
        "id": "Z_51jSEXJXTj"
      },
      "source": [
        "\n",
        "# Set a list of metrics we want to use to compare our classifiers \n",
        "metrics = {\n",
        "    \"Accuracy\" : lambda y,y_pred: 100*accuracy_score(y,y_pred),\n",
        "    \"Kappa\"    : cohen_kappa_score\n",
        "}\n",
        "\n",
        "# Choose a metric to optimize over\n",
        "metric_to_optimize = 'Kappa'\n",
        "X = compas\n",
        "y = compas.is_recid\n",
        "X_train, X_test, y_train, y_test = train_test_split(X,y,test_size=0.2, random_state=123)"
      ],
      "execution_count": null,
      "outputs": []
    },
    {
      "cell_type": "code",
      "metadata": {
        "id": "O2S5duvoQ1DF",
        "colab": {
          "base_uri": "https://localhost:8080/"
        },
        "outputId": "d5abefbe-f60b-4643-fe8b-5a6d16e4a75f"
      },
      "source": [
        "# Predict recidivism based on decile score\n",
        "\n",
        "feature_set = [\"decile_score\"]\n",
        "X_train['result'] = y_train\n",
        "\n",
        "digits = [str(i) for i in range(0,10)]\n",
        "# Compare models and display final result\n",
        "best, best_name, classifier_comparison = compare_classifiers(classifiers, metrics, metric_to_optimize, X_train, feature_set, \"is_recid\", labels=[\"0\", \"1\"], noisy = 'quiet', folds=5)\n",
        "\n",
        "print(f\"Best classifier is: {best_name} \\nWith K={best:.3f}.\")"
      ],
      "execution_count": null,
      "outputs": [
        {
          "output_type": "stream",
          "name": "stdout",
          "text": [
            "Multinomial NB: Fold 0...1...2...3...4\n",
            "Average Kappa: 0.000\n",
            "-------------\n",
            "Decision Tree: Fold 0...1...2...3...4\n",
            "Average Kappa: 0.322\n",
            "-------------\n",
            "Logistic Regression: Fold 0...1...2...3...4\n",
            "Average Kappa: 0.330\n",
            "-------------\n",
            "SVM: Fold 0"
          ]
        },
        {
          "output_type": "stream",
          "name": "stderr",
          "text": [
            "/usr/local/lib/python3.7/dist-packages/sklearn/svm/_base.py:1208: ConvergenceWarning: Liblinear failed to converge, increase the number of iterations.\n",
            "  ConvergenceWarning,\n",
            "/usr/local/lib/python3.7/dist-packages/sklearn/svm/_base.py:1208: ConvergenceWarning: Liblinear failed to converge, increase the number of iterations.\n",
            "  ConvergenceWarning,\n"
          ]
        },
        {
          "output_type": "stream",
          "name": "stdout",
          "text": [
            "...1...2"
          ]
        },
        {
          "output_type": "stream",
          "name": "stderr",
          "text": [
            "/usr/local/lib/python3.7/dist-packages/sklearn/svm/_base.py:1208: ConvergenceWarning: Liblinear failed to converge, increase the number of iterations.\n",
            "  ConvergenceWarning,\n",
            "/usr/local/lib/python3.7/dist-packages/sklearn/svm/_base.py:1208: ConvergenceWarning: Liblinear failed to converge, increase the number of iterations.\n",
            "  ConvergenceWarning,\n"
          ]
        },
        {
          "output_type": "stream",
          "name": "stdout",
          "text": [
            "...3...4\n",
            "Average Kappa: 0.330\n",
            "-------------\n"
          ]
        },
        {
          "output_type": "stream",
          "name": "stderr",
          "text": [
            "/usr/local/lib/python3.7/dist-packages/sklearn/svm/_base.py:1208: ConvergenceWarning: Liblinear failed to converge, increase the number of iterations.\n",
            "  ConvergenceWarning,\n"
          ]
        },
        {
          "output_type": "stream",
          "name": "stdout",
          "text": [
            "Random Forests: Fold 0...1...2...3...4\n",
            "Average Kappa: 0.327\n",
            "-------------\n",
            "Best classifier is: SVM \n",
            "With K=0.330.\n"
          ]
        }
      ]
    },
    {
      "cell_type": "code",
      "metadata": {
        "id": "_H1PR7lOlr7n",
        "colab": {
          "base_uri": "https://localhost:8080/"
        },
        "outputId": "4e531b93-e7d8-4c8f-ac2d-c5d136d6d1e0"
      },
      "source": [
        "# Predict recidivism based on only protected features\n",
        "\n",
        "# Pick features to use\n",
        "protected_features = [\"sex\", \"age\", \"race\"]\n",
        "\n",
        "feature_set = protected_features \n",
        "\n",
        "# Compare models and display final result\n",
        "best, best_name, classifier_comparison = compare_classifiers(classifiers, metrics, metric_to_optimize, X_train, feature_set, \"is_recid\", labels=[\"0\", \"1\"], noisy = 'quiet', folds=5)\n",
        "\n",
        "print(f\"Best classifier is: {best_name} \\nWith K={best:.3f}.\")"
      ],
      "execution_count": null,
      "outputs": [
        {
          "output_type": "stream",
          "name": "stdout",
          "text": [
            "Multinomial NB: Fold 0...1...2...3...4\n",
            "Average Kappa: 0.181\n",
            "-------------\n",
            "Decision Tree: Fold 0...1...2...3...4\n",
            "Average Kappa: 0.180\n",
            "-------------\n",
            "Logistic Regression: Fold 0"
          ]
        },
        {
          "output_type": "stream",
          "name": "stderr",
          "text": [
            "/usr/local/lib/python3.7/dist-packages/sklearn/linear_model/_logistic.py:818: ConvergenceWarning: lbfgs failed to converge (status=1):\n",
            "STOP: TOTAL NO. of ITERATIONS REACHED LIMIT.\n",
            "\n",
            "Increase the number of iterations (max_iter) or scale the data as shown in:\n",
            "    https://scikit-learn.org/stable/modules/preprocessing.html\n",
            "Please also refer to the documentation for alternative solver options:\n",
            "    https://scikit-learn.org/stable/modules/linear_model.html#logistic-regression\n",
            "  extra_warning_msg=_LOGISTIC_SOLVER_CONVERGENCE_MSG,\n",
            "/usr/local/lib/python3.7/dist-packages/sklearn/linear_model/_logistic.py:818: ConvergenceWarning: lbfgs failed to converge (status=1):\n",
            "STOP: TOTAL NO. of ITERATIONS REACHED LIMIT.\n",
            "\n",
            "Increase the number of iterations (max_iter) or scale the data as shown in:\n",
            "    https://scikit-learn.org/stable/modules/preprocessing.html\n",
            "Please also refer to the documentation for alternative solver options:\n",
            "    https://scikit-learn.org/stable/modules/linear_model.html#logistic-regression\n",
            "  extra_warning_msg=_LOGISTIC_SOLVER_CONVERGENCE_MSG,\n"
          ]
        },
        {
          "output_type": "stream",
          "name": "stdout",
          "text": [
            "...1...2...3...4\n",
            "Average Kappa: 0.201\n",
            "-------------\n"
          ]
        },
        {
          "output_type": "stream",
          "name": "stderr",
          "text": [
            "/usr/local/lib/python3.7/dist-packages/sklearn/svm/_base.py:1208: ConvergenceWarning: Liblinear failed to converge, increase the number of iterations.\n",
            "  ConvergenceWarning,\n",
            "/usr/local/lib/python3.7/dist-packages/sklearn/svm/_base.py:1208: ConvergenceWarning: Liblinear failed to converge, increase the number of iterations.\n",
            "  ConvergenceWarning,\n"
          ]
        },
        {
          "output_type": "stream",
          "name": "stdout",
          "text": [
            "SVM: Fold 0...1"
          ]
        },
        {
          "output_type": "stream",
          "name": "stderr",
          "text": [
            "/usr/local/lib/python3.7/dist-packages/sklearn/svm/_base.py:1208: ConvergenceWarning: Liblinear failed to converge, increase the number of iterations.\n",
            "  ConvergenceWarning,\n",
            "/usr/local/lib/python3.7/dist-packages/sklearn/svm/_base.py:1208: ConvergenceWarning: Liblinear failed to converge, increase the number of iterations.\n",
            "  ConvergenceWarning,\n"
          ]
        },
        {
          "output_type": "stream",
          "name": "stdout",
          "text": [
            "...2...3"
          ]
        },
        {
          "output_type": "stream",
          "name": "stderr",
          "text": [
            "/usr/local/lib/python3.7/dist-packages/sklearn/svm/_base.py:1208: ConvergenceWarning: Liblinear failed to converge, increase the number of iterations.\n",
            "  ConvergenceWarning,\n"
          ]
        },
        {
          "output_type": "stream",
          "name": "stdout",
          "text": [
            "...4\n",
            "Average Kappa: 0.019\n",
            "-------------\n",
            "Random Forests: Fold 0...1...2...3...4\n",
            "Average Kappa: 0.159\n",
            "-------------\n",
            "Best classifier is: Logistic Regression \n",
            "With K=0.201.\n"
          ]
        }
      ]
    },
    {
      "cell_type": "code",
      "metadata": {
        "id": "qG4KvUghPObz",
        "colab": {
          "base_uri": "https://localhost:8080/"
        },
        "outputId": "2b8cf354-341e-41f9-bf70-4a51cc0e429a"
      },
      "source": [
        "# Predict recidivism based on easily observable features\n",
        "\n",
        "# Pick features to use\n",
        "protected_features = [\"sex\", \"age\", \"race\"]\n",
        "metadata_features = [\"juv_fel_count\", \"juv_misd_count\", \"juv_other_count\", \"priors_count\", \"c_charge_degree\", \"c_charge_desc\"]\n",
        "\n",
        "feature_set = protected_features + metadata_features\n",
        "\n",
        "# Compare models and display final result\n",
        "best, best_name, classifier_comparison = compare_classifiers(classifiers, metrics, metric_to_optimize, X_train, feature_set, \"is_recid\", labels=[\"0\", \"1\"], noisy = 'quiet', folds=5)\n",
        "\n",
        "print(f\"Best classifier is: {best_name} \\nWith K={best:.3f}.\")"
      ],
      "execution_count": null,
      "outputs": [
        {
          "output_type": "stream",
          "name": "stdout",
          "text": [
            "Multinomial NB: Fold 0...1...2...3...4\n",
            "Average Kappa: 0.352\n",
            "-------------\n",
            "Decision Tree: Fold 0...1...2...3...4\n",
            "Average Kappa: 0.219\n",
            "-------------\n"
          ]
        },
        {
          "output_type": "stream",
          "name": "stderr",
          "text": [
            "/usr/local/lib/python3.7/dist-packages/sklearn/linear_model/_logistic.py:818: ConvergenceWarning: lbfgs failed to converge (status=1):\n",
            "STOP: TOTAL NO. of ITERATIONS REACHED LIMIT.\n",
            "\n",
            "Increase the number of iterations (max_iter) or scale the data as shown in:\n",
            "    https://scikit-learn.org/stable/modules/preprocessing.html\n",
            "Please also refer to the documentation for alternative solver options:\n",
            "    https://scikit-learn.org/stable/modules/linear_model.html#logistic-regression\n",
            "  extra_warning_msg=_LOGISTIC_SOLVER_CONVERGENCE_MSG,\n"
          ]
        },
        {
          "output_type": "stream",
          "name": "stdout",
          "text": [
            "Logistic Regression: Fold 0"
          ]
        },
        {
          "output_type": "stream",
          "name": "stderr",
          "text": [
            "/usr/local/lib/python3.7/dist-packages/sklearn/linear_model/_logistic.py:818: ConvergenceWarning: lbfgs failed to converge (status=1):\n",
            "STOP: TOTAL NO. of ITERATIONS REACHED LIMIT.\n",
            "\n",
            "Increase the number of iterations (max_iter) or scale the data as shown in:\n",
            "    https://scikit-learn.org/stable/modules/preprocessing.html\n",
            "Please also refer to the documentation for alternative solver options:\n",
            "    https://scikit-learn.org/stable/modules/linear_model.html#logistic-regression\n",
            "  extra_warning_msg=_LOGISTIC_SOLVER_CONVERGENCE_MSG,\n"
          ]
        },
        {
          "output_type": "stream",
          "name": "stdout",
          "text": [
            "...1"
          ]
        },
        {
          "output_type": "stream",
          "name": "stderr",
          "text": [
            "/usr/local/lib/python3.7/dist-packages/sklearn/linear_model/_logistic.py:818: ConvergenceWarning: lbfgs failed to converge (status=1):\n",
            "STOP: TOTAL NO. of ITERATIONS REACHED LIMIT.\n",
            "\n",
            "Increase the number of iterations (max_iter) or scale the data as shown in:\n",
            "    https://scikit-learn.org/stable/modules/preprocessing.html\n",
            "Please also refer to the documentation for alternative solver options:\n",
            "    https://scikit-learn.org/stable/modules/linear_model.html#logistic-regression\n",
            "  extra_warning_msg=_LOGISTIC_SOLVER_CONVERGENCE_MSG,\n"
          ]
        },
        {
          "output_type": "stream",
          "name": "stdout",
          "text": [
            "...2"
          ]
        },
        {
          "output_type": "stream",
          "name": "stderr",
          "text": [
            "/usr/local/lib/python3.7/dist-packages/sklearn/linear_model/_logistic.py:818: ConvergenceWarning: lbfgs failed to converge (status=1):\n",
            "STOP: TOTAL NO. of ITERATIONS REACHED LIMIT.\n",
            "\n",
            "Increase the number of iterations (max_iter) or scale the data as shown in:\n",
            "    https://scikit-learn.org/stable/modules/preprocessing.html\n",
            "Please also refer to the documentation for alternative solver options:\n",
            "    https://scikit-learn.org/stable/modules/linear_model.html#logistic-regression\n",
            "  extra_warning_msg=_LOGISTIC_SOLVER_CONVERGENCE_MSG,\n"
          ]
        },
        {
          "output_type": "stream",
          "name": "stdout",
          "text": [
            "...3"
          ]
        },
        {
          "output_type": "stream",
          "name": "stderr",
          "text": [
            "/usr/local/lib/python3.7/dist-packages/sklearn/linear_model/_logistic.py:818: ConvergenceWarning: lbfgs failed to converge (status=1):\n",
            "STOP: TOTAL NO. of ITERATIONS REACHED LIMIT.\n",
            "\n",
            "Increase the number of iterations (max_iter) or scale the data as shown in:\n",
            "    https://scikit-learn.org/stable/modules/preprocessing.html\n",
            "Please also refer to the documentation for alternative solver options:\n",
            "    https://scikit-learn.org/stable/modules/linear_model.html#logistic-regression\n",
            "  extra_warning_msg=_LOGISTIC_SOLVER_CONVERGENCE_MSG,\n"
          ]
        },
        {
          "output_type": "stream",
          "name": "stdout",
          "text": [
            "...4\n",
            "Average Kappa: 0.337\n",
            "-------------\n"
          ]
        },
        {
          "output_type": "stream",
          "name": "stderr",
          "text": [
            "/usr/local/lib/python3.7/dist-packages/sklearn/svm/_base.py:1208: ConvergenceWarning: Liblinear failed to converge, increase the number of iterations.\n",
            "  ConvergenceWarning,\n"
          ]
        },
        {
          "output_type": "stream",
          "name": "stdout",
          "text": [
            "SVM: Fold 0"
          ]
        },
        {
          "output_type": "stream",
          "name": "stderr",
          "text": [
            "/usr/local/lib/python3.7/dist-packages/sklearn/svm/_base.py:1208: ConvergenceWarning: Liblinear failed to converge, increase the number of iterations.\n",
            "  ConvergenceWarning,\n"
          ]
        },
        {
          "output_type": "stream",
          "name": "stdout",
          "text": [
            "...1"
          ]
        },
        {
          "output_type": "stream",
          "name": "stderr",
          "text": [
            "/usr/local/lib/python3.7/dist-packages/sklearn/svm/_base.py:1208: ConvergenceWarning: Liblinear failed to converge, increase the number of iterations.\n",
            "  ConvergenceWarning,\n"
          ]
        },
        {
          "output_type": "stream",
          "name": "stdout",
          "text": [
            "...2"
          ]
        },
        {
          "output_type": "stream",
          "name": "stderr",
          "text": [
            "/usr/local/lib/python3.7/dist-packages/sklearn/svm/_base.py:1208: ConvergenceWarning: Liblinear failed to converge, increase the number of iterations.\n",
            "  ConvergenceWarning,\n"
          ]
        },
        {
          "output_type": "stream",
          "name": "stdout",
          "text": [
            "...3"
          ]
        },
        {
          "output_type": "stream",
          "name": "stderr",
          "text": [
            "/usr/local/lib/python3.7/dist-packages/sklearn/svm/_base.py:1208: ConvergenceWarning: Liblinear failed to converge, increase the number of iterations.\n",
            "  ConvergenceWarning,\n"
          ]
        },
        {
          "output_type": "stream",
          "name": "stdout",
          "text": [
            "...4\n",
            "Average Kappa: 0.221\n",
            "-------------\n",
            "Random Forests: Fold 0...1...2...3...4\n",
            "Average Kappa: 0.289\n",
            "-------------\n",
            "Best classifier is: Multinomial NB \n",
            "With K=0.352.\n"
          ]
        }
      ]
    },
    {
      "cell_type": "markdown",
      "metadata": {
        "id": "hEobKsnOlzdH"
      },
      "source": [
        "Interestingly, COMPAS does not appear to perform much better than these simple classifiers trained on this subset of the metadata when it comes to predicting whether someone truly will commit another crime. Further, we can see that we can make a significant amount of progress towards COMPAS' performance just by using the protected features. \n",
        "\n",
        "This provides some more evidence that whatever models are running underneath COMPAS have similar power to the basic methods we have learned over the semester. Further, either the methods or the data do not seem adequate to well model the complex relationships involved in predicting recidivism. Therefore, it is even more likely that the model is discovering and using simple latent features -- like race -- to help its predictions even though it is not explicitly being fed racial data. "
      ]
    },
    {
      "cell_type": "markdown",
      "metadata": {
        "id": "_NvxTtWUZ2ZC"
      },
      "source": [
        "## Feature Importance\n",
        "\n",
        "We'll now spend a short segment on looking at individual features in our models, and seeing how to explore them and find out which features are \"doing work\" in our classification.\n",
        "\n",
        "Of course, even when a feature has a low importance by these metrics, that doesn't always mean it's doing **nothing** - but this is often a good place to start."
      ]
    },
    {
      "cell_type": "markdown",
      "metadata": {
        "id": "gGxXxu3ae33Y"
      },
      "source": [
        "### In Trees and Forests"
      ]
    },
    {
      "cell_type": "code",
      "metadata": {
        "id": "LsGSZ7a6cAAS"
      },
      "source": [
        "X = compas\n",
        "y = compas.is_recid\n",
        "X_train, X_test, y_train, y_test = train_test_split(X,y,test_size=0.2, random_state=123)"
      ],
      "execution_count": null,
      "outputs": []
    },
    {
      "cell_type": "code",
      "metadata": {
        "id": "7S2yeeS-YH4n"
      },
      "source": [
        "\n",
        "# Pick features to use\n",
        "protected_features = [\"sex\", \"age\", \"race\"]\n",
        "metadata_features = [\"juv_fel_count\", \"juv_misd_count\", \"juv_other_count\", \"priors_count\", \"c_charge_degree\", \"c_charge_desc\"]\n",
        "\n",
        "feature_set = protected_features + metadata_features\n",
        "\n",
        "\n",
        "classifier = DecisionTreeClassifier()\n",
        "X_subset = pd.get_dummies(X_train.loc[:, feature_set])\n",
        "model = classifier.fit(X_subset, y_train)"
      ],
      "execution_count": null,
      "outputs": []
    },
    {
      "cell_type": "code",
      "metadata": {
        "id": "4PqU-CotYRjB",
        "colab": {
          "base_uri": "https://localhost:8080/"
        },
        "outputId": "d25ab7e2-59f2-4a81-c1b3-41a8f432615f"
      },
      "source": [
        "# Decision trees give us \n",
        "feature_importances = dict(zip(X_subset.columns, model.feature_importances_))\n",
        "for feature, importance in feature_importances.items():\n",
        "  if importance > 0.01:\n",
        "    print(f\"{feature}: {importance:.3f}\")"
      ],
      "execution_count": null,
      "outputs": [
        {
          "output_type": "stream",
          "name": "stdout",
          "text": [
            "age: 0.277\n",
            "juv_misd_count: 0.017\n",
            "juv_other_count: 0.018\n",
            "priors_count: 0.187\n",
            "sex_Female: 0.018\n",
            "sex_Male: 0.015\n",
            "race_African-American: 0.027\n",
            "race_Caucasian: 0.027\n",
            "race_Hispanic: 0.014\n",
            "race_Other: 0.016\n",
            "c_charge_degree_M: 0.010\n",
            "c_charge_desc_Battery: 0.015\n",
            "c_charge_desc_Grand Theft in the 3rd Degree: 0.016\n",
            "c_charge_desc_Possession of Cocaine: 0.016\n",
            "c_charge_desc_arrest case no charge: 0.019\n"
          ]
        }
      ]
    },
    {
      "cell_type": "code",
      "metadata": {
        "id": "CLMDcFy5YOER"
      },
      "source": [
        "# Pick features to use\n",
        "protected_features = [\"sex\", \"age\", \"race\"]\n",
        "metadata_features = [\"juv_fel_count\", \"juv_misd_count\", \"juv_other_count\", \"priors_count\", \"c_charge_degree\", \"c_charge_desc\"]\n",
        "\n",
        "feature_set = protected_features + metadata_features\n",
        "\n",
        "\n",
        "classifier = RandomForestClassifier()\n",
        "X_subset = pd.get_dummies(X_train.loc[:, feature_set])\n",
        "model = classifier.fit(X_subset, y_train)\n",
        "\n",
        "importances = [dict(zip(X_subset.columns, tree.feature_importances_)) for tree in model.estimators_]"
      ],
      "execution_count": null,
      "outputs": []
    },
    {
      "cell_type": "code",
      "metadata": {
        "id": "vM1iNIalZDzd",
        "colab": {
          "base_uri": "https://localhost:8080/"
        },
        "outputId": "e991d089-444e-4c3d-8063-2fdb5b1cf0df"
      },
      "source": [
        "threshold = 0.01\n",
        "for feature in X_subset.columns:\n",
        "  included = 0\n",
        "  for tree in importances:\n",
        "    if tree[feature] > threshold:\n",
        "      included += 1\n",
        "  if included > 0:\n",
        "    print(f\"{feature} included in {included}/100 trees\")"
      ],
      "execution_count": null,
      "outputs": [
        {
          "output_type": "stream",
          "name": "stdout",
          "text": [
            "age included in 100/100 trees\n",
            "juv_fel_count included in 63/100 trees\n",
            "juv_misd_count included in 100/100 trees\n",
            "juv_other_count included in 100/100 trees\n",
            "priors_count included in 100/100 trees\n",
            "sex_Female included in 56/100 trees\n",
            "sex_Male included in 56/100 trees\n",
            "race_African-American included in 87/100 trees\n",
            "race_Caucasian included in 70/100 trees\n",
            "race_Hispanic included in 27/100 trees\n",
            "race_Other included in 9/100 trees\n",
            "c_charge_degree_F included in 25/100 trees\n",
            "c_charge_degree_M included in 23/100 trees\n",
            "c_charge_desc_Battery included in 30/100 trees\n",
            "c_charge_desc_Burglary Unoccupied Dwelling included in 1/100 trees\n",
            "c_charge_desc_DUI Property Damage/Injury included in 1/100 trees\n",
            "c_charge_desc_Driving While License Revoked included in 3/100 trees\n",
            "c_charge_desc_Felony Driving While Lic Suspd included in 2/100 trees\n",
            "c_charge_desc_Felony Petit Theft included in 1/100 trees\n",
            "c_charge_desc_Grand Theft in the 3rd Degree included in 58/100 trees\n",
            "c_charge_desc_Pos Cannabis W/Intent Sel/Del included in 1/100 trees\n",
            "c_charge_desc_Possession of Cocaine included in 51/100 trees\n",
            "c_charge_desc_arrest case no charge included in 86/100 trees\n"
          ]
        }
      ]
    },
    {
      "cell_type": "markdown",
      "metadata": {
        "id": "iW3ps3yZe7BG"
      },
      "source": [
        "### In Regressions\n",
        "\n",
        "Scikit-learn directly exposes coefficients from our logistic regressions as a variable that we can access and align to our feature names."
      ]
    },
    {
      "cell_type": "code",
      "metadata": {
        "id": "AmZEDu3ee8kb",
        "colab": {
          "base_uri": "https://localhost:8080/"
        },
        "outputId": "19b2e23c-3efa-487b-d6d4-0a11f8152f08"
      },
      "source": [
        "# Pick features to use\n",
        "protected_features = [\"sex\", \"age\", \"race\"]\n",
        "metadata_features = [\"juv_fel_count\", \"juv_misd_count\", \"juv_other_count\", \"priors_count\", \"c_charge_degree\", \"c_charge_desc\"]\n",
        "\n",
        "feature_set = protected_features + metadata_features\n",
        "\n",
        "\n",
        "classifier = LogisticRegression()\n",
        "X_subset = pd.get_dummies(X_train.loc[:, feature_set])\n",
        "model = classifier.fit(X_subset, y_train)\n",
        "\n",
        "coef = [x[0] for x in model.coef_.T]\n",
        "coefficients = dict(zip(X_subset.columns, coef))\n",
        "\n",
        "for feature, coefficient in coefficients.items():\n",
        "  if coefficient > 0.01:\n",
        "    print(f\"{feature}: {coefficient}\")"
      ],
      "execution_count": null,
      "outputs": [
        {
          "output_type": "stream",
          "name": "stdout",
          "text": [
            "juv_fel_count: 0.20262220182402582\n",
            "juv_misd_count: 0.1346523278149522\n",
            "juv_other_count: 0.33082729874514155\n",
            "priors_count: 0.15890076823921612\n",
            "sex_Male: 0.30666259804967266\n",
            "race_African-American: 0.18374284999014812\n",
            "race_Caucasian: 0.13867999447565074\n",
            "race_Hispanic: 0.022508558167023872\n",
            "race_Native American: 0.09890165488102505\n",
            "c_charge_degree_F: 0.1972646638891396\n",
            "c_charge_degree_M: 0.05231221452862209\n",
            "c_charge_desc_Agg Assault W/int Com Fel Dome: 0.10651269697773975\n",
            "c_charge_desc_Aggravated Assault W/Dead Weap: 0.3257162908179807\n",
            "c_charge_desc_Aide/Abet Prostitution Lewdness: 0.14931190769410763\n",
            "c_charge_desc_Aiding Escape: 0.2399961203458336\n",
            "c_charge_desc_Alcoholic Beverage Violation-FL: 0.10180867783579331\n",
            "c_charge_desc_Assault: 0.33805180977496335\n",
            "c_charge_desc_Att Tamper w/Physical Evidence: 0.1752825505440365\n",
            "c_charge_desc_Attempt Armed Burglary Dwell: 0.017370746823889237\n",
            "c_charge_desc_Attempted Burg/Convey/Unocc: 0.2383307826494618\n",
            "c_charge_desc_Attempted Burg/struct/unocc: 0.08933337706565422\n",
            "c_charge_desc_Attempted Deliv Control Subst: 0.07100164622569244\n",
            "c_charge_desc_Battery Emergency Care Provide: 0.15548313928937307\n",
            "c_charge_desc_Battery On A Person Over 65: 0.133751023243822\n",
            "c_charge_desc_Battery Spouse Or Girlfriend: 0.15912679935077031\n",
            "c_charge_desc_Battery on Law Enforc Officer: 0.36471032604536263\n",
            "c_charge_desc_Battery on a Person Over 65: 0.3871431620772743\n",
            "c_charge_desc_Burgl Dwel/Struct/Convey Armed: 0.1235988720596209\n",
            "c_charge_desc_Burglary Conveyance Occupied: 0.042998801482034645\n",
            "c_charge_desc_Burglary Conveyance Unoccup: 0.488658216580725\n",
            "c_charge_desc_Burglary Dwelling Armed: 0.16129147626249463\n",
            "c_charge_desc_Burglary Dwelling Assault/Batt: 0.04992065960156516\n",
            "c_charge_desc_Burglary Dwelling Occupied: 0.6621966877264417\n",
            "c_charge_desc_Burglary Structure Unoccup: 0.446424220405582\n",
            "c_charge_desc_Carjacking w/o Deadly Weapon: 0.10078519802747686\n",
            "c_charge_desc_Carjacking with a Firearm: 0.07387181522875955\n",
            "c_charge_desc_Carrying A Concealed Weapon: 0.15908626946475968\n",
            "c_charge_desc_Carrying Concealed Firearm: 0.15351589395998141\n",
            "c_charge_desc_Child Abuse: 0.22926198242236825\n",
            "c_charge_desc_Contradict Statement: 0.1728204023416599\n",
            "c_charge_desc_Corrupt Public Servant: 0.4902203735509269\n",
            "c_charge_desc_Crim Attempt/Solic/Consp: 0.0564916633085858\n",
            "c_charge_desc_Crim Use of Personal ID Info: 0.24609564460777292\n",
            "c_charge_desc_Criminal Mischief: 0.21794092739083332\n",
            "c_charge_desc_Criminal Mischief Damage <$200: 0.17275881529118542\n",
            "c_charge_desc_DUI- Enhanced: 0.06437125373360653\n",
            "c_charge_desc_DWLS Canceled Disqul 1st Off: 0.0333889631281241\n",
            "c_charge_desc_Dealing in Stolen Property: 0.06857805803645518\n",
            "c_charge_desc_Defrauding Innkeeper: 0.15139233743287492\n",
            "c_charge_desc_Defrauding Innkeeper $300/More: 0.13711692614197946\n",
            "c_charge_desc_Del Cannabis At/Near Park: 0.11414136578738672\n",
            "c_charge_desc_Deliver Cannabis 1000FTSch: 0.11281938555352501\n",
            "c_charge_desc_Deliver Cocaine 1000FT Church: 0.11550147592828547\n",
            "c_charge_desc_Deliver Cocaine 1000FT School: 0.04052288806032449\n",
            "c_charge_desc_Delivery of Heroin: 0.13372403992187235\n",
            "c_charge_desc_Depriv LEO of Protect/Communic: 0.05520684921122193\n",
            "c_charge_desc_Disorderly Conduct: 0.5605073536638581\n",
            "c_charge_desc_Disrupting School Function: 0.1226509164434315\n",
            "c_charge_desc_Drivg While Lic Suspd/Revk/Can: 0.10873041658004017\n",
            "c_charge_desc_Escape: 0.06351219503584597\n",
            "c_charge_desc_Expired DL More Than 6 Months: 0.19007306494562207\n",
            "c_charge_desc_Extradition/Defendants: 0.08416429921541656\n",
            "c_charge_desc_Fabricating Physical Evidence: 0.07076744267372252\n",
            "c_charge_desc_Failure To Return Hired Vehicle: 0.042310872214129464\n",
            "c_charge_desc_False Name By Person Arrest: 0.0845996642847637\n",
            "c_charge_desc_False Ownership Info/Pawn Item: 0.7467726928867805\n",
            "c_charge_desc_Felony Battery: 0.12341028236891793\n",
            "c_charge_desc_Felony Battery w/Prior Convict: 0.01096802692490991\n",
            "c_charge_desc_Felony Committing Prostitution: 0.27998680278967236\n",
            "c_charge_desc_Felony DUI - Enhanced: 0.16744455479417483\n",
            "c_charge_desc_Felony Driving While Lic Suspd: 0.5586066105137244\n",
            "c_charge_desc_Felony Petit Theft: 1.158265026969963\n",
            "c_charge_desc_Felony/Driving Under Influence: 0.06333870557923535\n",
            "c_charge_desc_Fighting/Baiting Animals: 0.2053007654835674\n",
            "c_charge_desc_Fleeing Or Attmp Eluding A Leo: 0.2449503033051816\n",
            "c_charge_desc_Fleeing or Eluding a LEO: 0.030339925095407224\n",
            "c_charge_desc_Fraudulent Use of Credit Card: 0.04551472845525944\n",
            "c_charge_desc_Grand Theft (Motor Vehicle): 0.35854632301138545\n",
            "c_charge_desc_Grand Theft Dwell Property: 0.2049879804690807\n",
            "c_charge_desc_Grand Theft Firearm: 0.07088774937137199\n",
            "c_charge_desc_Grand Theft in the 3rd Degree: 0.037367578112106704\n",
            "c_charge_desc_Harm Public Servant Or Family: 0.12291239686990632\n",
            "c_charge_desc_Imperson Public Officer or Emplyee: 0.17045567353713625\n",
            "c_charge_desc_Issuing a Worthless Draft: 0.06427133753763214\n",
            "c_charge_desc_Leaving the Scene of Accident: 0.1173369779789653\n",
            "c_charge_desc_Lewdness Violation: 0.2626726465997513\n",
            "c_charge_desc_Littering: 0.10134983647872932\n",
            "c_charge_desc_Live on Earnings of Prostitute: 0.10715703704879173\n",
            "c_charge_desc_Lve/Scen/Acc/Veh/Prop/Damage: 0.4161644350017125\n",
            "c_charge_desc_Manslaughter W/Weapon/Firearm: 0.09923293770625055\n",
            "c_charge_desc_Misuse Of 911 Or E911 System: 0.1334971322994466\n",
            "c_charge_desc_Neglect Child / Bodily Harm: 0.3604062096648189\n",
            "c_charge_desc_Operating W/O Valid License: 0.40843845797351575\n",
            "c_charge_desc_PL/Unlaw Use Credit Card: 0.12055924376290246\n",
            "c_charge_desc_Petit Theft: 1.1361576218614498\n",
            "c_charge_desc_Petit Theft $100- $300: 0.33924719079657406\n",
            "c_charge_desc_Pos Cannabis For Consideration: 0.12641536534477124\n",
            "c_charge_desc_Pos Methylenedioxymethcath W/I/D/S: 0.11282249024006714\n",
            "c_charge_desc_Poss 3,4 MDMA (Ecstasy): 0.16822157309651498\n",
            "c_charge_desc_Poss Alprazolam W/int Sell/Del: 0.1641883269864969\n",
            "c_charge_desc_Poss Cntrft Contr Sub w/Intent: 0.01670894759249255\n",
            "c_charge_desc_Poss Cocaine/Intent To Del/Sel: 0.20782771775713127\n",
            "c_charge_desc_Poss Contr Subst W/o Prescript: 0.08544720555352017\n",
            "c_charge_desc_Poss Counterfeit Payment Inst: 0.12630686154642504\n",
            "c_charge_desc_Poss F/Arm Delinq: 0.3936511758798239\n",
            "c_charge_desc_Poss Firearm W/Altered ID#: 0.09061335310423493\n",
            "c_charge_desc_Poss Of 1,4-Butanediol: 0.12021916551630077\n",
            "c_charge_desc_Poss Of RX Without RX: 0.06634131615825047\n",
            "c_charge_desc_Poss Pyrrolidinobutiophenone: 0.01842838467018002\n",
            "c_charge_desc_Poss Pyrrolidinovalerophenone: 1.8309864543140277\n",
            "c_charge_desc_Poss Pyrrolidinovalerophenone W/I/D/S: 0.02131994009994871\n",
            "c_charge_desc_Poss Tetrahydrocannabinols: 0.13233511618637636\n",
            "c_charge_desc_Poss Unlaw Issue Id: 0.038926539239592786\n",
            "c_charge_desc_Poss of Firearm by Convic Felo: 0.2060934413748123\n",
            "c_charge_desc_Poss/Sell/Del Cocaine 1000FT Sch: 0.10485817082132673\n",
            "c_charge_desc_Poss/pur/sell/deliver Cocaine: 0.12362887794982856\n",
            "c_charge_desc_Posses/Disply Susp/Revk/Frd DL: 0.21968326740069674\n",
            "c_charge_desc_Possess Cannabis/20 Grams Or Less: 0.17007292437702226\n",
            "c_charge_desc_Possess Countrfeit Credit Card: 0.05737182025838572\n",
            "c_charge_desc_Possess Drug Paraphernalia: 0.033930483351241214\n",
            "c_charge_desc_Possess Mot Veh W/Alt Vin #: 0.09199122194924138\n",
            "c_charge_desc_Possession Burglary Tools: 0.3558798837531967\n",
            "c_charge_desc_Possession Of Alprazolam: 0.011808767004540114\n",
            "c_charge_desc_Possession Of Carisoprodol: 0.17680784537261704\n",
            "c_charge_desc_Possession Of Clonazepam: 0.09205627786402615\n",
            "c_charge_desc_Possession Of Heroin: 0.23264877922781102\n",
            "c_charge_desc_Possession Of Methamphetamine: 0.411684528904365\n",
            "c_charge_desc_Possession of Alcohol Under 21: 0.1280611724368654\n",
            "c_charge_desc_Possession of Butylone: 0.06540472371040826\n",
            "c_charge_desc_Possession of Cocaine: 0.277055385068925\n",
            "c_charge_desc_Possession of Ethylone: 0.24712487619461931\n",
            "c_charge_desc_Possession of Hydromorphone: 0.14454016142942683\n",
            "c_charge_desc_Possession of Methadone: 0.13104830070847034\n",
            "c_charge_desc_Possession of Oxycodone: 0.23119676141187578\n",
            "c_charge_desc_Principal In The First Degree: 0.0762843770692592\n",
            "c_charge_desc_Prostitution/Lewd Act Assignation: 0.109641457309608\n",
            "c_charge_desc_Prostitution/Lewdness/Assign: 0.0482954157020043\n",
            "c_charge_desc_Prowling/Loitering: 0.25562992699931303\n",
            "c_charge_desc_Reckless Driving: 0.2603878486468316\n",
            "c_charge_desc_Refuse Submit Blood/Breath Test: 0.21204798837316544\n",
            "c_charge_desc_Resist Officer w/Violence: 0.5623741339275116\n",
            "c_charge_desc_Resist/Obstruct W/O Violence: 0.6284809775027561\n",
            "c_charge_desc_Retail Theft $300 2nd Offense: 0.13502524781406572\n",
            "c_charge_desc_Ride Tri-Rail Without Paying: 0.1766171461810443\n",
            "c_charge_desc_Robbery Sudd Snatch No Weapon: 0.09911160072581603\n",
            "c_charge_desc_Robbery W/Firearm: 0.12631694128445398\n",
            "c_charge_desc_Sale/Del Cannabis At/Near Scho: 0.2511964055510375\n",
            "c_charge_desc_Sell/Man/Del Pos/w/int Heroin: 0.15028375688149734\n",
            "c_charge_desc_Sex Batt Faml/Cust Vict 12-17Y: 0.1606425556935845\n",
            "c_charge_desc_Shoot In Occupied Dwell: 0.052737869929471555\n",
            "c_charge_desc_Shoot Into Vehicle: 0.21136199896134267\n",
            "c_charge_desc_Solic to Commit Battery: 0.10677982927122619\n",
            "c_charge_desc_Solicit Purchase Cocaine: 0.2146269965972928\n",
            "c_charge_desc_Sound Articles Over 100: 0.13173735095046163\n",
            "c_charge_desc_Susp Drivers Lic 1st Offense: 0.28158658092220523\n",
            "c_charge_desc_Tamper With Victim: 0.23932262463864887\n",
            "c_charge_desc_Tamper With Witness: 0.07134734241267929\n",
            "c_charge_desc_Tamper With Witness/Victim/CI: 0.040490728117372955\n",
            "c_charge_desc_Tampering With Physical Evidence: 0.3758766111992315\n",
            "c_charge_desc_Throw Deadly Missile Into Veh: 0.018640047306483953\n",
            "c_charge_desc_Traff In Cocaine <400g>150 Kil: 0.15348853205881227\n",
            "c_charge_desc_Trans/Harm/Material to a Minor: 0.08569306939250876\n",
            "c_charge_desc_Trespass Property w/Dang Weap: 0.09730332361613536\n",
            "c_charge_desc_Trespass Struct/Conveyance: 0.19881198917460002\n",
            "c_charge_desc_Tresspass Struct/Conveyance: 0.05933751908678593\n",
            "c_charge_desc_Unauthorized Interf w/Railroad: 0.17915021946186818\n",
            "c_charge_desc_Unlaw Lic Use/Disply Of Others: 0.13872446702846883\n",
            "c_charge_desc_Unlaw Use False Name/Identity: 0.06587571473243772\n",
            "c_charge_desc_Use of Anti-Shoplifting Device: 0.058855295706025074\n",
            "c_charge_desc_Uttering Worthless Check +$150: 0.14256255129350698\n",
            "c_charge_desc_Uttering a Forged Instrument: 0.26738868550392614\n",
            "c_charge_desc_Viol Injunct Domestic Violence: 1.033577659100442\n",
            "c_charge_desc_Viol Injunction Protect Dom Vi: 0.2432217122702506\n",
            "c_charge_desc_Viol Pretrial Release Dom Viol: 0.5535473341622973\n",
            "c_charge_desc_Violation Of Boater Safety Id: 0.053682242145431575\n"
          ]
        },
        {
          "output_type": "stream",
          "name": "stderr",
          "text": [
            "/usr/local/lib/python3.7/dist-packages/sklearn/linear_model/_logistic.py:818: ConvergenceWarning: lbfgs failed to converge (status=1):\n",
            "STOP: TOTAL NO. of ITERATIONS REACHED LIMIT.\n",
            "\n",
            "Increase the number of iterations (max_iter) or scale the data as shown in:\n",
            "    https://scikit-learn.org/stable/modules/preprocessing.html\n",
            "Please also refer to the documentation for alternative solver options:\n",
            "    https://scikit-learn.org/stable/modules/linear_model.html#logistic-regression\n",
            "  extra_warning_msg=_LOGISTIC_SOLVER_CONVERGENCE_MSG,\n"
          ]
        }
      ]
    },
    {
      "cell_type": "markdown",
      "metadata": {
        "id": "RcS8x2EoNAu3"
      },
      "source": [
        "As we increase regularization strength, we can observe the number of features receiving high weight going down, and only the strongest signals stay included in the model."
      ]
    },
    {
      "cell_type": "code",
      "metadata": {
        "id": "DarogcfOMtxE",
        "colab": {
          "base_uri": "https://localhost:8080/"
        },
        "outputId": "1578a56e-aaa2-4f9c-9719-1dfdcb0bb3cb"
      },
      "source": [
        "# Pick features to use\n",
        "protected_features = [\"sex\", \"age\", \"race\"]\n",
        "metadata_features = [\"juv_fel_count\", \"juv_misd_count\", \"juv_other_count\", \"priors_count\", \"c_charge_degree\", \"c_charge_desc\"]\n",
        "\n",
        "feature_set = protected_features + metadata_features\n",
        "\n",
        "\n",
        "classifier = LogisticRegression(penalty='l2', C=0.001)\n",
        "X_subset = pd.get_dummies(X_train.loc[:, feature_set])\n",
        "model = classifier.fit(X_subset, y_train)\n",
        "\n",
        "coef = [x[0] for x in model.coef_.T]\n",
        "coefficients = dict(zip(X_subset.columns, coef))\n",
        "\n",
        "for feature, coefficient in coefficients.items():\n",
        "  if coefficient > 0.01:\n",
        "    print(f\"{feature}: {coefficient}\")"
      ],
      "execution_count": null,
      "outputs": [
        {
          "output_type": "stream",
          "name": "stdout",
          "text": [
            "juv_fel_count: 0.014585158234739298\n",
            "juv_other_count: 0.049976252142090435\n",
            "priors_count: 0.1696320386168335\n",
            "sex_Male: 0.04714161120073551\n",
            "race_African-American: 0.03314029756294005\n",
            "c_charge_degree_F: 0.030207935950457985\n",
            "c_charge_desc_Poss Pyrrolidinovalerophenone: 0.010182935177252746\n",
            "c_charge_desc_Possession of Cocaine: 0.026217370781044864\n"
          ]
        }
      ]
    },
    {
      "cell_type": "markdown",
      "metadata": {
        "id": "oPYDN5moe8tQ"
      },
      "source": [
        "### Model-Agnostic Options\n",
        "\n",
        "To test what features are useful for classification accuracy, we can run a series of experiments with each feature removed, then observe the gap between that model and the original model with all features, to see the individual impact of that one feature."
      ]
    },
    {
      "cell_type": "code",
      "metadata": {
        "id": "rpuABRHzZFFd",
        "colab": {
          "base_uri": "https://localhost:8080/"
        },
        "outputId": "8e261ed4-864b-4ad1-acc5-d9edefe41d29"
      },
      "source": [
        "def ablation_study():\n",
        "  kf = StratifiedKFold(n_splits=5, shuffle=True)\n",
        "  classifier = LogisticRegression()\n",
        "  X_subset = pd.get_dummies(X_train.loc[:, feature_set])\n",
        "  model = classifier.fit(X_subset, y_train)\n",
        "\n",
        "\n",
        "  # Set a list of metrics we want to use to compare our classifiers \n",
        "  metrics = {\n",
        "      \"Accuracy\" : lambda y,y_pred: 100*accuracy_score(y,y_pred),\n",
        "      \"Kappa\"    : cohen_kappa_score\n",
        "  }\n",
        "\n",
        "  baseline_metrics = evaluate_all_folds(\"baseline\", classifier, X_subset, y_train, kf, metrics, noisy = 'quiet')\n",
        "  print()\n",
        "  ablation_results = {}\n",
        "  for feature in feature_set:\n",
        "    ablation_features = feature_set.copy()\n",
        "    ablation_features.remove(feature)\n",
        "    classifier = LogisticRegression()\n",
        "    X_subset = pd.get_dummies(X_train.loc[:, ablation_features])\n",
        "    ablation_metrics = evaluate_all_folds(f\"No {feature}\", classifier, X_subset, y_train, kf, metrics, noisy = 'quiet')\n",
        "    ablation_results[feature] = ablation_metrics\n",
        "    print()\n",
        "  for feature in feature_set:\n",
        "    diff_K = np.mean(ablation_results[feature][\"Kappa\"]) - np.mean(baseline_metrics[\"Kappa\"])\n",
        "    print(f\"Remove {feature} K impact: {diff_K:.3f}\")\n",
        "\n",
        "ablation_study()"
      ],
      "execution_count": null,
      "outputs": [
        {
          "output_type": "stream",
          "name": "stderr",
          "text": [
            "/usr/local/lib/python3.7/dist-packages/sklearn/linear_model/_logistic.py:818: ConvergenceWarning: lbfgs failed to converge (status=1):\n",
            "STOP: TOTAL NO. of ITERATIONS REACHED LIMIT.\n",
            "\n",
            "Increase the number of iterations (max_iter) or scale the data as shown in:\n",
            "    https://scikit-learn.org/stable/modules/preprocessing.html\n",
            "Please also refer to the documentation for alternative solver options:\n",
            "    https://scikit-learn.org/stable/modules/linear_model.html#logistic-regression\n",
            "  extra_warning_msg=_LOGISTIC_SOLVER_CONVERGENCE_MSG,\n",
            "/usr/local/lib/python3.7/dist-packages/sklearn/linear_model/_logistic.py:818: ConvergenceWarning: lbfgs failed to converge (status=1):\n",
            "STOP: TOTAL NO. of ITERATIONS REACHED LIMIT.\n",
            "\n",
            "Increase the number of iterations (max_iter) or scale the data as shown in:\n",
            "    https://scikit-learn.org/stable/modules/preprocessing.html\n",
            "Please also refer to the documentation for alternative solver options:\n",
            "    https://scikit-learn.org/stable/modules/linear_model.html#logistic-regression\n",
            "  extra_warning_msg=_LOGISTIC_SOLVER_CONVERGENCE_MSG,\n"
          ]
        },
        {
          "output_type": "stream",
          "name": "stdout",
          "text": [
            "baseline: Fold 0"
          ]
        },
        {
          "output_type": "stream",
          "name": "stderr",
          "text": [
            "/usr/local/lib/python3.7/dist-packages/sklearn/linear_model/_logistic.py:818: ConvergenceWarning: lbfgs failed to converge (status=1):\n",
            "STOP: TOTAL NO. of ITERATIONS REACHED LIMIT.\n",
            "\n",
            "Increase the number of iterations (max_iter) or scale the data as shown in:\n",
            "    https://scikit-learn.org/stable/modules/preprocessing.html\n",
            "Please also refer to the documentation for alternative solver options:\n",
            "    https://scikit-learn.org/stable/modules/linear_model.html#logistic-regression\n",
            "  extra_warning_msg=_LOGISTIC_SOLVER_CONVERGENCE_MSG,\n"
          ]
        },
        {
          "output_type": "stream",
          "name": "stdout",
          "text": [
            "...1"
          ]
        },
        {
          "output_type": "stream",
          "name": "stderr",
          "text": [
            "/usr/local/lib/python3.7/dist-packages/sklearn/linear_model/_logistic.py:818: ConvergenceWarning: lbfgs failed to converge (status=1):\n",
            "STOP: TOTAL NO. of ITERATIONS REACHED LIMIT.\n",
            "\n",
            "Increase the number of iterations (max_iter) or scale the data as shown in:\n",
            "    https://scikit-learn.org/stable/modules/preprocessing.html\n",
            "Please also refer to the documentation for alternative solver options:\n",
            "    https://scikit-learn.org/stable/modules/linear_model.html#logistic-regression\n",
            "  extra_warning_msg=_LOGISTIC_SOLVER_CONVERGENCE_MSG,\n"
          ]
        },
        {
          "output_type": "stream",
          "name": "stdout",
          "text": [
            "...2"
          ]
        },
        {
          "output_type": "stream",
          "name": "stderr",
          "text": [
            "/usr/local/lib/python3.7/dist-packages/sklearn/linear_model/_logistic.py:818: ConvergenceWarning: lbfgs failed to converge (status=1):\n",
            "STOP: TOTAL NO. of ITERATIONS REACHED LIMIT.\n",
            "\n",
            "Increase the number of iterations (max_iter) or scale the data as shown in:\n",
            "    https://scikit-learn.org/stable/modules/preprocessing.html\n",
            "Please also refer to the documentation for alternative solver options:\n",
            "    https://scikit-learn.org/stable/modules/linear_model.html#logistic-regression\n",
            "  extra_warning_msg=_LOGISTIC_SOLVER_CONVERGENCE_MSG,\n"
          ]
        },
        {
          "output_type": "stream",
          "name": "stdout",
          "text": [
            "...3"
          ]
        },
        {
          "output_type": "stream",
          "name": "stderr",
          "text": [
            "/usr/local/lib/python3.7/dist-packages/sklearn/linear_model/_logistic.py:818: ConvergenceWarning: lbfgs failed to converge (status=1):\n",
            "STOP: TOTAL NO. of ITERATIONS REACHED LIMIT.\n",
            "\n",
            "Increase the number of iterations (max_iter) or scale the data as shown in:\n",
            "    https://scikit-learn.org/stable/modules/preprocessing.html\n",
            "Please also refer to the documentation for alternative solver options:\n",
            "    https://scikit-learn.org/stable/modules/linear_model.html#logistic-regression\n",
            "  extra_warning_msg=_LOGISTIC_SOLVER_CONVERGENCE_MSG,\n"
          ]
        },
        {
          "output_type": "stream",
          "name": "stdout",
          "text": [
            "...4\n"
          ]
        },
        {
          "output_type": "stream",
          "name": "stderr",
          "text": [
            "/usr/local/lib/python3.7/dist-packages/sklearn/linear_model/_logistic.py:818: ConvergenceWarning: lbfgs failed to converge (status=1):\n",
            "STOP: TOTAL NO. of ITERATIONS REACHED LIMIT.\n",
            "\n",
            "Increase the number of iterations (max_iter) or scale the data as shown in:\n",
            "    https://scikit-learn.org/stable/modules/preprocessing.html\n",
            "Please also refer to the documentation for alternative solver options:\n",
            "    https://scikit-learn.org/stable/modules/linear_model.html#logistic-regression\n",
            "  extra_warning_msg=_LOGISTIC_SOLVER_CONVERGENCE_MSG,\n"
          ]
        },
        {
          "output_type": "stream",
          "name": "stdout",
          "text": [
            "No sex: Fold 0"
          ]
        },
        {
          "output_type": "stream",
          "name": "stderr",
          "text": [
            "/usr/local/lib/python3.7/dist-packages/sklearn/linear_model/_logistic.py:818: ConvergenceWarning: lbfgs failed to converge (status=1):\n",
            "STOP: TOTAL NO. of ITERATIONS REACHED LIMIT.\n",
            "\n",
            "Increase the number of iterations (max_iter) or scale the data as shown in:\n",
            "    https://scikit-learn.org/stable/modules/preprocessing.html\n",
            "Please also refer to the documentation for alternative solver options:\n",
            "    https://scikit-learn.org/stable/modules/linear_model.html#logistic-regression\n",
            "  extra_warning_msg=_LOGISTIC_SOLVER_CONVERGENCE_MSG,\n"
          ]
        },
        {
          "output_type": "stream",
          "name": "stdout",
          "text": [
            "...1"
          ]
        },
        {
          "output_type": "stream",
          "name": "stderr",
          "text": [
            "/usr/local/lib/python3.7/dist-packages/sklearn/linear_model/_logistic.py:818: ConvergenceWarning: lbfgs failed to converge (status=1):\n",
            "STOP: TOTAL NO. of ITERATIONS REACHED LIMIT.\n",
            "\n",
            "Increase the number of iterations (max_iter) or scale the data as shown in:\n",
            "    https://scikit-learn.org/stable/modules/preprocessing.html\n",
            "Please also refer to the documentation for alternative solver options:\n",
            "    https://scikit-learn.org/stable/modules/linear_model.html#logistic-regression\n",
            "  extra_warning_msg=_LOGISTIC_SOLVER_CONVERGENCE_MSG,\n"
          ]
        },
        {
          "output_type": "stream",
          "name": "stdout",
          "text": [
            "...2"
          ]
        },
        {
          "output_type": "stream",
          "name": "stderr",
          "text": [
            "/usr/local/lib/python3.7/dist-packages/sklearn/linear_model/_logistic.py:818: ConvergenceWarning: lbfgs failed to converge (status=1):\n",
            "STOP: TOTAL NO. of ITERATIONS REACHED LIMIT.\n",
            "\n",
            "Increase the number of iterations (max_iter) or scale the data as shown in:\n",
            "    https://scikit-learn.org/stable/modules/preprocessing.html\n",
            "Please also refer to the documentation for alternative solver options:\n",
            "    https://scikit-learn.org/stable/modules/linear_model.html#logistic-regression\n",
            "  extra_warning_msg=_LOGISTIC_SOLVER_CONVERGENCE_MSG,\n"
          ]
        },
        {
          "output_type": "stream",
          "name": "stdout",
          "text": [
            "...3"
          ]
        },
        {
          "output_type": "stream",
          "name": "stderr",
          "text": [
            "/usr/local/lib/python3.7/dist-packages/sklearn/linear_model/_logistic.py:818: ConvergenceWarning: lbfgs failed to converge (status=1):\n",
            "STOP: TOTAL NO. of ITERATIONS REACHED LIMIT.\n",
            "\n",
            "Increase the number of iterations (max_iter) or scale the data as shown in:\n",
            "    https://scikit-learn.org/stable/modules/preprocessing.html\n",
            "Please also refer to the documentation for alternative solver options:\n",
            "    https://scikit-learn.org/stable/modules/linear_model.html#logistic-regression\n",
            "  extra_warning_msg=_LOGISTIC_SOLVER_CONVERGENCE_MSG,\n"
          ]
        },
        {
          "output_type": "stream",
          "name": "stdout",
          "text": [
            "...4\n"
          ]
        },
        {
          "output_type": "stream",
          "name": "stderr",
          "text": [
            "/usr/local/lib/python3.7/dist-packages/sklearn/linear_model/_logistic.py:818: ConvergenceWarning: lbfgs failed to converge (status=1):\n",
            "STOP: TOTAL NO. of ITERATIONS REACHED LIMIT.\n",
            "\n",
            "Increase the number of iterations (max_iter) or scale the data as shown in:\n",
            "    https://scikit-learn.org/stable/modules/preprocessing.html\n",
            "Please also refer to the documentation for alternative solver options:\n",
            "    https://scikit-learn.org/stable/modules/linear_model.html#logistic-regression\n",
            "  extra_warning_msg=_LOGISTIC_SOLVER_CONVERGENCE_MSG,\n"
          ]
        },
        {
          "output_type": "stream",
          "name": "stdout",
          "text": [
            "No age: Fold 0"
          ]
        },
        {
          "output_type": "stream",
          "name": "stderr",
          "text": [
            "/usr/local/lib/python3.7/dist-packages/sklearn/linear_model/_logistic.py:818: ConvergenceWarning: lbfgs failed to converge (status=1):\n",
            "STOP: TOTAL NO. of ITERATIONS REACHED LIMIT.\n",
            "\n",
            "Increase the number of iterations (max_iter) or scale the data as shown in:\n",
            "    https://scikit-learn.org/stable/modules/preprocessing.html\n",
            "Please also refer to the documentation for alternative solver options:\n",
            "    https://scikit-learn.org/stable/modules/linear_model.html#logistic-regression\n",
            "  extra_warning_msg=_LOGISTIC_SOLVER_CONVERGENCE_MSG,\n"
          ]
        },
        {
          "output_type": "stream",
          "name": "stdout",
          "text": [
            "...1"
          ]
        },
        {
          "output_type": "stream",
          "name": "stderr",
          "text": [
            "/usr/local/lib/python3.7/dist-packages/sklearn/linear_model/_logistic.py:818: ConvergenceWarning: lbfgs failed to converge (status=1):\n",
            "STOP: TOTAL NO. of ITERATIONS REACHED LIMIT.\n",
            "\n",
            "Increase the number of iterations (max_iter) or scale the data as shown in:\n",
            "    https://scikit-learn.org/stable/modules/preprocessing.html\n",
            "Please also refer to the documentation for alternative solver options:\n",
            "    https://scikit-learn.org/stable/modules/linear_model.html#logistic-regression\n",
            "  extra_warning_msg=_LOGISTIC_SOLVER_CONVERGENCE_MSG,\n"
          ]
        },
        {
          "output_type": "stream",
          "name": "stdout",
          "text": [
            "...2"
          ]
        },
        {
          "output_type": "stream",
          "name": "stderr",
          "text": [
            "/usr/local/lib/python3.7/dist-packages/sklearn/linear_model/_logistic.py:818: ConvergenceWarning: lbfgs failed to converge (status=1):\n",
            "STOP: TOTAL NO. of ITERATIONS REACHED LIMIT.\n",
            "\n",
            "Increase the number of iterations (max_iter) or scale the data as shown in:\n",
            "    https://scikit-learn.org/stable/modules/preprocessing.html\n",
            "Please also refer to the documentation for alternative solver options:\n",
            "    https://scikit-learn.org/stable/modules/linear_model.html#logistic-regression\n",
            "  extra_warning_msg=_LOGISTIC_SOLVER_CONVERGENCE_MSG,\n"
          ]
        },
        {
          "output_type": "stream",
          "name": "stdout",
          "text": [
            "...3"
          ]
        },
        {
          "output_type": "stream",
          "name": "stderr",
          "text": [
            "/usr/local/lib/python3.7/dist-packages/sklearn/linear_model/_logistic.py:818: ConvergenceWarning: lbfgs failed to converge (status=1):\n",
            "STOP: TOTAL NO. of ITERATIONS REACHED LIMIT.\n",
            "\n",
            "Increase the number of iterations (max_iter) or scale the data as shown in:\n",
            "    https://scikit-learn.org/stable/modules/preprocessing.html\n",
            "Please also refer to the documentation for alternative solver options:\n",
            "    https://scikit-learn.org/stable/modules/linear_model.html#logistic-regression\n",
            "  extra_warning_msg=_LOGISTIC_SOLVER_CONVERGENCE_MSG,\n"
          ]
        },
        {
          "output_type": "stream",
          "name": "stdout",
          "text": [
            "...4\n"
          ]
        },
        {
          "output_type": "stream",
          "name": "stderr",
          "text": [
            "/usr/local/lib/python3.7/dist-packages/sklearn/linear_model/_logistic.py:818: ConvergenceWarning: lbfgs failed to converge (status=1):\n",
            "STOP: TOTAL NO. of ITERATIONS REACHED LIMIT.\n",
            "\n",
            "Increase the number of iterations (max_iter) or scale the data as shown in:\n",
            "    https://scikit-learn.org/stable/modules/preprocessing.html\n",
            "Please also refer to the documentation for alternative solver options:\n",
            "    https://scikit-learn.org/stable/modules/linear_model.html#logistic-regression\n",
            "  extra_warning_msg=_LOGISTIC_SOLVER_CONVERGENCE_MSG,\n"
          ]
        },
        {
          "output_type": "stream",
          "name": "stdout",
          "text": [
            "No race: Fold 0"
          ]
        },
        {
          "output_type": "stream",
          "name": "stderr",
          "text": [
            "/usr/local/lib/python3.7/dist-packages/sklearn/linear_model/_logistic.py:818: ConvergenceWarning: lbfgs failed to converge (status=1):\n",
            "STOP: TOTAL NO. of ITERATIONS REACHED LIMIT.\n",
            "\n",
            "Increase the number of iterations (max_iter) or scale the data as shown in:\n",
            "    https://scikit-learn.org/stable/modules/preprocessing.html\n",
            "Please also refer to the documentation for alternative solver options:\n",
            "    https://scikit-learn.org/stable/modules/linear_model.html#logistic-regression\n",
            "  extra_warning_msg=_LOGISTIC_SOLVER_CONVERGENCE_MSG,\n"
          ]
        },
        {
          "output_type": "stream",
          "name": "stdout",
          "text": [
            "...1"
          ]
        },
        {
          "output_type": "stream",
          "name": "stderr",
          "text": [
            "/usr/local/lib/python3.7/dist-packages/sklearn/linear_model/_logistic.py:818: ConvergenceWarning: lbfgs failed to converge (status=1):\n",
            "STOP: TOTAL NO. of ITERATIONS REACHED LIMIT.\n",
            "\n",
            "Increase the number of iterations (max_iter) or scale the data as shown in:\n",
            "    https://scikit-learn.org/stable/modules/preprocessing.html\n",
            "Please also refer to the documentation for alternative solver options:\n",
            "    https://scikit-learn.org/stable/modules/linear_model.html#logistic-regression\n",
            "  extra_warning_msg=_LOGISTIC_SOLVER_CONVERGENCE_MSG,\n"
          ]
        },
        {
          "output_type": "stream",
          "name": "stdout",
          "text": [
            "...2"
          ]
        },
        {
          "output_type": "stream",
          "name": "stderr",
          "text": [
            "/usr/local/lib/python3.7/dist-packages/sklearn/linear_model/_logistic.py:818: ConvergenceWarning: lbfgs failed to converge (status=1):\n",
            "STOP: TOTAL NO. of ITERATIONS REACHED LIMIT.\n",
            "\n",
            "Increase the number of iterations (max_iter) or scale the data as shown in:\n",
            "    https://scikit-learn.org/stable/modules/preprocessing.html\n",
            "Please also refer to the documentation for alternative solver options:\n",
            "    https://scikit-learn.org/stable/modules/linear_model.html#logistic-regression\n",
            "  extra_warning_msg=_LOGISTIC_SOLVER_CONVERGENCE_MSG,\n"
          ]
        },
        {
          "output_type": "stream",
          "name": "stdout",
          "text": [
            "...3"
          ]
        },
        {
          "output_type": "stream",
          "name": "stderr",
          "text": [
            "/usr/local/lib/python3.7/dist-packages/sklearn/linear_model/_logistic.py:818: ConvergenceWarning: lbfgs failed to converge (status=1):\n",
            "STOP: TOTAL NO. of ITERATIONS REACHED LIMIT.\n",
            "\n",
            "Increase the number of iterations (max_iter) or scale the data as shown in:\n",
            "    https://scikit-learn.org/stable/modules/preprocessing.html\n",
            "Please also refer to the documentation for alternative solver options:\n",
            "    https://scikit-learn.org/stable/modules/linear_model.html#logistic-regression\n",
            "  extra_warning_msg=_LOGISTIC_SOLVER_CONVERGENCE_MSG,\n"
          ]
        },
        {
          "output_type": "stream",
          "name": "stdout",
          "text": [
            "...4\n"
          ]
        },
        {
          "output_type": "stream",
          "name": "stderr",
          "text": [
            "/usr/local/lib/python3.7/dist-packages/sklearn/linear_model/_logistic.py:818: ConvergenceWarning: lbfgs failed to converge (status=1):\n",
            "STOP: TOTAL NO. of ITERATIONS REACHED LIMIT.\n",
            "\n",
            "Increase the number of iterations (max_iter) or scale the data as shown in:\n",
            "    https://scikit-learn.org/stable/modules/preprocessing.html\n",
            "Please also refer to the documentation for alternative solver options:\n",
            "    https://scikit-learn.org/stable/modules/linear_model.html#logistic-regression\n",
            "  extra_warning_msg=_LOGISTIC_SOLVER_CONVERGENCE_MSG,\n"
          ]
        },
        {
          "output_type": "stream",
          "name": "stdout",
          "text": [
            "No juv_fel_count: Fold 0"
          ]
        },
        {
          "output_type": "stream",
          "name": "stderr",
          "text": [
            "/usr/local/lib/python3.7/dist-packages/sklearn/linear_model/_logistic.py:818: ConvergenceWarning: lbfgs failed to converge (status=1):\n",
            "STOP: TOTAL NO. of ITERATIONS REACHED LIMIT.\n",
            "\n",
            "Increase the number of iterations (max_iter) or scale the data as shown in:\n",
            "    https://scikit-learn.org/stable/modules/preprocessing.html\n",
            "Please also refer to the documentation for alternative solver options:\n",
            "    https://scikit-learn.org/stable/modules/linear_model.html#logistic-regression\n",
            "  extra_warning_msg=_LOGISTIC_SOLVER_CONVERGENCE_MSG,\n"
          ]
        },
        {
          "output_type": "stream",
          "name": "stdout",
          "text": [
            "...1"
          ]
        },
        {
          "output_type": "stream",
          "name": "stderr",
          "text": [
            "/usr/local/lib/python3.7/dist-packages/sklearn/linear_model/_logistic.py:818: ConvergenceWarning: lbfgs failed to converge (status=1):\n",
            "STOP: TOTAL NO. of ITERATIONS REACHED LIMIT.\n",
            "\n",
            "Increase the number of iterations (max_iter) or scale the data as shown in:\n",
            "    https://scikit-learn.org/stable/modules/preprocessing.html\n",
            "Please also refer to the documentation for alternative solver options:\n",
            "    https://scikit-learn.org/stable/modules/linear_model.html#logistic-regression\n",
            "  extra_warning_msg=_LOGISTIC_SOLVER_CONVERGENCE_MSG,\n"
          ]
        },
        {
          "output_type": "stream",
          "name": "stdout",
          "text": [
            "...2"
          ]
        },
        {
          "output_type": "stream",
          "name": "stderr",
          "text": [
            "/usr/local/lib/python3.7/dist-packages/sklearn/linear_model/_logistic.py:818: ConvergenceWarning: lbfgs failed to converge (status=1):\n",
            "STOP: TOTAL NO. of ITERATIONS REACHED LIMIT.\n",
            "\n",
            "Increase the number of iterations (max_iter) or scale the data as shown in:\n",
            "    https://scikit-learn.org/stable/modules/preprocessing.html\n",
            "Please also refer to the documentation for alternative solver options:\n",
            "    https://scikit-learn.org/stable/modules/linear_model.html#logistic-regression\n",
            "  extra_warning_msg=_LOGISTIC_SOLVER_CONVERGENCE_MSG,\n"
          ]
        },
        {
          "output_type": "stream",
          "name": "stdout",
          "text": [
            "...3"
          ]
        },
        {
          "output_type": "stream",
          "name": "stderr",
          "text": [
            "/usr/local/lib/python3.7/dist-packages/sklearn/linear_model/_logistic.py:818: ConvergenceWarning: lbfgs failed to converge (status=1):\n",
            "STOP: TOTAL NO. of ITERATIONS REACHED LIMIT.\n",
            "\n",
            "Increase the number of iterations (max_iter) or scale the data as shown in:\n",
            "    https://scikit-learn.org/stable/modules/preprocessing.html\n",
            "Please also refer to the documentation for alternative solver options:\n",
            "    https://scikit-learn.org/stable/modules/linear_model.html#logistic-regression\n",
            "  extra_warning_msg=_LOGISTIC_SOLVER_CONVERGENCE_MSG,\n"
          ]
        },
        {
          "output_type": "stream",
          "name": "stdout",
          "text": [
            "...4\n"
          ]
        },
        {
          "output_type": "stream",
          "name": "stderr",
          "text": [
            "/usr/local/lib/python3.7/dist-packages/sklearn/linear_model/_logistic.py:818: ConvergenceWarning: lbfgs failed to converge (status=1):\n",
            "STOP: TOTAL NO. of ITERATIONS REACHED LIMIT.\n",
            "\n",
            "Increase the number of iterations (max_iter) or scale the data as shown in:\n",
            "    https://scikit-learn.org/stable/modules/preprocessing.html\n",
            "Please also refer to the documentation for alternative solver options:\n",
            "    https://scikit-learn.org/stable/modules/linear_model.html#logistic-regression\n",
            "  extra_warning_msg=_LOGISTIC_SOLVER_CONVERGENCE_MSG,\n"
          ]
        },
        {
          "output_type": "stream",
          "name": "stdout",
          "text": [
            "No juv_misd_count: Fold 0"
          ]
        },
        {
          "output_type": "stream",
          "name": "stderr",
          "text": [
            "/usr/local/lib/python3.7/dist-packages/sklearn/linear_model/_logistic.py:818: ConvergenceWarning: lbfgs failed to converge (status=1):\n",
            "STOP: TOTAL NO. of ITERATIONS REACHED LIMIT.\n",
            "\n",
            "Increase the number of iterations (max_iter) or scale the data as shown in:\n",
            "    https://scikit-learn.org/stable/modules/preprocessing.html\n",
            "Please also refer to the documentation for alternative solver options:\n",
            "    https://scikit-learn.org/stable/modules/linear_model.html#logistic-regression\n",
            "  extra_warning_msg=_LOGISTIC_SOLVER_CONVERGENCE_MSG,\n"
          ]
        },
        {
          "output_type": "stream",
          "name": "stdout",
          "text": [
            "...1"
          ]
        },
        {
          "output_type": "stream",
          "name": "stderr",
          "text": [
            "/usr/local/lib/python3.7/dist-packages/sklearn/linear_model/_logistic.py:818: ConvergenceWarning: lbfgs failed to converge (status=1):\n",
            "STOP: TOTAL NO. of ITERATIONS REACHED LIMIT.\n",
            "\n",
            "Increase the number of iterations (max_iter) or scale the data as shown in:\n",
            "    https://scikit-learn.org/stable/modules/preprocessing.html\n",
            "Please also refer to the documentation for alternative solver options:\n",
            "    https://scikit-learn.org/stable/modules/linear_model.html#logistic-regression\n",
            "  extra_warning_msg=_LOGISTIC_SOLVER_CONVERGENCE_MSG,\n"
          ]
        },
        {
          "output_type": "stream",
          "name": "stdout",
          "text": [
            "...2"
          ]
        },
        {
          "output_type": "stream",
          "name": "stderr",
          "text": [
            "/usr/local/lib/python3.7/dist-packages/sklearn/linear_model/_logistic.py:818: ConvergenceWarning: lbfgs failed to converge (status=1):\n",
            "STOP: TOTAL NO. of ITERATIONS REACHED LIMIT.\n",
            "\n",
            "Increase the number of iterations (max_iter) or scale the data as shown in:\n",
            "    https://scikit-learn.org/stable/modules/preprocessing.html\n",
            "Please also refer to the documentation for alternative solver options:\n",
            "    https://scikit-learn.org/stable/modules/linear_model.html#logistic-regression\n",
            "  extra_warning_msg=_LOGISTIC_SOLVER_CONVERGENCE_MSG,\n"
          ]
        },
        {
          "output_type": "stream",
          "name": "stdout",
          "text": [
            "...3"
          ]
        },
        {
          "output_type": "stream",
          "name": "stderr",
          "text": [
            "/usr/local/lib/python3.7/dist-packages/sklearn/linear_model/_logistic.py:818: ConvergenceWarning: lbfgs failed to converge (status=1):\n",
            "STOP: TOTAL NO. of ITERATIONS REACHED LIMIT.\n",
            "\n",
            "Increase the number of iterations (max_iter) or scale the data as shown in:\n",
            "    https://scikit-learn.org/stable/modules/preprocessing.html\n",
            "Please also refer to the documentation for alternative solver options:\n",
            "    https://scikit-learn.org/stable/modules/linear_model.html#logistic-regression\n",
            "  extra_warning_msg=_LOGISTIC_SOLVER_CONVERGENCE_MSG,\n"
          ]
        },
        {
          "output_type": "stream",
          "name": "stdout",
          "text": [
            "...4\n"
          ]
        },
        {
          "output_type": "stream",
          "name": "stderr",
          "text": [
            "/usr/local/lib/python3.7/dist-packages/sklearn/linear_model/_logistic.py:818: ConvergenceWarning: lbfgs failed to converge (status=1):\n",
            "STOP: TOTAL NO. of ITERATIONS REACHED LIMIT.\n",
            "\n",
            "Increase the number of iterations (max_iter) or scale the data as shown in:\n",
            "    https://scikit-learn.org/stable/modules/preprocessing.html\n",
            "Please also refer to the documentation for alternative solver options:\n",
            "    https://scikit-learn.org/stable/modules/linear_model.html#logistic-regression\n",
            "  extra_warning_msg=_LOGISTIC_SOLVER_CONVERGENCE_MSG,\n"
          ]
        },
        {
          "output_type": "stream",
          "name": "stdout",
          "text": [
            "No juv_other_count: Fold 0"
          ]
        },
        {
          "output_type": "stream",
          "name": "stderr",
          "text": [
            "/usr/local/lib/python3.7/dist-packages/sklearn/linear_model/_logistic.py:818: ConvergenceWarning: lbfgs failed to converge (status=1):\n",
            "STOP: TOTAL NO. of ITERATIONS REACHED LIMIT.\n",
            "\n",
            "Increase the number of iterations (max_iter) or scale the data as shown in:\n",
            "    https://scikit-learn.org/stable/modules/preprocessing.html\n",
            "Please also refer to the documentation for alternative solver options:\n",
            "    https://scikit-learn.org/stable/modules/linear_model.html#logistic-regression\n",
            "  extra_warning_msg=_LOGISTIC_SOLVER_CONVERGENCE_MSG,\n"
          ]
        },
        {
          "output_type": "stream",
          "name": "stdout",
          "text": [
            "...1"
          ]
        },
        {
          "output_type": "stream",
          "name": "stderr",
          "text": [
            "/usr/local/lib/python3.7/dist-packages/sklearn/linear_model/_logistic.py:818: ConvergenceWarning: lbfgs failed to converge (status=1):\n",
            "STOP: TOTAL NO. of ITERATIONS REACHED LIMIT.\n",
            "\n",
            "Increase the number of iterations (max_iter) or scale the data as shown in:\n",
            "    https://scikit-learn.org/stable/modules/preprocessing.html\n",
            "Please also refer to the documentation for alternative solver options:\n",
            "    https://scikit-learn.org/stable/modules/linear_model.html#logistic-regression\n",
            "  extra_warning_msg=_LOGISTIC_SOLVER_CONVERGENCE_MSG,\n"
          ]
        },
        {
          "output_type": "stream",
          "name": "stdout",
          "text": [
            "...2"
          ]
        },
        {
          "output_type": "stream",
          "name": "stderr",
          "text": [
            "/usr/local/lib/python3.7/dist-packages/sklearn/linear_model/_logistic.py:818: ConvergenceWarning: lbfgs failed to converge (status=1):\n",
            "STOP: TOTAL NO. of ITERATIONS REACHED LIMIT.\n",
            "\n",
            "Increase the number of iterations (max_iter) or scale the data as shown in:\n",
            "    https://scikit-learn.org/stable/modules/preprocessing.html\n",
            "Please also refer to the documentation for alternative solver options:\n",
            "    https://scikit-learn.org/stable/modules/linear_model.html#logistic-regression\n",
            "  extra_warning_msg=_LOGISTIC_SOLVER_CONVERGENCE_MSG,\n"
          ]
        },
        {
          "output_type": "stream",
          "name": "stdout",
          "text": [
            "...3"
          ]
        },
        {
          "output_type": "stream",
          "name": "stderr",
          "text": [
            "/usr/local/lib/python3.7/dist-packages/sklearn/linear_model/_logistic.py:818: ConvergenceWarning: lbfgs failed to converge (status=1):\n",
            "STOP: TOTAL NO. of ITERATIONS REACHED LIMIT.\n",
            "\n",
            "Increase the number of iterations (max_iter) or scale the data as shown in:\n",
            "    https://scikit-learn.org/stable/modules/preprocessing.html\n",
            "Please also refer to the documentation for alternative solver options:\n",
            "    https://scikit-learn.org/stable/modules/linear_model.html#logistic-regression\n",
            "  extra_warning_msg=_LOGISTIC_SOLVER_CONVERGENCE_MSG,\n"
          ]
        },
        {
          "output_type": "stream",
          "name": "stdout",
          "text": [
            "...4\n"
          ]
        },
        {
          "output_type": "stream",
          "name": "stderr",
          "text": [
            "/usr/local/lib/python3.7/dist-packages/sklearn/linear_model/_logistic.py:818: ConvergenceWarning: lbfgs failed to converge (status=1):\n",
            "STOP: TOTAL NO. of ITERATIONS REACHED LIMIT.\n",
            "\n",
            "Increase the number of iterations (max_iter) or scale the data as shown in:\n",
            "    https://scikit-learn.org/stable/modules/preprocessing.html\n",
            "Please also refer to the documentation for alternative solver options:\n",
            "    https://scikit-learn.org/stable/modules/linear_model.html#logistic-regression\n",
            "  extra_warning_msg=_LOGISTIC_SOLVER_CONVERGENCE_MSG,\n"
          ]
        },
        {
          "output_type": "stream",
          "name": "stdout",
          "text": [
            "No priors_count: Fold 0"
          ]
        },
        {
          "output_type": "stream",
          "name": "stderr",
          "text": [
            "/usr/local/lib/python3.7/dist-packages/sklearn/linear_model/_logistic.py:818: ConvergenceWarning: lbfgs failed to converge (status=1):\n",
            "STOP: TOTAL NO. of ITERATIONS REACHED LIMIT.\n",
            "\n",
            "Increase the number of iterations (max_iter) or scale the data as shown in:\n",
            "    https://scikit-learn.org/stable/modules/preprocessing.html\n",
            "Please also refer to the documentation for alternative solver options:\n",
            "    https://scikit-learn.org/stable/modules/linear_model.html#logistic-regression\n",
            "  extra_warning_msg=_LOGISTIC_SOLVER_CONVERGENCE_MSG,\n"
          ]
        },
        {
          "output_type": "stream",
          "name": "stdout",
          "text": [
            "...1"
          ]
        },
        {
          "output_type": "stream",
          "name": "stderr",
          "text": [
            "/usr/local/lib/python3.7/dist-packages/sklearn/linear_model/_logistic.py:818: ConvergenceWarning: lbfgs failed to converge (status=1):\n",
            "STOP: TOTAL NO. of ITERATIONS REACHED LIMIT.\n",
            "\n",
            "Increase the number of iterations (max_iter) or scale the data as shown in:\n",
            "    https://scikit-learn.org/stable/modules/preprocessing.html\n",
            "Please also refer to the documentation for alternative solver options:\n",
            "    https://scikit-learn.org/stable/modules/linear_model.html#logistic-regression\n",
            "  extra_warning_msg=_LOGISTIC_SOLVER_CONVERGENCE_MSG,\n"
          ]
        },
        {
          "output_type": "stream",
          "name": "stdout",
          "text": [
            "...2"
          ]
        },
        {
          "output_type": "stream",
          "name": "stderr",
          "text": [
            "/usr/local/lib/python3.7/dist-packages/sklearn/linear_model/_logistic.py:818: ConvergenceWarning: lbfgs failed to converge (status=1):\n",
            "STOP: TOTAL NO. of ITERATIONS REACHED LIMIT.\n",
            "\n",
            "Increase the number of iterations (max_iter) or scale the data as shown in:\n",
            "    https://scikit-learn.org/stable/modules/preprocessing.html\n",
            "Please also refer to the documentation for alternative solver options:\n",
            "    https://scikit-learn.org/stable/modules/linear_model.html#logistic-regression\n",
            "  extra_warning_msg=_LOGISTIC_SOLVER_CONVERGENCE_MSG,\n"
          ]
        },
        {
          "output_type": "stream",
          "name": "stdout",
          "text": [
            "...3"
          ]
        },
        {
          "output_type": "stream",
          "name": "stderr",
          "text": [
            "/usr/local/lib/python3.7/dist-packages/sklearn/linear_model/_logistic.py:818: ConvergenceWarning: lbfgs failed to converge (status=1):\n",
            "STOP: TOTAL NO. of ITERATIONS REACHED LIMIT.\n",
            "\n",
            "Increase the number of iterations (max_iter) or scale the data as shown in:\n",
            "    https://scikit-learn.org/stable/modules/preprocessing.html\n",
            "Please also refer to the documentation for alternative solver options:\n",
            "    https://scikit-learn.org/stable/modules/linear_model.html#logistic-regression\n",
            "  extra_warning_msg=_LOGISTIC_SOLVER_CONVERGENCE_MSG,\n"
          ]
        },
        {
          "output_type": "stream",
          "name": "stdout",
          "text": [
            "...4\n"
          ]
        },
        {
          "output_type": "stream",
          "name": "stderr",
          "text": [
            "/usr/local/lib/python3.7/dist-packages/sklearn/linear_model/_logistic.py:818: ConvergenceWarning: lbfgs failed to converge (status=1):\n",
            "STOP: TOTAL NO. of ITERATIONS REACHED LIMIT.\n",
            "\n",
            "Increase the number of iterations (max_iter) or scale the data as shown in:\n",
            "    https://scikit-learn.org/stable/modules/preprocessing.html\n",
            "Please also refer to the documentation for alternative solver options:\n",
            "    https://scikit-learn.org/stable/modules/linear_model.html#logistic-regression\n",
            "  extra_warning_msg=_LOGISTIC_SOLVER_CONVERGENCE_MSG,\n"
          ]
        },
        {
          "output_type": "stream",
          "name": "stdout",
          "text": [
            "No c_charge_degree: Fold 0"
          ]
        },
        {
          "output_type": "stream",
          "name": "stderr",
          "text": [
            "/usr/local/lib/python3.7/dist-packages/sklearn/linear_model/_logistic.py:818: ConvergenceWarning: lbfgs failed to converge (status=1):\n",
            "STOP: TOTAL NO. of ITERATIONS REACHED LIMIT.\n",
            "\n",
            "Increase the number of iterations (max_iter) or scale the data as shown in:\n",
            "    https://scikit-learn.org/stable/modules/preprocessing.html\n",
            "Please also refer to the documentation for alternative solver options:\n",
            "    https://scikit-learn.org/stable/modules/linear_model.html#logistic-regression\n",
            "  extra_warning_msg=_LOGISTIC_SOLVER_CONVERGENCE_MSG,\n"
          ]
        },
        {
          "output_type": "stream",
          "name": "stdout",
          "text": [
            "...1"
          ]
        },
        {
          "output_type": "stream",
          "name": "stderr",
          "text": [
            "/usr/local/lib/python3.7/dist-packages/sklearn/linear_model/_logistic.py:818: ConvergenceWarning: lbfgs failed to converge (status=1):\n",
            "STOP: TOTAL NO. of ITERATIONS REACHED LIMIT.\n",
            "\n",
            "Increase the number of iterations (max_iter) or scale the data as shown in:\n",
            "    https://scikit-learn.org/stable/modules/preprocessing.html\n",
            "Please also refer to the documentation for alternative solver options:\n",
            "    https://scikit-learn.org/stable/modules/linear_model.html#logistic-regression\n",
            "  extra_warning_msg=_LOGISTIC_SOLVER_CONVERGENCE_MSG,\n"
          ]
        },
        {
          "output_type": "stream",
          "name": "stdout",
          "text": [
            "...2"
          ]
        },
        {
          "output_type": "stream",
          "name": "stderr",
          "text": [
            "/usr/local/lib/python3.7/dist-packages/sklearn/linear_model/_logistic.py:818: ConvergenceWarning: lbfgs failed to converge (status=1):\n",
            "STOP: TOTAL NO. of ITERATIONS REACHED LIMIT.\n",
            "\n",
            "Increase the number of iterations (max_iter) or scale the data as shown in:\n",
            "    https://scikit-learn.org/stable/modules/preprocessing.html\n",
            "Please also refer to the documentation for alternative solver options:\n",
            "    https://scikit-learn.org/stable/modules/linear_model.html#logistic-regression\n",
            "  extra_warning_msg=_LOGISTIC_SOLVER_CONVERGENCE_MSG,\n"
          ]
        },
        {
          "output_type": "stream",
          "name": "stdout",
          "text": [
            "...3"
          ]
        },
        {
          "output_type": "stream",
          "name": "stderr",
          "text": [
            "/usr/local/lib/python3.7/dist-packages/sklearn/linear_model/_logistic.py:818: ConvergenceWarning: lbfgs failed to converge (status=1):\n",
            "STOP: TOTAL NO. of ITERATIONS REACHED LIMIT.\n",
            "\n",
            "Increase the number of iterations (max_iter) or scale the data as shown in:\n",
            "    https://scikit-learn.org/stable/modules/preprocessing.html\n",
            "Please also refer to the documentation for alternative solver options:\n",
            "    https://scikit-learn.org/stable/modules/linear_model.html#logistic-regression\n",
            "  extra_warning_msg=_LOGISTIC_SOLVER_CONVERGENCE_MSG,\n",
            "/usr/local/lib/python3.7/dist-packages/sklearn/linear_model/_logistic.py:818: ConvergenceWarning: lbfgs failed to converge (status=1):\n",
            "STOP: TOTAL NO. of ITERATIONS REACHED LIMIT.\n",
            "\n",
            "Increase the number of iterations (max_iter) or scale the data as shown in:\n",
            "    https://scikit-learn.org/stable/modules/preprocessing.html\n",
            "Please also refer to the documentation for alternative solver options:\n",
            "    https://scikit-learn.org/stable/modules/linear_model.html#logistic-regression\n",
            "  extra_warning_msg=_LOGISTIC_SOLVER_CONVERGENCE_MSG,\n"
          ]
        },
        {
          "output_type": "stream",
          "name": "stdout",
          "text": [
            "...4\n",
            "No c_charge_desc: Fold 0"
          ]
        },
        {
          "output_type": "stream",
          "name": "stderr",
          "text": [
            "/usr/local/lib/python3.7/dist-packages/sklearn/linear_model/_logistic.py:818: ConvergenceWarning: lbfgs failed to converge (status=1):\n",
            "STOP: TOTAL NO. of ITERATIONS REACHED LIMIT.\n",
            "\n",
            "Increase the number of iterations (max_iter) or scale the data as shown in:\n",
            "    https://scikit-learn.org/stable/modules/preprocessing.html\n",
            "Please also refer to the documentation for alternative solver options:\n",
            "    https://scikit-learn.org/stable/modules/linear_model.html#logistic-regression\n",
            "  extra_warning_msg=_LOGISTIC_SOLVER_CONVERGENCE_MSG,\n",
            "/usr/local/lib/python3.7/dist-packages/sklearn/linear_model/_logistic.py:818: ConvergenceWarning: lbfgs failed to converge (status=1):\n",
            "STOP: TOTAL NO. of ITERATIONS REACHED LIMIT.\n",
            "\n",
            "Increase the number of iterations (max_iter) or scale the data as shown in:\n",
            "    https://scikit-learn.org/stable/modules/preprocessing.html\n",
            "Please also refer to the documentation for alternative solver options:\n",
            "    https://scikit-learn.org/stable/modules/linear_model.html#logistic-regression\n",
            "  extra_warning_msg=_LOGISTIC_SOLVER_CONVERGENCE_MSG,\n"
          ]
        },
        {
          "output_type": "stream",
          "name": "stdout",
          "text": [
            "...1...2...3...4\n",
            "Remove sex K impact: 0.014\n",
            "Remove age K impact: -0.026\n",
            "Remove race K impact: 0.013\n",
            "Remove juv_fel_count K impact: 0.017\n",
            "Remove juv_misd_count K impact: -0.002\n",
            "Remove juv_other_count K impact: 0.003\n",
            "Remove priors_count K impact: -0.082\n",
            "Remove c_charge_degree K impact: 0.010\n",
            "Remove c_charge_desc K impact: 0.028\n"
          ]
        },
        {
          "output_type": "stream",
          "name": "stderr",
          "text": [
            "/usr/local/lib/python3.7/dist-packages/sklearn/linear_model/_logistic.py:818: ConvergenceWarning: lbfgs failed to converge (status=1):\n",
            "STOP: TOTAL NO. of ITERATIONS REACHED LIMIT.\n",
            "\n",
            "Increase the number of iterations (max_iter) or scale the data as shown in:\n",
            "    https://scikit-learn.org/stable/modules/preprocessing.html\n",
            "Please also refer to the documentation for alternative solver options:\n",
            "    https://scikit-learn.org/stable/modules/linear_model.html#logistic-regression\n",
            "  extra_warning_msg=_LOGISTIC_SOLVER_CONVERGENCE_MSG,\n"
          ]
        }
      ]
    },
    {
      "cell_type": "markdown",
      "metadata": {
        "id": "9pOiRmcFNUGX"
      },
      "source": [
        "What we observe is that `priors count` is actually the feature that has the strongest signal here. This appears to be a success story for race-blind classification, as the race feature was not needed. However, below we see that the `priors count` feature is, itself, correlated with race, making it an imperfect claim to \"blindness\"."
      ]
    },
    {
      "cell_type": "code",
      "metadata": {
        "id": "-K1Ii7pwbW1F",
        "colab": {
          "base_uri": "https://localhost:8080/",
          "height": 367
        },
        "outputId": "9a76f89b-35c8-4a78-dbce-f3b78f63c568"
      },
      "source": [
        "vals = compas[\"race\"].unique()\n",
        "subsets = []\n",
        "for v in vals:\n",
        "  subsets.append(compas.loc[compas[\"race\"] == v][\"priors_count\"])\n",
        "print(len(subsets))\n",
        "plt.boxplot(subsets)\n",
        "plt.xticks(np.arange(1, len(vals)+1), vals)\n",
        "plt.xlabel(\"race\")\n",
        "plt.ylabel(\"priors_count\")\n",
        "plt.title(f'{\"race\"} vs {\"priors_count\"}')\n",
        "plt.show()"
      ],
      "execution_count": null,
      "outputs": [
        {
          "output_type": "stream",
          "name": "stdout",
          "text": [
            "6\n"
          ]
        },
        {
          "output_type": "stream",
          "name": "stderr",
          "text": [
            "/usr/local/lib/python3.7/dist-packages/matplotlib/cbook/__init__.py:1376: VisibleDeprecationWarning: Creating an ndarray from ragged nested sequences (which is a list-or-tuple of lists-or-tuples-or ndarrays with different lengths or shapes) is deprecated. If you meant to do this, you must specify 'dtype=object' when creating the ndarray.\n",
            "  X = np.atleast_1d(X.T if isinstance(X, np.ndarray) else np.asarray(X))\n"
          ]
        },
        {
          "output_type": "display_data",
          "data": {
            "text/plain": [
              "<Figure size 432x288 with 1 Axes>"
            ],
            "image/png": "[encoded data removed]"
          },
          "metadata": {
            "needs_background": "light"
          }
        }
      ]
    },
    {
      "cell_type": "markdown",
      "metadata": {
        "id": "HMPQebwBdx_7"
      },
      "source": [
        "We see here from the ablation study that the race variable can be removed entirely from the model without losing performance. But at least one of the primary reasons for that is that the priors count feature, which is highly related to race, is a more predictive feature that accomplishes the same goal for the model."
      ]
    }
  ]
}