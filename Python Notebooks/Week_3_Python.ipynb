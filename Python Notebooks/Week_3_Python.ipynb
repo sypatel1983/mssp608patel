{
  "nbformat": 4,
  "nbformat_minor": 0,
  "metadata": {
    "kernelspec": {
      "display_name": "Python 3",
      "language": "python",
      "name": "python3"
    },
    "language_info": {
      "codemirror_mode": {
        "name": "ipython",
        "version": 3
      },
      "file_extension": ".py",
      "mimetype": "text/x-python",
      "name": "python",
      "nbconvert_exporter": "python",
      "pygments_lexer": "ipython3",
      "version": "3.7.4"
    },
    "colab": {
      "provenance": []
    }
  },
  "cells": [
    {
      "cell_type": "code",
      "metadata": {
        "id": "7dGUsekIP1TQ"
      },
      "source": [
        "import math\n",
        "import pandas as pd\n",
        "import numpy as np\n",
        "import statsmodels.formula.api as smf\n",
        "import matplotlib.pyplot as plt\n",
        "from scipy import stats\n",
        "from matplotlib import dates\n",
        "from datetime import datetime\n",
        "import calendar\n",
        "\n",
        "from sklearn.metrics import accuracy_score, precision_score, recall_score, cohen_kappa_score, confusion_matrix, ConfusionMatrixDisplay, f1_score\n",
        "from sklearn.linear_model import LogisticRegression\n",
        "from sklearn.tree import DecisionTreeClassifier\n",
        "from sklearn.naive_bayes import BernoulliNB\n",
        "from sklearn import tree\n",
        "from sklearn.model_selection import train_test_split, KFold"
      ],
      "execution_count": null,
      "outputs": []
    },
    {
      "cell_type": "markdown",
      "metadata": {
        "id": "1-nnWJXXnr-f"
      },
      "source": [
        "# Prerequisites (What you should know from Day 1)\n",
        "\n",
        "Here's what you should understand well from day 1 to be able to understand this notebook. If you don't feel comfortable with any of these topics its HIGHLY recommended that you review it before continuing with this notebook!\n",
        "\n",
        "- Preprocessing the data with pandas\n",
        "- What are decision trees\n",
        "- How to train a decision tree in scikit-learn"
      ]
    },
    {
      "cell_type": "markdown",
      "metadata": {
        "id": "Jfzos_3nR3-F"
      },
      "source": [
        "# Downloading and Preprocessing the Data (Same as in Day 1)\n",
        "\n",
        "If you understand this part of the Day 1 notebook, then feel free to skip over reading this part of the notebook since it is exactly the same. "
      ]
    },
    {
      "cell_type": "code",
      "metadata": {
        "id": "zrIzmeDLSDfR",
        "colab": {
          "base_uri": "https://localhost:8080/"
        },
        "outputId": "e9dc7235-7e36-4c72-9c33-c2a87559cda1"
      },
      "source": [
        "# Download the data\n",
        "!wget --no-check-certificate 'https://docs.google.com/uc?export=download&id=0B5qTk6DHjanhY2ZaOENiUnROQVZld1lQVXNVNzh0dnZodFdJ' -O bikeshare_train.csv"
      ],
      "execution_count": null,
      "outputs": [
        {
          "output_type": "stream",
          "name": "stdout",
          "text": [
            "--2022-01-27 20:33:31--  https://docs.google.com/uc?export=download&id=0B5qTk6DHjanhY2ZaOENiUnROQVZld1lQVXNVNzh0dnZodFdJ\n",
            "Resolving docs.google.com (docs.google.com)... 74.125.203.113, 74.125.203.100, 74.125.203.139, ...\n",
            "Connecting to docs.google.com (docs.google.com)|74.125.203.113|:443... connected.\n",
            "HTTP request sent, awaiting response... 302 Moved Temporarily\n",
            "Location: https://doc-0s-5c-docs.googleusercontent.com/docs/securesc/ha0ro937gcuc7l7deffksulhg5h7mbp1/jc97pnmmh6l4hsuama7iq5p6sarvbtuf/1643315550000/09819396713149841370/*/0B5qTk6DHjanhY2ZaOENiUnROQVZld1lQVXNVNzh0dnZodFdJ?e=download [following]\n",
            "Warning: wildcards not supported in HTTP.\n",
            "--2022-01-27 20:33:32--  https://doc-0s-5c-docs.googleusercontent.com/docs/securesc/ha0ro937gcuc7l7deffksulhg5h7mbp1/jc97pnmmh6l4hsuama7iq5p6sarvbtuf/1643315550000/09819396713149841370/*/0B5qTk6DHjanhY2ZaOENiUnROQVZld1lQVXNVNzh0dnZodFdJ?e=download\n",
            "Resolving doc-0s-5c-docs.googleusercontent.com (doc-0s-5c-docs.googleusercontent.com)... 74.125.204.132, 2404:6800:4008:c04::84\n",
            "Connecting to doc-0s-5c-docs.googleusercontent.com (doc-0s-5c-docs.googleusercontent.com)|74.125.204.132|:443... connected.\n",
            "HTTP request sent, awaiting response... 200 OK\n",
            "Length: 648353 (633K) [text/csv]\n",
            "Saving to: ‘bikeshare_train.csv’\n",
            "\n",
            "bikeshare_train.csv 100%[===================>] 633.16K  --.-KB/s    in 0.005s  \n",
            "\n",
            "2022-01-27 20:33:32 (127 MB/s) - ‘bikeshare_train.csv’ saved [648353/648353]\n",
            "\n"
          ]
        }
      ]
    },
    {
      "cell_type": "code",
      "metadata": {
        "id": "kFc_Fr7wP1Td"
      },
      "source": [
        "# Load the data with pandas and properly setup the date/time data\n",
        "bikeshare = pd.read_csv(\"bikeshare_train.csv\")\n",
        "bikeshare[\"date_objs\"] = bikeshare[\"datetime\"].apply(lambda x: datetime.strptime(x, '%Y-%m-%d %H:%M:%S'))"
      ],
      "execution_count": null,
      "outputs": []
    },
    {
      "cell_type": "code",
      "metadata": {
        "id": "MT0M5uPOP1Tj",
        "colab": {
          "base_uri": "https://localhost:8080/",
          "height": 513
        },
        "outputId": "490e313c-b00b-4e5f-d3a2-58017f57b676"
      },
      "source": [
        "# Create columns for different parts of the date/time data\n",
        "bikeshare[\"hour\"] = bikeshare[\"date_objs\"].apply(lambda x: x.hour)\n",
        "bikeshare[\"day\"] = bikeshare[\"date_objs\"].apply(lambda x: x.day)\n",
        "bikeshare[\"month\"] = bikeshare[\"date_objs\"].apply(lambda x: x.month)\n",
        "bikeshare[\"year\"] = bikeshare[\"date_objs\"].apply(lambda x: x.year)\n",
        "bikeshare[\"weekday\"] = bikeshare[\"date_objs\"].apply(lambda x: x.weekday())\n",
        "bikeshare[\"plot_time\"] = bikeshare[\"datetime\"].apply(dates.datestr2num)\n",
        "\n",
        "bikeshare[\"month_str\"] = bikeshare[\"month\"].apply(lambda x: calendar.month_name[x])\n",
        "bikeshare[\"weekday_str\"] = bikeshare[\"weekday\"].apply(lambda x: calendar.day_name[x])\n",
        "\n",
        "# Create column to tell to represent the traffic ammount \n",
        "bikeshare[\"high_traffic\"] = bikeshare[\"count\"] > 145\n",
        "bikeshare[\"low_traffic\"] = bikeshare[\"count\"] < 145\n",
        "\n",
        "\n",
        "# Create columns for the weather data\n",
        "def weather_norm(x):\n",
        "    if x == 1:\n",
        "        return \"clear\"\n",
        "    if x == 2:\n",
        "        return \"overcast\"\n",
        "    if x > 2:\n",
        "        return \"gross\"\n",
        "    \n",
        "bikeshare[\"weather_norm\"] = bikeshare[\"weather\"].apply(weather_norm)\n",
        "\n",
        "# Check the distribution of the weather data and preview the dataframe\n",
        "print(bikeshare[\"weather_norm\"].value_counts())\n",
        "bikeshare.head()"
      ],
      "execution_count": null,
      "outputs": [
        {
          "output_type": "stream",
          "name": "stdout",
          "text": [
            "clear       7192\n",
            "overcast    2834\n",
            "gross        860\n",
            "Name: weather_norm, dtype: int64\n"
          ]
        },
        {
          "output_type": "execute_result",
          "data": {
            "text/html": [
              "\n",
              "  <div id=\"df-9c4ced78-ddd4-41fa-a43d-d0645dad46da\">\n",
              "    <div class=\"colab-df-container\">\n",
              "      <div>\n",
              "<style scoped>\n",
              "    .dataframe tbody tr th:only-of-type {\n",
              "        vertical-align: middle;\n",
              "    }\n",
              "\n",
              "    .dataframe tbody tr th {\n",
              "        vertical-align: top;\n",
              "    }\n",
              "\n",
              "    .dataframe thead th {\n",
              "        text-align: right;\n",
              "    }\n",
              "</style>\n",
              "<table border=\"1\" class=\"dataframe\">\n",
              "  <thead>\n",
              "    <tr style=\"text-align: right;\">\n",
              "      <th></th>\n",
              "      <th>datetime</th>\n",
              "      <th>season</th>\n",
              "      <th>holiday</th>\n",
              "      <th>workingday</th>\n",
              "      <th>weather</th>\n",
              "      <th>temp</th>\n",
              "      <th>atemp</th>\n",
              "      <th>humidity</th>\n",
              "      <th>windspeed</th>\n",
              "      <th>casual</th>\n",
              "      <th>registered</th>\n",
              "      <th>count</th>\n",
              "      <th>date_objs</th>\n",
              "      <th>hour</th>\n",
              "      <th>day</th>\n",
              "      <th>month</th>\n",
              "      <th>year</th>\n",
              "      <th>weekday</th>\n",
              "      <th>plot_time</th>\n",
              "      <th>month_str</th>\n",
              "      <th>weekday_str</th>\n",
              "      <th>high_traffic</th>\n",
              "      <th>low_traffic</th>\n",
              "      <th>weather_norm</th>\n",
              "    </tr>\n",
              "  </thead>\n",
              "  <tbody>\n",
              "    <tr>\n",
              "      <th>0</th>\n",
              "      <td>2011-01-01 00:00:00</td>\n",
              "      <td>1</td>\n",
              "      <td>0</td>\n",
              "      <td>0</td>\n",
              "      <td>1</td>\n",
              "      <td>9.84</td>\n",
              "      <td>14.395</td>\n",
              "      <td>81</td>\n",
              "      <td>0.0</td>\n",
              "      <td>3</td>\n",
              "      <td>13</td>\n",
              "      <td>16</td>\n",
              "      <td>2011-01-01 00:00:00</td>\n",
              "      <td>0</td>\n",
              "      <td>1</td>\n",
              "      <td>1</td>\n",
              "      <td>2011</td>\n",
              "      <td>5</td>\n",
              "      <td>734138.000000</td>\n",
              "      <td>January</td>\n",
              "      <td>Saturday</td>\n",
              "      <td>False</td>\n",
              "      <td>True</td>\n",
              "      <td>clear</td>\n",
              "    </tr>\n",
              "    <tr>\n",
              "      <th>1</th>\n",
              "      <td>2011-01-01 01:00:00</td>\n",
              "      <td>1</td>\n",
              "      <td>0</td>\n",
              "      <td>0</td>\n",
              "      <td>1</td>\n",
              "      <td>9.02</td>\n",
              "      <td>13.635</td>\n",
              "      <td>80</td>\n",
              "      <td>0.0</td>\n",
              "      <td>8</td>\n",
              "      <td>32</td>\n",
              "      <td>40</td>\n",
              "      <td>2011-01-01 01:00:00</td>\n",
              "      <td>1</td>\n",
              "      <td>1</td>\n",
              "      <td>1</td>\n",
              "      <td>2011</td>\n",
              "      <td>5</td>\n",
              "      <td>734138.041667</td>\n",
              "      <td>January</td>\n",
              "      <td>Saturday</td>\n",
              "      <td>False</td>\n",
              "      <td>True</td>\n",
              "      <td>clear</td>\n",
              "    </tr>\n",
              "    <tr>\n",
              "      <th>2</th>\n",
              "      <td>2011-01-01 02:00:00</td>\n",
              "      <td>1</td>\n",
              "      <td>0</td>\n",
              "      <td>0</td>\n",
              "      <td>1</td>\n",
              "      <td>9.02</td>\n",
              "      <td>13.635</td>\n",
              "      <td>80</td>\n",
              "      <td>0.0</td>\n",
              "      <td>5</td>\n",
              "      <td>27</td>\n",
              "      <td>32</td>\n",
              "      <td>2011-01-01 02:00:00</td>\n",
              "      <td>2</td>\n",
              "      <td>1</td>\n",
              "      <td>1</td>\n",
              "      <td>2011</td>\n",
              "      <td>5</td>\n",
              "      <td>734138.083333</td>\n",
              "      <td>January</td>\n",
              "      <td>Saturday</td>\n",
              "      <td>False</td>\n",
              "      <td>True</td>\n",
              "      <td>clear</td>\n",
              "    </tr>\n",
              "    <tr>\n",
              "      <th>3</th>\n",
              "      <td>2011-01-01 03:00:00</td>\n",
              "      <td>1</td>\n",
              "      <td>0</td>\n",
              "      <td>0</td>\n",
              "      <td>1</td>\n",
              "      <td>9.84</td>\n",
              "      <td>14.395</td>\n",
              "      <td>75</td>\n",
              "      <td>0.0</td>\n",
              "      <td>3</td>\n",
              "      <td>10</td>\n",
              "      <td>13</td>\n",
              "      <td>2011-01-01 03:00:00</td>\n",
              "      <td>3</td>\n",
              "      <td>1</td>\n",
              "      <td>1</td>\n",
              "      <td>2011</td>\n",
              "      <td>5</td>\n",
              "      <td>734138.125000</td>\n",
              "      <td>January</td>\n",
              "      <td>Saturday</td>\n",
              "      <td>False</td>\n",
              "      <td>True</td>\n",
              "      <td>clear</td>\n",
              "    </tr>\n",
              "    <tr>\n",
              "      <th>4</th>\n",
              "      <td>2011-01-01 04:00:00</td>\n",
              "      <td>1</td>\n",
              "      <td>0</td>\n",
              "      <td>0</td>\n",
              "      <td>1</td>\n",
              "      <td>9.84</td>\n",
              "      <td>14.395</td>\n",
              "      <td>75</td>\n",
              "      <td>0.0</td>\n",
              "      <td>0</td>\n",
              "      <td>1</td>\n",
              "      <td>1</td>\n",
              "      <td>2011-01-01 04:00:00</td>\n",
              "      <td>4</td>\n",
              "      <td>1</td>\n",
              "      <td>1</td>\n",
              "      <td>2011</td>\n",
              "      <td>5</td>\n",
              "      <td>734138.166667</td>\n",
              "      <td>January</td>\n",
              "      <td>Saturday</td>\n",
              "      <td>False</td>\n",
              "      <td>True</td>\n",
              "      <td>clear</td>\n",
              "    </tr>\n",
              "  </tbody>\n",
              "</table>\n",
              "</div>\n",
              "      <button class=\"colab-df-convert\" onclick=\"convertToInteractive('df-9c4ced78-ddd4-41fa-a43d-d0645dad46da')\"\n",
              "              title=\"Convert this dataframe to an interactive table.\"\n",
              "              style=\"display:none;\">\n",
              "        \n",
              "  <svg xmlns=\"http://www.w3.org/2000/svg\" height=\"24px\"viewBox=\"0 0 24 24\"\n",
              "       width=\"24px\">\n",
              "    <path d=\"M0 0h24v24H0V0z\" fill=\"none\"/>\n",
              "    <path d=\"M18.56 5.44l.94 2.06.94-2.06 2.06-.94-2.06-.94-.94-2.06-.94 2.06-2.06.94zm-11 1L8.5 8.5l.94-2.06 2.06-.94-2.06-.94L8.5 2.5l-.94 2.06-2.06.94zm10 10l.94 2.06.94-2.06 2.06-.94-2.06-.94-.94-2.06-.94 2.06-2.06.94z\"/><path d=\"M17.41 7.96l-1.37-1.37c-.4-.4-.92-.59-1.43-.59-.52 0-1.04.2-1.43.59L10.3 9.45l-7.72 7.72c-.78.78-.78 2.05 0 2.83L4 21.41c.39.39.9.59 1.41.59.51 0 1.02-.2 1.41-.59l7.78-7.78 2.81-2.81c.8-.78.8-2.07 0-2.86zM5.41 20L4 18.59l7.72-7.72 1.47 1.35L5.41 20z\"/>\n",
              "  </svg>\n",
              "      </button>\n",
              "      \n",
              "  <style>\n",
              "    .colab-df-container {\n",
              "      display:flex;\n",
              "      flex-wrap:wrap;\n",
              "      gap: 12px;\n",
              "    }\n",
              "\n",
              "    .colab-df-convert {\n",
              "      background-color: #E8F0FE;\n",
              "      border: none;\n",
              "      border-radius: 50%;\n",
              "      cursor: pointer;\n",
              "      display: none;\n",
              "      fill: #1967D2;\n",
              "      height: 32px;\n",
              "      padding: 0 0 0 0;\n",
              "      width: 32px;\n",
              "    }\n",
              "\n",
              "    .colab-df-convert:hover {\n",
              "      background-color: #E2EBFA;\n",
              "      box-shadow: 0px 1px 2px rgba(60, 64, 67, 0.3), 0px 1px 3px 1px rgba(60, 64, 67, 0.15);\n",
              "      fill: #174EA6;\n",
              "    }\n",
              "\n",
              "    [theme=dark] .colab-df-convert {\n",
              "      background-color: #3B4455;\n",
              "      fill: #D2E3FC;\n",
              "    }\n",
              "\n",
              "    [theme=dark] .colab-df-convert:hover {\n",
              "      background-color: #434B5C;\n",
              "      box-shadow: 0px 1px 3px 1px rgba(0, 0, 0, 0.15);\n",
              "      filter: drop-shadow(0px 1px 2px rgba(0, 0, 0, 0.3));\n",
              "      fill: #FFFFFF;\n",
              "    }\n",
              "  </style>\n",
              "\n",
              "      <script>\n",
              "        const buttonEl =\n",
              "          document.querySelector('#df-9c4ced78-ddd4-41fa-a43d-d0645dad46da button.colab-df-convert');\n",
              "        buttonEl.style.display =\n",
              "          google.colab.kernel.accessAllowed ? 'block' : 'none';\n",
              "\n",
              "        async function convertToInteractive(key) {\n",
              "          const element = document.querySelector('#df-9c4ced78-ddd4-41fa-a43d-d0645dad46da');\n",
              "          const dataTable =\n",
              "            await google.colab.kernel.invokeFunction('convertToInteractive',\n",
              "                                                     [key], {});\n",
              "          if (!dataTable) return;\n",
              "\n",
              "          const docLinkHtml = 'Like what you see? Visit the ' +\n",
              "            '<a target=\"_blank\" href=https://colab.research.google.com/notebooks/data_table.ipynb>data table notebook</a>'\n",
              "            + ' to learn more about interactive tables.';\n",
              "          element.innerHTML = '';\n",
              "          dataTable['output_type'] = 'display_data';\n",
              "          await google.colab.output.renderOutput(dataTable, element);\n",
              "          const docLink = document.createElement('div');\n",
              "          docLink.innerHTML = docLinkHtml;\n",
              "          element.appendChild(docLink);\n",
              "        }\n",
              "      </script>\n",
              "    </div>\n",
              "  </div>\n",
              "  "
            ],
            "text/plain": [
              "              datetime  season  holiday  ...  high_traffic  low_traffic  weather_norm\n",
              "0  2011-01-01 00:00:00       1        0  ...         False         True         clear\n",
              "1  2011-01-01 01:00:00       1        0  ...         False         True         clear\n",
              "2  2011-01-01 02:00:00       1        0  ...         False         True         clear\n",
              "3  2011-01-01 03:00:00       1        0  ...         False         True         clear\n",
              "4  2011-01-01 04:00:00       1        0  ...         False         True         clear\n",
              "\n",
              "[5 rows x 24 columns]"
            ]
          },
          "metadata": {},
          "execution_count": 31
        }
      ]
    },
    {
      "cell_type": "markdown",
      "metadata": {
        "id": "wjzEnlHSSrJx"
      },
      "source": [
        "# Train/Test Splits\n",
        "\n",
        "Setting data into different groups for training and testing is a very important part of the data sciene workflow. Many of the models we use can easily fit the data set they are trained on perfectly, but this usually results in nonsensical models that are \"overfitted\" to the data and cannot generalize to any other new  data points. This makes them basically useless. Setting aside some data for testing allows us to simulate this change and perform better evaluations of our model. [Check this resource out for more info on train/test splits.](https://towardsdatascience.com/train-test-split-and-cross-validation-in-python-80b61beca4b6)\n"
      ]
    },
    {
      "cell_type": "markdown",
      "metadata": {
        "id": "ocwdyn7VP1Tr"
      },
      "source": [
        "## Creating the Train/Test Split\n",
        "\n",
        "Now that we know that using a train/test split is important for properly evaluating our models, let's consider some different ways to potentially create that train/test split. We'll see that we have to be careful when creating our train/test split to make sure that it makes sense. "
      ]
    },
    {
      "cell_type": "markdown",
      "metadata": {
        "id": "Dv54N-ouXIMV"
      },
      "source": [
        "### The most naive split\n",
        "\n",
        "What is the simplest way to create a train/test split? Draw a line at some point in the dataset and take one side to be the train data and the other to be the test data! The following steps detail an easy procedure to do this. \n",
        "1.   Pick a size for the test set (in this case, we will use 20% of the data for the test set)\n",
        "2.   Take the first section of data as the train set\n",
        "3.   Take the second section of data as the test set\n",
        "\n"
      ]
    },
    {
      "cell_type": "code",
      "metadata": {
        "id": "1Yw9SrsAP1Ts",
        "colab": {
          "base_uri": "https://localhost:8080/"
        },
        "outputId": "881b8914-acb1-44ce-c024-52c81222edd7"
      },
      "source": [
        "# Calculate where the cutoff should be if we want 20% of our data to be in the test set\n",
        "test_set_percentage = 0.2\n",
        "test_set_size = int(len(bikeshare)*test_set_percentage) \n",
        "test_cutoff = len(bikeshare) - test_set_size \n",
        "\n",
        "# Take everything before the cutoff to be the train set\n",
        "bikeshare_train = bikeshare[:test_cutoff]\n",
        "\n",
        "# Take everything after the cutoff to be the test set \n",
        "bikeshare_test = bikeshare[test_cutoff:]\n",
        "\n",
        "# Lets check to make sure the size of our train and test data seem about correct\n",
        "print(\"Size of train data:\", len(bikeshare_train))\n",
        "print(\"Size of test  data:\", len(bikeshare_test))"
      ],
      "execution_count": null,
      "outputs": [
        {
          "output_type": "stream",
          "name": "stdout",
          "text": [
            "Size of train data: 8709\n",
            "Size of test  data: 2177\n"
          ]
        }
      ]
    },
    {
      "cell_type": "markdown",
      "metadata": {
        "id": "oEUgllhmP1Ty"
      },
      "source": [
        "But doing this split naively can sometimes be a big problem! To see why, lets look at the distribution of the months represented in the train set and the months represented in the test set."
      ]
    },
    {
      "cell_type": "code",
      "metadata": {
        "id": "TvkAoadoP1T0",
        "colab": {
          "base_uri": "https://localhost:8080/"
        },
        "outputId": "070b1ddb-ba51-4dc5-96cb-b5be6f86eec7"
      },
      "source": [
        "print(\"Training set months:\")\n",
        "print(bikeshare_train[\"month_str\"].value_counts())\n",
        "print('-----------')\n",
        "print(\"Test set months:\")\n",
        "print(bikeshare_test[\"month_str\"].value_counts())"
      ],
      "execution_count": null,
      "outputs": [
        {
          "output_type": "stream",
          "name": "stdout",
          "text": [
            "Training set months:\n",
            "May          912\n",
            "June         912\n",
            "July         912\n",
            "April        909\n",
            "March        901\n",
            "February     901\n",
            "January      884\n",
            "August       558\n",
            "December     456\n",
            "November     456\n",
            "October      455\n",
            "September    453\n",
            "Name: month_str, dtype: int64\n",
            "-----------\n",
            "Test set months:\n",
            "December     456\n",
            "October      456\n",
            "September    456\n",
            "November     455\n",
            "August       354\n",
            "Name: month_str, dtype: int64\n"
          ]
        }
      ]
    },
    {
      "cell_type": "markdown",
      "metadata": {
        "id": "-6CMilxnP1T7"
      },
      "source": [
        "### Improving our sampling method\n",
        "Notice that our test set only contains 5/12 of the months! This means that whenever we run our model, we are only evaluating our model on its performance during these months. What we really want is to evaluate our model on a little bit of data from every month so, clearly, this method is not what we want for this task. \n",
        "\n",
        "So, how can we fix this? Lets think about why the problem is occuring in the first place. The best way to do this is to look at the data!"
      ]
    },
    {
      "cell_type": "code",
      "metadata": {
        "id": "w_ktlMxGdcwM",
        "colab": {
          "base_uri": "https://localhost:8080/",
          "height": 444
        },
        "outputId": "08e41bc2-76f9-4b63-91a8-e1da543a4ed5"
      },
      "source": [
        "bikeshare.head()"
      ],
      "execution_count": null,
      "outputs": [
        {
          "output_type": "execute_result",
          "data": {
            "text/html": [
              "\n",
              "  <div id=\"df-8d1075c7-5664-4aec-926e-580f53aa1f21\">\n",
              "    <div class=\"colab-df-container\">\n",
              "      <div>\n",
              "<style scoped>\n",
              "    .dataframe tbody tr th:only-of-type {\n",
              "        vertical-align: middle;\n",
              "    }\n",
              "\n",
              "    .dataframe tbody tr th {\n",
              "        vertical-align: top;\n",
              "    }\n",
              "\n",
              "    .dataframe thead th {\n",
              "        text-align: right;\n",
              "    }\n",
              "</style>\n",
              "<table border=\"1\" class=\"dataframe\">\n",
              "  <thead>\n",
              "    <tr style=\"text-align: right;\">\n",
              "      <th></th>\n",
              "      <th>datetime</th>\n",
              "      <th>season</th>\n",
              "      <th>holiday</th>\n",
              "      <th>workingday</th>\n",
              "      <th>weather</th>\n",
              "      <th>temp</th>\n",
              "      <th>atemp</th>\n",
              "      <th>humidity</th>\n",
              "      <th>windspeed</th>\n",
              "      <th>casual</th>\n",
              "      <th>registered</th>\n",
              "      <th>count</th>\n",
              "      <th>date_objs</th>\n",
              "      <th>hour</th>\n",
              "      <th>day</th>\n",
              "      <th>month</th>\n",
              "      <th>year</th>\n",
              "      <th>weekday</th>\n",
              "      <th>plot_time</th>\n",
              "      <th>month_str</th>\n",
              "      <th>weekday_str</th>\n",
              "      <th>high_traffic</th>\n",
              "      <th>low_traffic</th>\n",
              "      <th>weather_norm</th>\n",
              "    </tr>\n",
              "  </thead>\n",
              "  <tbody>\n",
              "    <tr>\n",
              "      <th>0</th>\n",
              "      <td>2011-01-01 00:00:00</td>\n",
              "      <td>1</td>\n",
              "      <td>0</td>\n",
              "      <td>0</td>\n",
              "      <td>1</td>\n",
              "      <td>9.84</td>\n",
              "      <td>14.395</td>\n",
              "      <td>81</td>\n",
              "      <td>0.0</td>\n",
              "      <td>3</td>\n",
              "      <td>13</td>\n",
              "      <td>16</td>\n",
              "      <td>2011-01-01 00:00:00</td>\n",
              "      <td>0</td>\n",
              "      <td>1</td>\n",
              "      <td>1</td>\n",
              "      <td>2011</td>\n",
              "      <td>5</td>\n",
              "      <td>734138.000000</td>\n",
              "      <td>January</td>\n",
              "      <td>Saturday</td>\n",
              "      <td>False</td>\n",
              "      <td>True</td>\n",
              "      <td>clear</td>\n",
              "    </tr>\n",
              "    <tr>\n",
              "      <th>1</th>\n",
              "      <td>2011-01-01 01:00:00</td>\n",
              "      <td>1</td>\n",
              "      <td>0</td>\n",
              "      <td>0</td>\n",
              "      <td>1</td>\n",
              "      <td>9.02</td>\n",
              "      <td>13.635</td>\n",
              "      <td>80</td>\n",
              "      <td>0.0</td>\n",
              "      <td>8</td>\n",
              "      <td>32</td>\n",
              "      <td>40</td>\n",
              "      <td>2011-01-01 01:00:00</td>\n",
              "      <td>1</td>\n",
              "      <td>1</td>\n",
              "      <td>1</td>\n",
              "      <td>2011</td>\n",
              "      <td>5</td>\n",
              "      <td>734138.041667</td>\n",
              "      <td>January</td>\n",
              "      <td>Saturday</td>\n",
              "      <td>False</td>\n",
              "      <td>True</td>\n",
              "      <td>clear</td>\n",
              "    </tr>\n",
              "    <tr>\n",
              "      <th>2</th>\n",
              "      <td>2011-01-01 02:00:00</td>\n",
              "      <td>1</td>\n",
              "      <td>0</td>\n",
              "      <td>0</td>\n",
              "      <td>1</td>\n",
              "      <td>9.02</td>\n",
              "      <td>13.635</td>\n",
              "      <td>80</td>\n",
              "      <td>0.0</td>\n",
              "      <td>5</td>\n",
              "      <td>27</td>\n",
              "      <td>32</td>\n",
              "      <td>2011-01-01 02:00:00</td>\n",
              "      <td>2</td>\n",
              "      <td>1</td>\n",
              "      <td>1</td>\n",
              "      <td>2011</td>\n",
              "      <td>5</td>\n",
              "      <td>734138.083333</td>\n",
              "      <td>January</td>\n",
              "      <td>Saturday</td>\n",
              "      <td>False</td>\n",
              "      <td>True</td>\n",
              "      <td>clear</td>\n",
              "    </tr>\n",
              "    <tr>\n",
              "      <th>3</th>\n",
              "      <td>2011-01-01 03:00:00</td>\n",
              "      <td>1</td>\n",
              "      <td>0</td>\n",
              "      <td>0</td>\n",
              "      <td>1</td>\n",
              "      <td>9.84</td>\n",
              "      <td>14.395</td>\n",
              "      <td>75</td>\n",
              "      <td>0.0</td>\n",
              "      <td>3</td>\n",
              "      <td>10</td>\n",
              "      <td>13</td>\n",
              "      <td>2011-01-01 03:00:00</td>\n",
              "      <td>3</td>\n",
              "      <td>1</td>\n",
              "      <td>1</td>\n",
              "      <td>2011</td>\n",
              "      <td>5</td>\n",
              "      <td>734138.125000</td>\n",
              "      <td>January</td>\n",
              "      <td>Saturday</td>\n",
              "      <td>False</td>\n",
              "      <td>True</td>\n",
              "      <td>clear</td>\n",
              "    </tr>\n",
              "    <tr>\n",
              "      <th>4</th>\n",
              "      <td>2011-01-01 04:00:00</td>\n",
              "      <td>1</td>\n",
              "      <td>0</td>\n",
              "      <td>0</td>\n",
              "      <td>1</td>\n",
              "      <td>9.84</td>\n",
              "      <td>14.395</td>\n",
              "      <td>75</td>\n",
              "      <td>0.0</td>\n",
              "      <td>0</td>\n",
              "      <td>1</td>\n",
              "      <td>1</td>\n",
              "      <td>2011-01-01 04:00:00</td>\n",
              "      <td>4</td>\n",
              "      <td>1</td>\n",
              "      <td>1</td>\n",
              "      <td>2011</td>\n",
              "      <td>5</td>\n",
              "      <td>734138.166667</td>\n",
              "      <td>January</td>\n",
              "      <td>Saturday</td>\n",
              "      <td>False</td>\n",
              "      <td>True</td>\n",
              "      <td>clear</td>\n",
              "    </tr>\n",
              "  </tbody>\n",
              "</table>\n",
              "</div>\n",
              "      <button class=\"colab-df-convert\" onclick=\"convertToInteractive('df-8d1075c7-5664-4aec-926e-580f53aa1f21')\"\n",
              "              title=\"Convert this dataframe to an interactive table.\"\n",
              "              style=\"display:none;\">\n",
              "        \n",
              "  <svg xmlns=\"http://www.w3.org/2000/svg\" height=\"24px\"viewBox=\"0 0 24 24\"\n",
              "       width=\"24px\">\n",
              "    <path d=\"M0 0h24v24H0V0z\" fill=\"none\"/>\n",
              "    <path d=\"M18.56 5.44l.94 2.06.94-2.06 2.06-.94-2.06-.94-.94-2.06-.94 2.06-2.06.94zm-11 1L8.5 8.5l.94-2.06 2.06-.94-2.06-.94L8.5 2.5l-.94 2.06-2.06.94zm10 10l.94 2.06.94-2.06 2.06-.94-2.06-.94-.94-2.06-.94 2.06-2.06.94z\"/><path d=\"M17.41 7.96l-1.37-1.37c-.4-.4-.92-.59-1.43-.59-.52 0-1.04.2-1.43.59L10.3 9.45l-7.72 7.72c-.78.78-.78 2.05 0 2.83L4 21.41c.39.39.9.59 1.41.59.51 0 1.02-.2 1.41-.59l7.78-7.78 2.81-2.81c.8-.78.8-2.07 0-2.86zM5.41 20L4 18.59l7.72-7.72 1.47 1.35L5.41 20z\"/>\n",
              "  </svg>\n",
              "      </button>\n",
              "      \n",
              "  <style>\n",
              "    .colab-df-container {\n",
              "      display:flex;\n",
              "      flex-wrap:wrap;\n",
              "      gap: 12px;\n",
              "    }\n",
              "\n",
              "    .colab-df-convert {\n",
              "      background-color: #E8F0FE;\n",
              "      border: none;\n",
              "      border-radius: 50%;\n",
              "      cursor: pointer;\n",
              "      display: none;\n",
              "      fill: #1967D2;\n",
              "      height: 32px;\n",
              "      padding: 0 0 0 0;\n",
              "      width: 32px;\n",
              "    }\n",
              "\n",
              "    .colab-df-convert:hover {\n",
              "      background-color: #E2EBFA;\n",
              "      box-shadow: 0px 1px 2px rgba(60, 64, 67, 0.3), 0px 1px 3px 1px rgba(60, 64, 67, 0.15);\n",
              "      fill: #174EA6;\n",
              "    }\n",
              "\n",
              "    [theme=dark] .colab-df-convert {\n",
              "      background-color: #3B4455;\n",
              "      fill: #D2E3FC;\n",
              "    }\n",
              "\n",
              "    [theme=dark] .colab-df-convert:hover {\n",
              "      background-color: #434B5C;\n",
              "      box-shadow: 0px 1px 3px 1px rgba(0, 0, 0, 0.15);\n",
              "      filter: drop-shadow(0px 1px 2px rgba(0, 0, 0, 0.3));\n",
              "      fill: #FFFFFF;\n",
              "    }\n",
              "  </style>\n",
              "\n",
              "      <script>\n",
              "        const buttonEl =\n",
              "          document.querySelector('#df-8d1075c7-5664-4aec-926e-580f53aa1f21 button.colab-df-convert');\n",
              "        buttonEl.style.display =\n",
              "          google.colab.kernel.accessAllowed ? 'block' : 'none';\n",
              "\n",
              "        async function convertToInteractive(key) {\n",
              "          const element = document.querySelector('#df-8d1075c7-5664-4aec-926e-580f53aa1f21');\n",
              "          const dataTable =\n",
              "            await google.colab.kernel.invokeFunction('convertToInteractive',\n",
              "                                                     [key], {});\n",
              "          if (!dataTable) return;\n",
              "\n",
              "          const docLinkHtml = 'Like what you see? Visit the ' +\n",
              "            '<a target=\"_blank\" href=https://colab.research.google.com/notebooks/data_table.ipynb>data table notebook</a>'\n",
              "            + ' to learn more about interactive tables.';\n",
              "          element.innerHTML = '';\n",
              "          dataTable['output_type'] = 'display_data';\n",
              "          await google.colab.output.renderOutput(dataTable, element);\n",
              "          const docLink = document.createElement('div');\n",
              "          docLink.innerHTML = docLinkHtml;\n",
              "          element.appendChild(docLink);\n",
              "        }\n",
              "      </script>\n",
              "    </div>\n",
              "  </div>\n",
              "  "
            ],
            "text/plain": [
              "              datetime  season  holiday  ...  high_traffic  low_traffic  weather_norm\n",
              "0  2011-01-01 00:00:00       1        0  ...         False         True         clear\n",
              "1  2011-01-01 01:00:00       1        0  ...         False         True         clear\n",
              "2  2011-01-01 02:00:00       1        0  ...         False         True         clear\n",
              "3  2011-01-01 03:00:00       1        0  ...         False         True         clear\n",
              "4  2011-01-01 04:00:00       1        0  ...         False         True         clear\n",
              "\n",
              "[5 rows x 24 columns]"
            ]
          },
          "metadata": {},
          "execution_count": 34
        }
      ]
    },
    {
      "cell_type": "markdown",
      "metadata": {
        "id": "iKuyROlndhpa"
      },
      "source": [
        "If we look at the data, we can quickly realize that the data points are sorted by their date/time! This means that when we are taking the last 20% of the data, we are actually taking the data from the last 20% of dates/times and this is why we only see a few of the months appear in our current test set!\n",
        "\n",
        "Lets come up with a different way to sample our test data that avoids this problem. An easy way to do this if we want 20% of our data in the test set is to through the data in order and for every 5 data points, we set the first 1 to be test data and the last 4 to be train data. Visually, we can compare the two sampling methods in the following way:\n",
        "\n",
        "Simplest method: OOOOOOOOOOOOXXX\n",
        "\n",
        "Improved method: OOOOXOOOOXOOOOX\n",
        "\n",
        "Now lets try implementing this in code"
      ]
    },
    {
      "cell_type": "code",
      "metadata": {
        "id": "yJuuF13aP1T9",
        "colab": {
          "base_uri": "https://localhost:8080/"
        },
        "outputId": "1f9e6a26-ea66-4800-8de2-ecc5d930ab71"
      },
      "source": [
        "# Calculate how often to send data to the test set (in our case for an 80/20 train/test split)\n",
        "test_size = 0.2\n",
        "test_modulus = int(1/test_size)\n",
        "\n",
        "# Set 4/5 data points from each set of 5 data points to be in the train set\n",
        "bikeshare_train = bikeshare.iloc[bikeshare.index % test_modulus != 0]\n",
        "# Set the remaining 1 data point from each set of 5 data points to be in the test set\n",
        "bikeshare_test = bikeshare.iloc[bikeshare.index % test_modulus == 0]\n",
        "\n",
        "# Lets confirm the size of the train and test set are still about right\n",
        "print(\"Size of train data:\", len(bikeshare_train))\n",
        "print(\"Size of test  data:\", len(bikeshare_test))\n",
        "\n",
        "# Lets examine the distribution of the months in the two datasets\n",
        "print(\"Training set months:\")\n",
        "print(bikeshare_train[\"month_str\"].value_counts())\n",
        "print(\"Test set months:\")\n",
        "print(bikeshare_test[\"month_str\"].value_counts())"
      ],
      "execution_count": null,
      "outputs": [
        {
          "output_type": "stream",
          "name": "stdout",
          "text": [
            "Size of train data: 8708\n",
            "Size of test  data: 2178\n",
            "Training set months:\n",
            "May          730\n",
            "August       730\n",
            "October      729\n",
            "June         729\n",
            "July         729\n",
            "December     729\n",
            "November     728\n",
            "September    728\n",
            "April        727\n",
            "March        721\n",
            "February     721\n",
            "January      707\n",
            "Name: month_str, dtype: int64\n",
            "Test set months:\n",
            "July         183\n",
            "June         183\n",
            "December     183\n",
            "November     183\n",
            "May          182\n",
            "October      182\n",
            "August       182\n",
            "April        182\n",
            "September    181\n",
            "March        180\n",
            "February     180\n",
            "January      177\n",
            "Name: month_str, dtype: int64\n"
          ]
        }
      ]
    },
    {
      "cell_type": "markdown",
      "metadata": {
        "id": "pe5oIwknc48R"
      },
      "source": [
        "Notice how now our train and test datasets now have the same distribution of months! If we didn't look at the data, it would seem like these two methods are essentially identical and interchangable. This example shows us that sometimes a very simple modification can make a big difference and why its important to be careful when making our train/test split. \n",
        "\n",
        "Now, it might seem like we can always use this second method we have developed and like it will always be better than the first method. In practice, this turns out to be very false. For example, if we had taken 1 out of every 12 data points to be in our test set, our test set would be entirely data points from noon and midnight, with no other times represented! It is important to think about your data carefully before making a decision on how to do your train/test split! Here are some resources to learn more about this problem:\n",
        "\n",
        "- [The story of a bad train/test split](https://anotherdatum.com/train-test.html)\n",
        "- [Random Test/Train Splits is Not Always Enough](http://www.win-vector.com/blog/2015/01/random-testtrain-split-is-not-always-enough/)"
      ]
    },
    {
      "cell_type": "markdown",
      "metadata": {
        "id": "Yx8avvDtP1UC"
      },
      "source": [
        "## Comparing models with Train/Test Splits\n",
        "\n",
        "Lets see how we can use the train/test split we created to better understand and compare different models. "
      ]
    },
    {
      "cell_type": "code",
      "metadata": {
        "id": "m5M0pQJpqAWI"
      },
      "source": [
        "# Create lists of possible features (Same as in Day 1)\n",
        "date_features = [\"day\", \"month_str\", \"year\", \"weekday_str\", \"season\", \"holiday\", \"workingday\"]\n",
        "time_features = [\"hour\"]\n",
        "weather_features = [\"weather\", \"temp\", \"atemp\", \"humidity\", \"windspeed\"]\n",
        "\n",
        "feature_sets = {\n",
        "    \"date\": date_features,\n",
        "    \"time\": time_features,\n",
        "    \"date + time\": date_features + time_features,\n",
        "    \"weather\": weather_features,\n",
        "    \"all\": date_features + time_features + weather_features\n",
        "}"
      ],
      "execution_count": null,
      "outputs": []
    },
    {
      "cell_type": "code",
      "metadata": {
        "scrolled": true,
        "id": "nuB1Z1NqP1UF",
        "colab": {
          "base_uri": "https://localhost:8080/"
        },
        "outputId": "ee071a29-2f48-44dd-d6fb-64d55051a09f"
      },
      "source": [
        "# We'll keep track of which classifier was the best\n",
        "best = 0\n",
        "best_name = None\n",
        "best_actual = None\n",
        "best_predictions = None\n",
        "\n",
        "test_accuracies = []\n",
        "train_accuracies = []\n",
        "\n",
        "# For each feature set, we evaluate our model on both the train and the test set\n",
        "for set_name, feature_set in feature_sets.items():\n",
        "\n",
        "    # Create a dummyset with only the features in our feature set\n",
        "    X = bikeshare.loc[:, feature_set]\n",
        "    X = pd.get_dummies(X)\n",
        "\n",
        "    y = bikeshare[\"high_traffic\"]\n",
        "\n",
        "    # Use scikit-learn to create our train/test split and train our decision tree\n",
        "    X_train, X_test, y_train, y_test = train_test_split(X,y,test_size=0.20, random_state=123)\n",
        "    model = DecisionTreeClassifier(criterion=\"entropy\", random_state=123).fit(X_train, y_train)\n",
        "\n",
        "    # Calculate our accuracy on the train and test sets\n",
        "    train_pred = model.predict(X_train)\n",
        "    train_accuracy = 100*accuracy_score(y_train, train_pred)\n",
        "    test_pred = model.predict(X_test)\n",
        "    test_accuracy = 100*accuracy_score(y_test, test_pred)\n",
        "\n",
        "    # Keep track of the best model on the test set\n",
        "    if test_accuracy > best:\n",
        "        best = test_accuracy\n",
        "        best_name = set_name\n",
        "        best_actual = y_test\n",
        "        best_predictions = test_pred\n",
        "    test_accuracies.append(test_accuracy)\n",
        "    train_accuracies.append(train_accuracy)\n",
        "\n",
        "    # Display the accuracy on the train and test set for each model\n",
        "    print(f\"Results for {set_name}:\")\n",
        "    print(f\"Accuracy on the train set: {train_accuracy:.1f}\")\n",
        "    print(f\"Accuracy on the test set: {test_accuracy:.1f}\")\n",
        "    print(\"------------------------\")\n",
        "    \n",
        "print(f\"Best feature set is: {best_name} \\nWith: {best:.1f}% accuracy.\")    "
      ],
      "execution_count": null,
      "outputs": [
        {
          "output_type": "stream",
          "name": "stdout",
          "text": [
            "Results for date:\n",
            "Accuracy on the train set: 66.4\n",
            "Accuracy on the test set: 62.6\n",
            "------------------------\n",
            "Results for time:\n",
            "Accuracy on the train set: 81.0\n",
            "Accuracy on the test set: 80.1\n",
            "------------------------\n",
            "Results for date + time:\n",
            "Accuracy on the train set: 100.0\n",
            "Accuracy on the test set: 90.8\n",
            "------------------------\n",
            "Results for weather:\n",
            "Accuracy on the train set: 90.7\n",
            "Accuracy on the test set: 68.5\n",
            "------------------------\n",
            "Results for all:\n",
            "Accuracy on the train set: 100.0\n",
            "Accuracy on the test set: 90.7\n",
            "------------------------\n",
            "Best feature set is: date + time \n",
            "With: 90.8% accuracy.\n"
          ]
        }
      ]
    },
    {
      "cell_type": "code",
      "metadata": {
        "scrolled": true,
        "id": "3rBROZYuP1UL",
        "colab": {
          "base_uri": "https://localhost:8080/",
          "height": 265
        },
        "outputId": "ba68deba-2f3e-4c4a-fac3-383e783aa512"
      },
      "source": [
        "locs = np.arange(len(test_accuracies))\n",
        "\n",
        "ax = plt.gca()\n",
        "ax.bar(locs-0.2, train_accuracies, width=0.4)\n",
        "ax.bar(locs+0.2, test_accuracies, width=0.4)\n",
        "ax.set_xticks(locs)\n",
        "ax.set_xticklabels(list(feature_sets.keys()))\n",
        "ax.legend([\"Train Accuracy\", \"Test Accuracy\"])\n",
        "plt.show()"
      ],
      "execution_count": null,
      "outputs": [
        {
          "output_type": "display_data",
          "data": {
            "image/png": "[encoded data removed]",
            "text/plain": [
              "<Figure size 432x288 with 1 Axes>"
            ]
          },
          "metadata": {
            "needs_background": "light"
          }
        }
      ]
    },
    {
      "cell_type": "markdown",
      "metadata": {
        "id": "_hg5ZZ4zthbn"
      },
      "source": [
        "If we had just looked at the train set, we would have thought that using date and time alone we could perfectly model the levels of bikeshare traffic. Once we look at the test accuracy, we realize that that is not true at all! While 90% accuracy is pretty great, that 10% of misclassified data demonstrates that our model is definitely not perfect. \n",
        "\n",
        "We can also see that the model trained on just date/time is actually better than the model trained on date/time/weather! This is an example of more data not always being better and an example of how our decision tree algorithm does not always converge to the optimal tree, just a pretty good one!\n",
        "\n",
        "Here are some more resources diving further into comparing models using train/test splits and the convergence of decision trees:\n",
        "\n",
        "- [Train/Test Splits and Cross Validation in Python](https://towardsdatascience.com/train-test-split-and-cross-validation-in-python-80b61beca4b6)\n",
        "- [Disadvantages of Decision Trees (this article is pretty technical)](https://www.edupristine.com/blog/decision-trees-development-and-scoring)"
      ]
    },
    {
      "cell_type": "markdown",
      "metadata": {
        "id": "A9KIukwvP1UQ"
      },
      "source": [
        "# Metrics of Model Quality\n",
        "\n",
        "While accuracy is great some of the time, there are many cases where it is not a good metric for understanding the performance of our models. Lets explore some alternate methods for evaluating our models and figure out when we should be using them. "
      ]
    },
    {
      "cell_type": "code",
      "metadata": {
        "id": "SQjfddI-zMoJ"
      },
      "source": [
        "# Lets keep the predictions from the best tree that we found to use in this section\n",
        "predictions = best_predictions\n",
        "actual = np.array(list(best_actual))"
      ],
      "execution_count": null,
      "outputs": []
    },
    {
      "cell_type": "markdown",
      "metadata": {
        "id": "YjbrVmTsP1UW"
      },
      "source": [
        "### Accuracy\n",
        "\n",
        "$$ accuracy = \\frac{correct \\space predictions}{total \\space predictions} \\times 100 $$"
      ]
    },
    {
      "cell_type": "code",
      "metadata": {
        "id": "XO8JyuwvP1UY",
        "colab": {
          "base_uri": "https://localhost:8080/"
        },
        "outputId": "1d969747-8564-4c7d-96e9-1964e3ff4ab0"
      },
      "source": [
        "# Calculating accuracy manually\n",
        "matches = (predictions == actual).sum() \n",
        "accuracy = matches / len(actual)\n",
        "print(f\"Manual accuracy metric: {100*accuracy:.1f}\")"
      ],
      "execution_count": null,
      "outputs": [
        {
          "output_type": "stream",
          "name": "stdout",
          "text": [
            "Manual accuracy metric: 90.8\n"
          ]
        }
      ]
    },
    {
      "cell_type": "code",
      "metadata": {
        "id": "-Bq3FRJA2ghY",
        "colab": {
          "base_uri": "https://localhost:8080/"
        },
        "outputId": "467b2977-4e8d-4dfd-e97a-0ff1403c0fd5"
      },
      "source": [
        "# Calculating accuracy with scikit-learn\n",
        "accuracy = accuracy_score(actual, predictions)\n",
        "print(f\"scikit-learn accuracy metric: {100*accuracy:.1f}\")"
      ],
      "execution_count": null,
      "outputs": [
        {
          "output_type": "stream",
          "name": "stdout",
          "text": [
            "scikit-learn accuracy metric: 90.8\n"
          ]
        }
      ]
    },
    {
      "cell_type": "markdown",
      "metadata": {
        "id": "YkSqyL94yVME"
      },
      "source": [
        "#### Pros/Cons the accuracy metric\n",
        "\n",
        "**Benefit**\n",
        "- Accuracy is very intuitive and easy to understand\n",
        "\n",
        "**Weakness**\n",
        "- Accuracy can sometimes paint an inaccurate picture of the model. For example, consider a model that predicts whether or not there will be an earthquake in LA today. You could get >99% accuracy by just guessing no every time, so accuracy can be very misleading in this case!"
      ]
    },
    {
      "cell_type": "markdown",
      "metadata": {
        "id": "2qzDpWovP1Uc"
      },
      "source": [
        "### Confusion Matrix\n",
        "\n",
        "The confusion matrix is a great way to visualize where our model is making errors. Elements on the diagonal represent correct predictions. Elements off the diagonal represent that the model predicted the wrong class.\n",
        "\n",
        "![Example Confusion Matrix](https://www.mathworks.com/help/examples/nnet/win64/CreateConfusionMatrixChartExample_02.png)\n",
        "  "
      ]
    },
    {
      "cell_type": "code",
      "metadata": {
        "id": "HGC_guSsP1Ue",
        "colab": {
          "base_uri": "https://localhost:8080/"
        },
        "outputId": "db38ae4f-5212-427c-cf91-b98e7f48096c"
      },
      "source": [
        "# Generating our confusion matrix manually\n",
        "\n",
        "# Helper function to display our confusion matrix nicely\n",
        "def matrix_print(matrix):\n",
        "    print(\"           Predictions\")\n",
        "    print(f\"Actual    |\", end='')\n",
        "    for pred in list(matrix.keys()):\n",
        "        print(f\"{str(pred).rjust(10)}|\", end='')\n",
        "    print()\n",
        "    for act in list(matrix.keys()):\n",
        "        print(f\"{str(act).rjust(10)}|\", end='')\n",
        "        for pred in list(matrix.keys()):\n",
        "            cell = matrix[pred][act]\n",
        "            print(f\"{str(cell).rjust(10)}|\", end='')\n",
        "        print()\n",
        "\n",
        "# Actually computing our confusion matrix         \n",
        "def build_confusion_matrix(actual, predictions):\n",
        "    confusion_matrix = {}\n",
        "    for pred_value in np.unique(predictions):\n",
        "        confusion_matrix[pred_value] = {}\n",
        "        for act_value in np.unique(actual):\n",
        "            cell_count = 0\n",
        "            for i in range(len(actual)):\n",
        "                if predictions[i] == pred_value and actual[i] == act_value:\n",
        "                    cell_count += 1\n",
        "            confusion_matrix[pred_value][act_value] = cell_count\n",
        "    return confusion_matrix\n",
        "\n",
        "conf_matrix = build_confusion_matrix(actual, predictions)\n",
        "matrix_print(conf_matrix)"
      ],
      "execution_count": null,
      "outputs": [
        {
          "output_type": "stream",
          "name": "stdout",
          "text": [
            "           Predictions\n",
            "Actual    |     False|      True|\n",
            "     False|       976|        97|\n",
            "      True|       103|      1002|\n"
          ]
        }
      ]
    },
    {
      "cell_type": "markdown",
      "metadata": {
        "id": "qJ2y9AnqzzGI"
      },
      "source": [
        "#### Pros/Cons of the confusion matrix\n",
        "\n",
        "**Benefit**\n",
        "- Gives us a deeper understanding of our model performance than accuracy alone\n",
        "\n",
        "**Weakness**\n",
        "- We don't get a single number out so it is hard to tell which model is \"better\" when comparing two models"
      ]
    },
    {
      "cell_type": "markdown",
      "metadata": {
        "id": "Auzth_5JP1Uj"
      },
      "source": [
        "### Cohen's Kappa\n",
        "\n",
        "$$ \\kappa = \\frac{accuracy - chance \\space agreement}{1 - chance \\space agreement}$$\n"
      ]
    },
    {
      "cell_type": "code",
      "metadata": {
        "id": "zkCyuEgrP1Uk",
        "colab": {
          "base_uri": "https://localhost:8080/"
        },
        "outputId": "d044bf5e-1372-4f7e-ed86-fc9d32118a57"
      },
      "source": [
        "# Calculating Kappa Manually\n",
        "matching_by_chance = 0\n",
        "for label in np.unique(actual):\n",
        "    predicted_probability = (predictions == label).sum() / len(predictions)\n",
        "    actual_probability = (actual == label).sum() / len(actual)\n",
        "    matching_by_chance += (predicted_probability * actual_probability)\n",
        "\n",
        "print(f\"Probability of matching by chance: {matching_by_chance:.3f}\")\n",
        "kappa = (accuracy - matching_by_chance) / (1 - matching_by_chance)\n",
        "print(f\"Manual kappa metric: {kappa:.3f}\")"
      ],
      "execution_count": null,
      "outputs": [
        {
          "output_type": "stream",
          "name": "stdout",
          "text": [
            "Probability of matching by chance: 0.500\n",
            "Manual kappa metric: 0.816\n"
          ]
        }
      ]
    },
    {
      "cell_type": "code",
      "metadata": {
        "id": "OKOYL5VT9i3g",
        "colab": {
          "base_uri": "https://localhost:8080/"
        },
        "outputId": "b9ad0e9a-6f5b-4566-ad14-8646507905d8"
      },
      "source": [
        "# Calculating Kappa with scikit-learn\n",
        "kappa = cohen_kappa_score(actual, predictions)\n",
        "print(f\"scikit-learn kappa metric: {kappa:.3f}\")"
      ],
      "execution_count": null,
      "outputs": [
        {
          "output_type": "stream",
          "name": "stdout",
          "text": [
            "scikit-learn kappa metric: 0.816\n"
          ]
        }
      ]
    },
    {
      "cell_type": "markdown",
      "metadata": {
        "id": "Rml2sD4e99c0"
      },
      "source": [
        "#### Pros/Cons of Cohen's Kappa\n",
        "\n",
        "**Benefit**\n",
        "- Gives us a single number that evaluates the accuracy of our model and compares it to a simple baseline model -- guessing randomly based on the distribution of the data\n",
        "\n",
        "**Weakness**\n",
        "- What threshold denotes a \"good\" kappa value is highly subjective"
      ]
    },
    {
      "cell_type": "markdown",
      "metadata": {
        "id": "Trf8kb9JP1Up"
      },
      "source": [
        "### Precision, Recall, and F-Score\n",
        "\n",
        "$$ Precision = \\frac{sucessful \\space predictions}{predicted \\space positives}$$\n",
        "$$ Recall = \\frac{sucessful \\space predictions}{actual \\space positives}$$\n",
        "$$ F \\mbox{-} score = \\frac{2 \\times precision \\times recall}{precision + recall}$$"
      ]
    },
    {
      "cell_type": "code",
      "metadata": {
        "scrolled": true,
        "id": "QQ58yjrsP1Uw",
        "colab": {
          "base_uri": "https://localhost:8080/"
        },
        "outputId": "be6fa423-8f7d-4ab9-9851-a28e8730e2d2"
      },
      "source": [
        "# Compute Precision, Recall, and F-Score Manually\n",
        "# Compute number of predictions, number of correct predictions, and number of total positives\n",
        "predicted_positives = (predictions == True).sum()\n",
        "actual_positives = (actual == True).sum()\n",
        "successful_predictions = 0\n",
        "for i in range(len(predictions)):\n",
        "    if predictions[i] == True and actual[i] == True:\n",
        "        successful_predictions += 1\n",
        "\n",
        "# Compute Precision Manually\n",
        "precision = successful_predictions / predicted_positives\n",
        "print(f\"Precision: {precision:.3f}\")\n",
        "\n",
        "# Compute Recall Manually\n",
        "recall = successful_predictions / actual_positives\n",
        "print(f\"Recall: {recall:.3f}\")\n",
        "\n",
        "#Compute F-Score Manually\n",
        "f = (2*precision*recall)/(precision + recall)\n",
        "print(f\"F-Score: {f:.3f}\")"
      ],
      "execution_count": null,
      "outputs": [
        {
          "output_type": "stream",
          "name": "stdout",
          "text": [
            "Precision: 0.912\n",
            "Recall: 0.907\n",
            "F-Score: 0.909\n"
          ]
        }
      ]
    },
    {
      "cell_type": "code",
      "metadata": {
        "id": "RabGO8IbP1U0",
        "colab": {
          "base_uri": "https://localhost:8080/"
        },
        "outputId": "951727cf-0e3c-4c08-ed38-d18a99c63635"
      },
      "source": [
        "# Compute Precision, Recall, and F-Score with a Confusion Matrix\n",
        "conf_matrix = build_confusion_matrix(actual, predictions)\n",
        "\n",
        "successful_positives = conf_matrix[True][True]\n",
        "predicted_positives = 0\n",
        "for a in conf_matrix[True].keys():\n",
        "    predicted_positives += conf_matrix[True][a]\n",
        "\n",
        "precision = successful_positives / predicted_positives\n",
        "print(f\"Precision: {precision:.3f}\")\n",
        "\n",
        "actual_positives = 0\n",
        "for p in conf_matrix.keys():\n",
        "    actual_positives += conf_matrix[p][True]\n",
        "    \n",
        "recall = successful_positives / actual_positives\n",
        "print(f\"Recall: {recall:.3f}\")\n",
        "\n",
        "f = (2*precision*recall)/(precision + recall)\n",
        "\n",
        "print(f\"F-Score: {f:.3f}\")"
      ],
      "execution_count": null,
      "outputs": [
        {
          "output_type": "stream",
          "name": "stdout",
          "text": [
            "Precision: 0.912\n",
            "Recall: 0.907\n",
            "F-Score: 0.909\n"
          ]
        }
      ]
    },
    {
      "cell_type": "code",
      "metadata": {
        "id": "FJT27o2dCROO",
        "colab": {
          "base_uri": "https://localhost:8080/"
        },
        "outputId": "ce97460f-b9e6-41e2-fbf4-06b8ab7eaa47"
      },
      "source": [
        "# Compute Precision, Recall, and F-Score with scikit-learn\n",
        "precision = precision_score(actual, predictions)\n",
        "recall = recall_score(actual, predictions)\n",
        "f = f1_score(actual, predictions)\n",
        "\n",
        "print(f\"Precision: {precision:.3f}\")\n",
        "print(f\"Recall: {recall:.3f}\")\n",
        "print(f\"F-Score: {f:.3f}\")\n"
      ],
      "execution_count": null,
      "outputs": [
        {
          "output_type": "stream",
          "name": "stdout",
          "text": [
            "Precision: 0.912\n",
            "Recall: 0.907\n",
            "F-Score: 0.909\n"
          ]
        }
      ]
    },
    {
      "cell_type": "markdown",
      "metadata": {
        "id": "V8xHX1LxDtVf"
      },
      "source": [
        "#### Pros/Cons of F-score\n",
        "\n",
        "**Benefit**\n",
        "- Achieves a balance between precision and recall without sacrificing much of either\n",
        "\n",
        "**Weakness**\n",
        "- It is hard to interpret, and is not as useful when we care about one of the two components more than the other\n",
        "\n",
        "**High precision is important when...**\n",
        "- You are working with limited resources and can’t say yes often\n",
        "- The stakes for making a mistake are very high\n",
        "\n",
        "**High recall is important when...**\n",
        "- It is not very expensive or hard to say yes to everything\n",
        "- The cost of missing out is greater than the cost of making a mistake"
      ]
    },
    {
      "cell_type": "markdown",
      "metadata": {
        "id": "k8fkR4TaP1U5"
      },
      "source": [
        "### Additional metric calculation\n",
        "\n",
        "There are many other metrics that could be used to compare models. Here are a few more:\n",
        "\n",
        "$$ specificity = \\frac{successful \\space negatives}{actual \\space negatives}$$\n",
        "\n",
        "$$ sensitivity = \\frac{successful \\space positives}{actual \\space positives} = recall $$\n",
        "\n",
        "$$ false \\space positive \\space rate = \\frac{false \\space positives}{predicted \\space positives}$$\n",
        "\n",
        "$$ false \\space negative \\space rate = \\frac{false \\space negatives}{predicted \\space negatives}$$"
      ]
    },
    {
      "cell_type": "code",
      "metadata": {
        "id": "LuQ_Ox6qP1U6",
        "colab": {
          "base_uri": "https://localhost:8080/"
        },
        "outputId": "e3784159-4e67-4ff6-8dcb-b7f4a7b2a81f"
      },
      "source": [
        "conf_matrix = build_confusion_matrix(actual, predictions)\n",
        "\n",
        "# Specificity\n",
        "successful_negatives = conf_matrix[False][False]\n",
        "actual_negatives = 0\n",
        "for p in conf_matrix.keys():\n",
        "    actual_negatives += conf_matrix[p][False]\n",
        "specificity = successful_negatives / actual_negatives\n",
        "print(f\"Specificity: {specificity:.3f}\")\n",
        "\n",
        "# Sensitivity\n",
        "actual_positives = 0\n",
        "for p in conf_matrix.keys():\n",
        "    actual_positives += conf_matrix[p][True]\n",
        "\n",
        "sensitivity = successful_positives / actual_positives\n",
        "print(f\"Sensitivity: {sensitivity:.3f}\")\n",
        "\n",
        "# False Positive Rate\n",
        "false_positives = conf_matrix[True][False]\n",
        "predicted_positives = 0\n",
        "for a in conf_matrix[True].keys():\n",
        "    predicted_positives += conf_matrix[True][a]\n",
        "fpr = false_positives / predicted_positives\n",
        "print(f\"False Positive Rate: {fpr:.3f}\")\n",
        "\n",
        "# False Negative Rate\n",
        "false_negatives = conf_matrix[False][True]\n",
        "predicted_negatives = 0\n",
        "for a in conf_matrix[False].keys():\n",
        "    predicted_negatives += conf_matrix[False][a]\n",
        "fnr = false_negatives / predicted_negatives\n",
        "print(f\"False Negative Rate: {fnr:.3f}\")"
      ],
      "execution_count": null,
      "outputs": [
        {
          "output_type": "stream",
          "name": "stdout",
          "text": [
            "Specificity: 0.910\n",
            "Sensitivity: 0.907\n",
            "False Positive Rate: 0.088\n",
            "False Negative Rate: 0.095\n"
          ]
        }
      ]
    },
    {
      "cell_type": "markdown",
      "metadata": {
        "id": "s-jwJxaUIxqm"
      },
      "source": [
        "#### Pros/Cons of these metrics\n",
        "\n",
        "**Benefit**\n",
        "- In some use cases, certain results have much bigger impacts than other. For example, in a self-driving car, we'd much rather have a false positive detection of a human in front of the car than a false negative. In the case of a false positive, the car detects a human who isn't there and slows down which is fine, but in a false negative the car does not detect a human that is there and runs them over. For these sorts of high sensitivity use cases, these metrics can be very important. \n",
        "\n",
        "**Weakness**\n",
        "- Each of these metrics only paints a partial picture of our model's performance as they are highly specialized"
      ]
    },
    {
      "cell_type": "markdown",
      "metadata": {
        "id": "BD0nOkdOP1U-"
      },
      "source": [
        "### Using metrics to compare models\n",
        "Now let's group everything together, all in a single loop, using scikit-learn's built-in calculations for several of the above metrics and compare our models. Notice how the scikit-learn functions for each of the metrics takes in the same inputs in the same order. This allows us to easily interchange functions whenever we want and is one of the truly beautiful parts of scikit-learn's design!"
      ]
    },
    {
      "cell_type": "code",
      "metadata": {
        "id": "GemZ2MtDKRgY"
      },
      "source": [
        "date_features = [\"day\", \"month_str\", \"year\", \"weekday_str\", \"season\", \"holiday\", \"workingday\"]\n",
        "time_features = [\"hour\"]\n",
        "weather_features = [\"weather\", \"temp\", \"atemp\", \"humidity\", \"windspeed\"]\n",
        "\n",
        "feature_sets = {\n",
        "    \"date\": date_features,\n",
        "    \"time\": time_features,\n",
        "    \"date + time\": date_features + time_features,\n",
        "    \"weather\": weather_features,\n",
        "    \"all\": date_features + time_features + weather_features\n",
        "}"
      ],
      "execution_count": null,
      "outputs": []
    },
    {
      "cell_type": "code",
      "metadata": {
        "id": "f4NJl3VQP1VA",
        "colab": {
          "base_uri": "https://localhost:8080/"
        },
        "outputId": "32d170ae-0a73-4ecf-a3c3-cfb1939518f0"
      },
      "source": [
        "best = 0\n",
        "best_name = None\n",
        "\n",
        "precisions = []\n",
        "recalls = []\n",
        "kappas = []\n",
        "accuracies = []\n",
        "\n",
        "predictions = {}\n",
        "actual = None\n",
        "\n",
        "for set_name, feature_set in feature_sets.items():\n",
        "\n",
        "    X = bikeshare.loc[:, feature_set]\n",
        "    X = pd.get_dummies(X)\n",
        "\n",
        "    y = bikeshare[\"high_traffic\"]\n",
        "\n",
        "    X_train, X_test, y_train, y_test = train_test_split(X,y,test_size=0.20, random_state=123)\n",
        "\n",
        "    model = DecisionTreeClassifier(criterion=\"entropy\", random_state=123).fit(X_train, y_train)\n",
        "    y_pred = model.predict(X_test)\n",
        "\n",
        "    accuracy = 100*accuracy_score(y_test, y_pred)\n",
        "    kappa = cohen_kappa_score(y_test, y_pred)\n",
        "    precision = precision_score(y_test, y_pred)\n",
        "    recall = recall_score(y_test, y_pred)\n",
        "    \n",
        "    metric_to_optimize = accuracy\n",
        "    \n",
        "    if metric_to_optimize > best:\n",
        "        best = metric_to_optimize\n",
        "        best_name = set_name\n",
        "        \n",
        "    predictions[set_name] = y_pred\n",
        "    actual = np.array(list(y_test))\n",
        "    \n",
        "    # Bookkeeping and printing for the reader (not part of the core loop)\n",
        "    print(f\"Results for {set_name}:\")\n",
        "    print(confusion_matrix(y_test, y_pred))\n",
        "    print(f\"Accuracy: {accuracy:.1f} Kappa: {kappa:.3f} Precision: {precision:.3f} Recall: {recall:.3f}\")\n",
        "    precisions.append(precision)\n",
        "    recalls.append(recall)\n",
        "    kappas.append(kappa)\n",
        "    accuracies.append(accuracy)\n",
        "    print(\"------------------------\")\n",
        "    \n",
        "print(f\"Best feature set is: {best_name} \\nWith: {best:.1f}% accuracy.\")    "
      ],
      "execution_count": null,
      "outputs": [
        {
          "output_type": "stream",
          "name": "stdout",
          "text": [
            "Results for date:\n",
            "[[572 501]\n",
            " [314 791]]\n",
            "Accuracy: 62.6 Kappa: 0.250 Precision: 0.612 Recall: 0.716\n",
            "------------------------\n",
            "Results for time:\n",
            "[[ 717  356]\n",
            " [  78 1027]]\n",
            "Accuracy: 80.1 Kappa: 0.600 Precision: 0.743 Recall: 0.929\n",
            "------------------------\n",
            "Results for date + time:\n",
            "[[ 976   97]\n",
            " [ 103 1002]]\n",
            "Accuracy: 90.8 Kappa: 0.816 Precision: 0.912 Recall: 0.907\n",
            "------------------------\n",
            "Results for weather:\n",
            "[[780 293]\n",
            " [392 713]]\n",
            "Accuracy: 68.5 Kappa: 0.372 Precision: 0.709 Recall: 0.645\n",
            "------------------------\n",
            "Results for all:\n",
            "[[ 962  111]\n",
            " [  91 1014]]\n",
            "Accuracy: 90.7 Kappa: 0.814 Precision: 0.901 Recall: 0.918\n",
            "------------------------\n",
            "Best feature set is: date + time \n",
            "With: 90.8% accuracy.\n"
          ]
        }
      ]
    },
    {
      "cell_type": "markdown",
      "metadata": {
        "id": "PgM-tTgxL9LX"
      },
      "source": [
        "Notice how even though our \"best\" feature set results in a model that performs better for most metrics, it is still worse than some of the other models in recall. Its up to you as the scientist to determine what metrics are most important for a good model in your context!"
      ]
    },
    {
      "cell_type": "markdown",
      "metadata": {
        "id": "H90v266oP1VE"
      },
      "source": [
        "#### Results by Feature Set\n",
        "\n",
        "With the loop above, we're able to quickly see the following results:\n",
        "\n",
        "| Date | Time | Weather | Accuracy  |\n",
        "|------|------|---------|-----------|\n",
        "| X    |      |         | 61.3%     |\n",
        "|      | X    |         | 81.7%     |\n",
        "|      |      | X       | 66.9%     |\n",
        "| X    | X    |         | **90.8%** |\n",
        "| X    | X    | X       | 90.7%     |"
      ]
    },
    {
      "cell_type": "markdown",
      "metadata": {
        "id": "lsZbeieRP1VH"
      },
      "source": [
        "### Visualizing model comparisons\n",
        "We can use plots to visually see the differing performances of our models on two metrics at the same time."
      ]
    },
    {
      "cell_type": "code",
      "metadata": {
        "scrolled": false,
        "id": "wzQ-3qAdP1VJ",
        "colab": {
          "base_uri": "https://localhost:8080/",
          "height": 295
        },
        "outputId": "57abd09b-225a-435f-c5ee-4ff638bf052a"
      },
      "source": [
        "# Set up plot\n",
        "plt.xlim(0.5,1)\n",
        "plt.xlabel(\"Precision\")\n",
        "plt.ylim(0.5,1)\n",
        "plt.ylabel(\"Recall\")\n",
        "plt.title(\"Recall vs Precision for Different Feature Sets\")\n",
        "\n",
        "# Plot data\n",
        "names = list(feature_sets.keys())\n",
        "for i in range(len(precisions)):\n",
        "    x = precisions[i]\n",
        "    y = recalls[i]\n",
        "    plt.scatter(x, y)\n",
        "    plt.text(x+.01, y+.01, names[i], fontsize=9)"
      ],
      "execution_count": null,
      "outputs": [
        {
          "output_type": "display_data",
          "data": {
            "image/png": "[encoded data removed]",
            "text/plain": [
              "<Figure size 432x288 with 1 Axes>"
            ]
          },
          "metadata": {
            "needs_background": "light"
          }
        }
      ]
    },
    {
      "cell_type": "code",
      "metadata": {
        "id": "aABw1p7QP1VT",
        "colab": {
          "base_uri": "https://localhost:8080/",
          "height": 295
        },
        "outputId": "28e418ee-8710-46c2-b23a-49ed50bb020d"
      },
      "source": [
        "# Set up plot\n",
        "plt.xlim(0.5,1)\n",
        "plt.xlabel(\"Precision\")\n",
        "plt.ylim(0,1)\n",
        "plt.ylabel(\"Kappa\")\n",
        "plt.title(\"Kappa vs Precision for Different Feature Sets\")\n",
        "\n",
        "# Plot data\n",
        "names = list(feature_sets.keys())\n",
        "for i in range(len(kappas)):\n",
        "    x = precisions[i]\n",
        "    y = kappas[i]\n",
        "    plt.scatter(x, y)\n",
        "    plt.text(x+.01, y+.01, names[i], fontsize=9)"
      ],
      "execution_count": null,
      "outputs": [
        {
          "output_type": "display_data",
          "data": {
            "image/png": "[encoded data removed]",
            "text/plain": [
              "<Figure size 432x288 with 1 Axes>"
            ]
          },
          "metadata": {
            "needs_background": "light"
          }
        }
      ]
    },
    {
      "cell_type": "markdown",
      "metadata": {
        "id": "_Y6t6odHP1VZ"
      },
      "source": [
        "## Statistical significance of differences with a train/test set\n",
        "\n",
        "The following code check, for each pair of models that we have trained, whether or not the models are making significantly different predictions. Here, we are using the [Wilcoxon Signed-Rank Test](https://en.wikipedia.org/wiki/Wilcoxon_signed-rank_test) to get an associated test statistic and p-value for each pair of models."
      ]
    },
    {
      "cell_type": "code",
      "metadata": {
        "id": "oYdIVo1jP1Va",
        "colab": {
          "base_uri": "https://localhost:8080/"
        },
        "outputId": "008872de-2434-43df-cfc9-5a1f4d9c32ac"
      },
      "source": [
        "matches = {}\n",
        "\n",
        "for feature_set in predictions.keys():\n",
        "    boolean_matches = (predictions[feature_set] == actual)\n",
        "    int_matches = [int(x) for x in boolean_matches]\n",
        "    matches[feature_set] = int_matches\n",
        "\n",
        "for set_a in matches.keys():\n",
        "    for set_b in matches.keys():\n",
        "        if set_a != set_b:\n",
        "            matches_a = matches[set_a]\n",
        "            matches_b = matches[set_b]\n",
        "            t, p = stats.wilcoxon(matches_a, matches_b)\n",
        "            print(f\"{set_a} || {set_b}: t={t:.1f}, p={p:.3f}\")\n",
        "    print('------')\n"
      ],
      "execution_count": null,
      "outputs": [
        {
          "output_type": "stream",
          "name": "stdout",
          "text": [
            "date || time: t=208502.0, p=0.000\n",
            "date || date + time: t=44405.0, p=0.000\n",
            "date || weather: t=170945.0, p=0.000\n",
            "date || all: t=48530.0, p=0.000\n",
            "------\n",
            "time || date: t=208502.0, p=0.000\n",
            "time || date + time: t=23362.5, p=0.000\n",
            "time || weather: t=128527.0, p=0.000\n",
            "time || all: t=21650.0, p=0.000\n",
            "------\n",
            "date + time || date: t=44405.0, p=0.000\n",
            "date + time || time: t=23362.5, p=0.000\n",
            "date + time || weather: t=41170.0, p=0.000\n",
            "date + time || all: t=9554.5, p=0.886\n",
            "------\n",
            "weather || date: t=170945.0, p=0.000\n",
            "weather || time: t=128527.0, p=0.000\n",
            "weather || date + time: t=41170.0, p=0.000\n",
            "weather || all: t=38720.0, p=0.000\n",
            "------\n",
            "all || date: t=48530.0, p=0.000\n",
            "all || time: t=21650.0, p=0.000\n",
            "all || date + time: t=9554.5, p=0.886\n",
            "all || weather: t=38720.0, p=0.000\n",
            "------\n"
          ]
        }
      ]
    },
    {
      "cell_type": "markdown",
      "metadata": {
        "id": "xACZQuErXHTd"
      },
      "source": [
        "We can see that almost all the pairs of models are pretty different in this cases, indicating that splitting by different features results in models with significantly different predictions! The only two models that don't have significantly different predictions are the models using date/time and date/time/weather, indicating that weather only plays a small role in the model that uses all 3 feature subets!"
      ]
    }
  ]
}