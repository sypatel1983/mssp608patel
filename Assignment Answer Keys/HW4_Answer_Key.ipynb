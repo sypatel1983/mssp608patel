{
  "nbformat": 4,
  "nbformat_minor": 0,
  "metadata": {
    "colab": {
      "provenance": [],
      "collapsed_sections": [
        "9wuDeI73pfmI"
      ]
    },
    "kernelspec": {
      "name": "python3",
      "display_name": "Python 3"
    }
  },
  "cells": [
    {
      "cell_type": "markdown",
      "metadata": {
        "id": "y7Z9IoO458Hq"
      },
      "source": [
        "# Homework 4\n",
        "In this homework we are working with a dataset of American universities, aggregated from government statistics. The dataset contains a large number of columns covering financial details, enrollment details, and so on. We will be using unsupervised dimensionality reduction to discover which features are highly related, and then using unsupervised clustering to discover which colleges are most similar."
      ]
    },
    {
      "cell_type": "markdown",
      "metadata": {
        "id": "9wuDeI73pfmI"
      },
      "source": [
        "# Initial Data Fetching and Setup"
      ]
    },
    {
      "cell_type": "code",
      "metadata": {
        "id": "gD8xgRYrRAV3",
        "colab": {
          "base_uri": "https://localhost:8080/"
        },
        "outputId": "26a819f2-3fe1-41d4-906c-65013bc8465e"
      },
      "source": [
        "!wget --no-check-certificate 'https://docs.google.com/uc?export=download&id=1lPoKPVXt9glGvBlxA-lwZDtmpyUsvIpL' -O colleges.csv\n"
      ],
      "execution_count": null,
      "outputs": [
        {
          "output_type": "stream",
          "name": "stdout",
          "text": [
            "--2022-04-08 03:57:13--  https://docs.google.com/uc?export=download&id=1lPoKPVXt9glGvBlxA-lwZDtmpyUsvIpL\n",
            "Resolving docs.google.com (docs.google.com)... 142.250.152.100, 142.250.152.113, 142.250.152.102, ...\n",
            "Connecting to docs.google.com (docs.google.com)|142.250.152.100|:443... connected.\n",
            "HTTP request sent, awaiting response... 303 See Other\n",
            "Location: https://doc-04-b0-docs.googleusercontent.com/docs/securesc/ha0ro937gcuc7l7deffksulhg5h7mbp1/2u2o11ueu4m08u38eidvqt6jhuomjt8a/1649390175000/09640029349513786515/*/1lPoKPVXt9glGvBlxA-lwZDtmpyUsvIpL?e=download [following]\n",
            "Warning: wildcards not supported in HTTP.\n",
            "--2022-04-08 03:57:13--  https://doc-04-b0-docs.googleusercontent.com/docs/securesc/ha0ro937gcuc7l7deffksulhg5h7mbp1/2u2o11ueu4m08u38eidvqt6jhuomjt8a/1649390175000/09640029349513786515/*/1lPoKPVXt9glGvBlxA-lwZDtmpyUsvIpL?e=download\n",
            "Resolving doc-04-b0-docs.googleusercontent.com (doc-04-b0-docs.googleusercontent.com)... 108.177.112.132, 2607:f8b0:4001:c12::84\n",
            "Connecting to doc-04-b0-docs.googleusercontent.com (doc-04-b0-docs.googleusercontent.com)|108.177.112.132|:443... connected.\n",
            "HTTP request sent, awaiting response... 200 OK\n",
            "Length: 1122328 (1.1M) [text/csv]\n",
            "Saving to: ‘colleges.csv’\n",
            "\n",
            "colleges.csv        100%[===================>]   1.07M  --.-KB/s    in 0.01s   \n",
            "\n",
            "2022-04-08 03:57:14 (109 MB/s) - ‘colleges.csv’ saved [1122328/1122328]\n",
            "\n"
          ]
        }
      ]
    },
    {
      "cell_type": "code",
      "metadata": {
        "id": "fldhDMMaLRDD",
        "colab": {
          "base_uri": "https://localhost:8080/"
        },
        "outputId": "848cde19-6b38-4df4-e846-6b4ec711a9f8"
      },
      "source": [
        "import pandas as pd\n",
        "input_file = pd.read_csv(\"colleges.csv\")\n",
        "print(input_file.shape)\n",
        "\n",
        "input_file_clean = {\n",
        "    \"Institution name\": input_file[\"Institution name\"]\n",
        "}\n",
        "for column in input_file.loc[:, input_file.columns[1:]]:\n",
        "  clean_column = []\n",
        "  original_column = input_file[column].replace(\"-\", None)\n",
        "  for x in original_column:\n",
        "    try:\n",
        "      clean_column.append(float(x))\n",
        "    except:\n",
        "      clean_column.append(None)\n",
        "  input_file_clean[column] = clean_column\n",
        "df = pd.DataFrame(input_file_clean)\n",
        "df = df.dropna()\n",
        "\n"
      ],
      "execution_count": null,
      "outputs": [
        {
          "output_type": "stream",
          "name": "stdout",
          "text": [
            "(3815, 77)\n"
          ]
        }
      ]
    },
    {
      "cell_type": "code",
      "metadata": {
        "id": "y_JQfvgnCuAt"
      },
      "source": [
        "import numpy as np"
      ],
      "execution_count": null,
      "outputs": []
    },
    {
      "cell_type": "markdown",
      "metadata": {
        "id": "iyN_qCao3_WN"
      },
      "source": [
        "\n",
        "# Question 1 *(4 points)*\n",
        "\n",
        "Manually choose four different subsets of features (select features which fall into the below categories), each of which represents one concept about the colleges in this list. You do not need to use a large number of features, just enough to represent (by hand) the concept you are trying to approximate.\n",
        "\n",
        "| Feature Set | Description                                                               |\n",
        "|-------------|---------------------------------------------------------------------------|\n",
        "| Size        | Features representing the size of a university.                |\n",
        "| Selectivity | Features representing the difficulty of being admitted and/or graduating. |\n",
        "| Diversity   | Features representing the breadth of  representation in the student body.              |\n",
        "| **You choose**   | One additional concept that you decide to investigate.             |"
      ]
    },
    {
      "cell_type": "code",
      "metadata": {
        "colab": {
          "base_uri": "https://localhost:8080/"
        },
        "id": "ZnRmnLMjQe_f",
        "outputId": "f1944de5-aac2-4b20-c082-cc54ad1d4197"
      },
      "source": [
        "df.columns"
      ],
      "execution_count": null,
      "outputs": [
        {
          "output_type": "execute_result",
          "data": {
            "text/plain": [
              "Index(['Institution name', 'Number of Applicants', 'Number Admitted',\n",
              "       'Number Admitted who Enrolled', 'Percent of Applicants Admitted',\n",
              "       'Percent Admitted who Enrolled', 'Undergraduate total_Full time - Men',\n",
              "       'Undergraduate total_Full time - Women',\n",
              "       'Undergraduate total_Full time - Total',\n",
              "       'Undergraduate total_Part time - Men',\n",
              "       'Undergraduate total_Part time - Women',\n",
              "       'Undergraduate total_Part time - Total',\n",
              "       'Undergraduate total_Grand Total', 'Graduate_Full time - Men',\n",
              "       'Graduate_Full time - Women', 'Graduate_Full time - Total',\n",
              "       'Graduate_Part time - Men', 'Graduate_Part time - Women',\n",
              "       'Graduate_Part time - Total', 'Graduate_Grand Total',\n",
              "       'All students total_Full time - Men',\n",
              "       'All students total_Full time - Women',\n",
              "       'All students total_Full time - Total',\n",
              "       'All students total_Part time - Men',\n",
              "       'All students total_Part time - Women',\n",
              "       'All students total_Part time - Total',\n",
              "       'All students total_Grand Total', 'In-state - Number',\n",
              "       'In-state - Percent', 'Out-of-state - Number', 'Out-of-state - Percent',\n",
              "       'Foreign countries - Number', 'Foreign countries - Percent',\n",
              "       'SAT I Verbal - 25th Percentile', 'SAT I Verbal - 75th Percentile',\n",
              "       'SAT I Math - 25th Percentile', 'SAT I Math - 75th Percentile',\n",
              "       'Students submitting SAT scores - Number',\n",
              "       'Students submitting SAT scores - Percent', 'Degrees granted',\n",
              "       'Graduation rate (%)', 'Transfer-out number', 'Transfer-out rate (%)',\n",
              "       'All full-time instructional staff', 'With faculty status',\n",
              "       'With tenure', 'On tenure track', 'Not on tenure track',\n",
              "       'Undergraduate_Total',\n",
              "       'Undergraduate_American Indian or Alaska Native ',\n",
              "       'Undergraduate_Asian ', 'Undergraduate_Black or African American ',\n",
              "       'Undergraduate_Hispanic or Latino',\n",
              "       'Undergraduate_Native Hawaiian or Other Pacific Islander ',\n",
              "       'Undergraduate_White ', 'Undergraduate_Two or more races ',\n",
              "       'Undergraduate_Race/ethnicity unknown ',\n",
              "       'Undergraduate_Nonresident alien ', 'Graduate_Total',\n",
              "       'Graduate_American Indian or Alaska Native ', 'Graduate_Asian ',\n",
              "       'Graduate_Black or African American ', 'Graduate_Hispanic or Latino',\n",
              "       'Graduate_Native Hawaiian or Other Pacific Islander ',\n",
              "       'Graduate_White ', 'Graduate_Two or more races ',\n",
              "       'Graduate_Race/ethnicity unknown ', 'Graduate_Nonresident alien ',\n",
              "       'Total_American Indian or Alaska Native ', 'Total_Asian ',\n",
              "       'Total_Black or African American ', 'Total_Hispanic or Latino',\n",
              "       'Total_Native Hawaiian or Other Pacific Islander ', 'Total_White ',\n",
              "       'Total_Two or more races ', 'Total_Race/ethnicity unknown ',\n",
              "       'Total_Nonresident alien '],\n",
              "      dtype='object')"
            ]
          },
          "metadata": {},
          "execution_count": 4
        }
      ]
    },
    {
      "cell_type": "markdown",
      "metadata": {
        "id": "JrUoLhjk8ABw"
      },
      "source": [
        "\n",
        "## Answer 1 \n",
        "\n",
        "**Size**\n",
        "\n",
        "* 'Undergraduate_Total'\n",
        "* 'Graduate_Total'\n",
        "\n",
        "\n",
        "**Selectivity**\n",
        "\n",
        "* 'Percent of Applicants Admitted'\n",
        "* 'Graduation rate (%)'\n",
        "\n",
        "**Diversity**\n",
        "\n",
        "* 'Total_American Indian or Alaska Native '\n",
        "* 'Total_Asian '\n",
        "* 'Total_Black or African American '\n",
        "* 'Total_Hispanic or Latino'\n",
        "* 'Total_Native Hawaiian or Other Pacific Islander '\n",
        "* 'Total_White '\n",
        "* 'Total_Two or more races '\n",
        "* 'Total_Race/ethnicity unknown '\n",
        "\n",
        "**The Feature group you are creating**: Gender breakdown\n",
        "\n",
        "* 'All students total_Full time - Men'\n",
        "* 'All students total_Full time - Women'\n",
        "* 'All students total_Part time - Men'\n",
        "* 'All students total_Part time - Women'"
      ]
    },
    {
      "cell_type": "markdown",
      "metadata": {
        "id": "1-M5G2ryQRSe"
      },
      "source": [
        "# Task 2. *(14 points total)*\n",
        "\n",
        "### Task 2.1 *(2 points)*\n",
        "Normalize the features in the university dataset. Each feature in the resulting data frame should be normalized to a value between 0 and 1. Save this normalized representation to a variable named `df_norm`."
      ]
    },
    {
      "cell_type": "code",
      "metadata": {
        "id": "02cSp7LMgRRW"
      },
      "source": [
        "df_numeric = df.drop(columns = \"Institution name\")"
      ],
      "execution_count": null,
      "outputs": []
    },
    {
      "cell_type": "code",
      "metadata": {
        "id": "sN6W49dCdBUw"
      },
      "source": [
        "from sklearn.preprocessing import MinMaxScaler\n",
        "\n",
        "#Define data to use\n",
        "X = df.loc[:, df_numeric.columns]\n",
        "\n",
        "\n",
        "#Scale data\n",
        "mms = MinMaxScaler()\n",
        "df_norm = pd.DataFrame(mms.fit_transform(X), columns=df_numeric.columns, index = df['Institution name'])"
      ],
      "execution_count": null,
      "outputs": []
    },
    {
      "cell_type": "code",
      "metadata": {
        "colab": {
          "base_uri": "https://localhost:8080/",
          "height": 369
        },
        "id": "ujaGuBL7XqmH",
        "outputId": "848799c7-073f-4eba-9f3f-dc54f76521f9"
      },
      "source": [
        "X.head()"
      ],
      "execution_count": null,
      "outputs": [
        {
          "output_type": "execute_result",
          "data": {
            "text/plain": [
              "   Number of Applicants  Number Admitted  Number Admitted who Enrolled  \\\n",
              "1                7845.0           7226.0                        2299.0   \n",
              "2                4543.0           3674.0                        1435.0   \n",
              "3                7783.0           7607.0                        1038.0   \n",
              "4               37302.0          22032.0                        6663.0   \n",
              "5               37302.0          22032.0                        6663.0   \n",
              "\n",
              "   Percent of Applicants Admitted  Percent Admitted who Enrolled  \\\n",
              "1                           0.921                          0.318   \n",
              "2                           0.809                          0.391   \n",
              "3                           0.977                          0.136   \n",
              "4                           0.591                          0.302   \n",
              "5                           0.591                          0.302   \n",
              "\n",
              "   Undergraduate total_Full time - Men  Undergraduate total_Full time - Women  \\\n",
              "1                               3988.0                                 6054.0   \n",
              "2                               3678.0                                 2715.0   \n",
              "3                               1332.0                                 2311.0   \n",
              "4                              13333.0                                16253.0   \n",
              "5                                351.0                                  391.0   \n",
              "\n",
              "   Undergraduate total_Full time - Total  Undergraduate total_Part time - Men  \\\n",
              "1                                10042.0                               1431.0   \n",
              "2                                 6393.0                                743.0   \n",
              "3                                 3643.0                                116.0   \n",
              "4                                29586.0                               1253.0   \n",
              "5                                  742.0                                415.0   \n",
              "\n",
              "   Undergraduate total_Part time - Women  ...  Graduate_Nonresident alien   \\\n",
              "1                                 2363.0  ...                        701.0   \n",
              "2                                  535.0  ...                        270.0   \n",
              "3                                  144.0  ...                         18.0   \n",
              "4                                 2189.0  ...                        543.0   \n",
              "5                                  524.0  ...                        543.0   \n",
              "\n",
              "   Total_American Indian or Alaska Native   Total_Asian   \\\n",
              "1                                     59.0        1305.0   \n",
              "2                                     97.0         364.0   \n",
              "3                                      5.0          22.0   \n",
              "4                                    139.0         466.0   \n",
              "5                                      5.0           9.0   \n",
              "\n",
              "   Total_Black or African American   Total_Hispanic or Latino  \\\n",
              "1                            4795.0                     672.0   \n",
              "2                             946.0                     458.0   \n",
              "3                            4017.0                      43.0   \n",
              "4                            4038.0                    1831.0   \n",
              "5                             340.0                      40.0   \n",
              "\n",
              "   Total_Native Hawaiian or Other Pacific Islander   Total_White   \\\n",
              "1                                               6.0       12920.0   \n",
              "2                                               6.0        6788.0   \n",
              "3                                               2.0         171.0   \n",
              "4                                              42.0       29168.0   \n",
              "5                                               0.0        1267.0   \n",
              "\n",
              "   Total_Two or more races   Total_Race/ethnicity unknown   \\\n",
              "1                     828.0                          289.0   \n",
              "2                     245.0                          383.0   \n",
              "3                      44.0                           51.0   \n",
              "4                    1242.0                          240.0   \n",
              "5                      12.0                            6.0   \n",
              "\n",
              "   Total_Nonresident alien   \n",
              "1                    1049.0  \n",
              "2                     449.0  \n",
              "3                      58.0  \n",
              "4                    1224.0  \n",
              "5                       2.0  \n",
              "\n",
              "[5 rows x 76 columns]"
            ],
            "text/html": [
              "\n",
              "  <div id=\"df-e70a179c-f2a1-4d46-9cd5-c937ce3fdd7a\">\n",
              "    <div class=\"colab-df-container\">\n",
              "      <div>\n",
              "<style scoped>\n",
              "    .dataframe tbody tr th:only-of-type {\n",
              "        vertical-align: middle;\n",
              "    }\n",
              "\n",
              "    .dataframe tbody tr th {\n",
              "        vertical-align: top;\n",
              "    }\n",
              "\n",
              "    .dataframe thead th {\n",
              "        text-align: right;\n",
              "    }\n",
              "</style>\n",
              "<table border=\"1\" class=\"dataframe\">\n",
              "  <thead>\n",
              "    <tr style=\"text-align: right;\">\n",
              "      <th></th>\n",
              "      <th>Number of Applicants</th>\n",
              "      <th>Number Admitted</th>\n",
              "      <th>Number Admitted who Enrolled</th>\n",
              "      <th>Percent of Applicants Admitted</th>\n",
              "      <th>Percent Admitted who Enrolled</th>\n",
              "      <th>Undergraduate total_Full time - Men</th>\n",
              "      <th>Undergraduate total_Full time - Women</th>\n",
              "      <th>Undergraduate total_Full time - Total</th>\n",
              "      <th>Undergraduate total_Part time - Men</th>\n",
              "      <th>Undergraduate total_Part time - Women</th>\n",
              "      <th>...</th>\n",
              "      <th>Graduate_Nonresident alien</th>\n",
              "      <th>Total_American Indian or Alaska Native</th>\n",
              "      <th>Total_Asian</th>\n",
              "      <th>Total_Black or African American</th>\n",
              "      <th>Total_Hispanic or Latino</th>\n",
              "      <th>Total_Native Hawaiian or Other Pacific Islander</th>\n",
              "      <th>Total_White</th>\n",
              "      <th>Total_Two or more races</th>\n",
              "      <th>Total_Race/ethnicity unknown</th>\n",
              "      <th>Total_Nonresident alien</th>\n",
              "    </tr>\n",
              "  </thead>\n",
              "  <tbody>\n",
              "    <tr>\n",
              "      <th>1</th>\n",
              "      <td>7845.0</td>\n",
              "      <td>7226.0</td>\n",
              "      <td>2299.0</td>\n",
              "      <td>0.921</td>\n",
              "      <td>0.318</td>\n",
              "      <td>3988.0</td>\n",
              "      <td>6054.0</td>\n",
              "      <td>10042.0</td>\n",
              "      <td>1431.0</td>\n",
              "      <td>2363.0</td>\n",
              "      <td>...</td>\n",
              "      <td>701.0</td>\n",
              "      <td>59.0</td>\n",
              "      <td>1305.0</td>\n",
              "      <td>4795.0</td>\n",
              "      <td>672.0</td>\n",
              "      <td>6.0</td>\n",
              "      <td>12920.0</td>\n",
              "      <td>828.0</td>\n",
              "      <td>289.0</td>\n",
              "      <td>1049.0</td>\n",
              "    </tr>\n",
              "    <tr>\n",
              "      <th>2</th>\n",
              "      <td>4543.0</td>\n",
              "      <td>3674.0</td>\n",
              "      <td>1435.0</td>\n",
              "      <td>0.809</td>\n",
              "      <td>0.391</td>\n",
              "      <td>3678.0</td>\n",
              "      <td>2715.0</td>\n",
              "      <td>6393.0</td>\n",
              "      <td>743.0</td>\n",
              "      <td>535.0</td>\n",
              "      <td>...</td>\n",
              "      <td>270.0</td>\n",
              "      <td>97.0</td>\n",
              "      <td>364.0</td>\n",
              "      <td>946.0</td>\n",
              "      <td>458.0</td>\n",
              "      <td>6.0</td>\n",
              "      <td>6788.0</td>\n",
              "      <td>245.0</td>\n",
              "      <td>383.0</td>\n",
              "      <td>449.0</td>\n",
              "    </tr>\n",
              "    <tr>\n",
              "      <th>3</th>\n",
              "      <td>7783.0</td>\n",
              "      <td>7607.0</td>\n",
              "      <td>1038.0</td>\n",
              "      <td>0.977</td>\n",
              "      <td>0.136</td>\n",
              "      <td>1332.0</td>\n",
              "      <td>2311.0</td>\n",
              "      <td>3643.0</td>\n",
              "      <td>116.0</td>\n",
              "      <td>144.0</td>\n",
              "      <td>...</td>\n",
              "      <td>18.0</td>\n",
              "      <td>5.0</td>\n",
              "      <td>22.0</td>\n",
              "      <td>4017.0</td>\n",
              "      <td>43.0</td>\n",
              "      <td>2.0</td>\n",
              "      <td>171.0</td>\n",
              "      <td>44.0</td>\n",
              "      <td>51.0</td>\n",
              "      <td>58.0</td>\n",
              "    </tr>\n",
              "    <tr>\n",
              "      <th>4</th>\n",
              "      <td>37302.0</td>\n",
              "      <td>22032.0</td>\n",
              "      <td>6663.0</td>\n",
              "      <td>0.591</td>\n",
              "      <td>0.302</td>\n",
              "      <td>13333.0</td>\n",
              "      <td>16253.0</td>\n",
              "      <td>29586.0</td>\n",
              "      <td>1253.0</td>\n",
              "      <td>2189.0</td>\n",
              "      <td>...</td>\n",
              "      <td>543.0</td>\n",
              "      <td>139.0</td>\n",
              "      <td>466.0</td>\n",
              "      <td>4038.0</td>\n",
              "      <td>1831.0</td>\n",
              "      <td>42.0</td>\n",
              "      <td>29168.0</td>\n",
              "      <td>1242.0</td>\n",
              "      <td>240.0</td>\n",
              "      <td>1224.0</td>\n",
              "    </tr>\n",
              "    <tr>\n",
              "      <th>5</th>\n",
              "      <td>37302.0</td>\n",
              "      <td>22032.0</td>\n",
              "      <td>6663.0</td>\n",
              "      <td>0.591</td>\n",
              "      <td>0.302</td>\n",
              "      <td>351.0</td>\n",
              "      <td>391.0</td>\n",
              "      <td>742.0</td>\n",
              "      <td>415.0</td>\n",
              "      <td>524.0</td>\n",
              "      <td>...</td>\n",
              "      <td>543.0</td>\n",
              "      <td>5.0</td>\n",
              "      <td>9.0</td>\n",
              "      <td>340.0</td>\n",
              "      <td>40.0</td>\n",
              "      <td>0.0</td>\n",
              "      <td>1267.0</td>\n",
              "      <td>12.0</td>\n",
              "      <td>6.0</td>\n",
              "      <td>2.0</td>\n",
              "    </tr>\n",
              "  </tbody>\n",
              "</table>\n",
              "<p>5 rows × 76 columns</p>\n",
              "</div>\n",
              "      <button class=\"colab-df-convert\" onclick=\"convertToInteractive('df-e70a179c-f2a1-4d46-9cd5-c937ce3fdd7a')\"\n",
              "              title=\"Convert this dataframe to an interactive table.\"\n",
              "              style=\"display:none;\">\n",
              "        \n",
              "  <svg xmlns=\"http://www.w3.org/2000/svg\" height=\"24px\"viewBox=\"0 0 24 24\"\n",
              "       width=\"24px\">\n",
              "    <path d=\"M0 0h24v24H0V0z\" fill=\"none\"/>\n",
              "    <path d=\"M18.56 5.44l.94 2.06.94-2.06 2.06-.94-2.06-.94-.94-2.06-.94 2.06-2.06.94zm-11 1L8.5 8.5l.94-2.06 2.06-.94-2.06-.94L8.5 2.5l-.94 2.06-2.06.94zm10 10l.94 2.06.94-2.06 2.06-.94-2.06-.94-.94-2.06-.94 2.06-2.06.94z\"/><path d=\"M17.41 7.96l-1.37-1.37c-.4-.4-.92-.59-1.43-.59-.52 0-1.04.2-1.43.59L10.3 9.45l-7.72 7.72c-.78.78-.78 2.05 0 2.83L4 21.41c.39.39.9.59 1.41.59.51 0 1.02-.2 1.41-.59l7.78-7.78 2.81-2.81c.8-.78.8-2.07 0-2.86zM5.41 20L4 18.59l7.72-7.72 1.47 1.35L5.41 20z\"/>\n",
              "  </svg>\n",
              "      </button>\n",
              "      \n",
              "  <style>\n",
              "    .colab-df-container {\n",
              "      display:flex;\n",
              "      flex-wrap:wrap;\n",
              "      gap: 12px;\n",
              "    }\n",
              "\n",
              "    .colab-df-convert {\n",
              "      background-color: #E8F0FE;\n",
              "      border: none;\n",
              "      border-radius: 50%;\n",
              "      cursor: pointer;\n",
              "      display: none;\n",
              "      fill: #1967D2;\n",
              "      height: 32px;\n",
              "      padding: 0 0 0 0;\n",
              "      width: 32px;\n",
              "    }\n",
              "\n",
              "    .colab-df-convert:hover {\n",
              "      background-color: #E2EBFA;\n",
              "      box-shadow: 0px 1px 2px rgba(60, 64, 67, 0.3), 0px 1px 3px 1px rgba(60, 64, 67, 0.15);\n",
              "      fill: #174EA6;\n",
              "    }\n",
              "\n",
              "    [theme=dark] .colab-df-convert {\n",
              "      background-color: #3B4455;\n",
              "      fill: #D2E3FC;\n",
              "    }\n",
              "\n",
              "    [theme=dark] .colab-df-convert:hover {\n",
              "      background-color: #434B5C;\n",
              "      box-shadow: 0px 1px 3px 1px rgba(0, 0, 0, 0.15);\n",
              "      filter: drop-shadow(0px 1px 2px rgba(0, 0, 0, 0.3));\n",
              "      fill: #FFFFFF;\n",
              "    }\n",
              "  </style>\n",
              "\n",
              "      <script>\n",
              "        const buttonEl =\n",
              "          document.querySelector('#df-e70a179c-f2a1-4d46-9cd5-c937ce3fdd7a button.colab-df-convert');\n",
              "        buttonEl.style.display =\n",
              "          google.colab.kernel.accessAllowed ? 'block' : 'none';\n",
              "\n",
              "        async function convertToInteractive(key) {\n",
              "          const element = document.querySelector('#df-e70a179c-f2a1-4d46-9cd5-c937ce3fdd7a');\n",
              "          const dataTable =\n",
              "            await google.colab.kernel.invokeFunction('convertToInteractive',\n",
              "                                                     [key], {});\n",
              "          if (!dataTable) return;\n",
              "\n",
              "          const docLinkHtml = 'Like what you see? Visit the ' +\n",
              "            '<a target=\"_blank\" href=https://colab.research.google.com/notebooks/data_table.ipynb>data table notebook</a>'\n",
              "            + ' to learn more about interactive tables.';\n",
              "          element.innerHTML = '';\n",
              "          dataTable['output_type'] = 'display_data';\n",
              "          await google.colab.output.renderOutput(dataTable, element);\n",
              "          const docLink = document.createElement('div');\n",
              "          docLink.innerHTML = docLinkHtml;\n",
              "          element.appendChild(docLink);\n",
              "        }\n",
              "      </script>\n",
              "    </div>\n",
              "  </div>\n",
              "  "
            ]
          },
          "metadata": {},
          "execution_count": 21
        }
      ]
    },
    {
      "cell_type": "markdown",
      "metadata": {
        "id": "B2ZEWAqydB47"
      },
      "source": [
        "### Task 2.2 Unsupervised Features *(6 points)*\n",
        "Using principal component analysis on `df_norm`, generate a dimensionality-reduced representation of the university dataset. \n",
        "\n",
        "2.2.1 Vary the number of components from 2 to 10. What percentage of variance is explained at each number of components?\n",
        "\n",
        "\n"
      ]
    },
    {
      "cell_type": "code",
      "metadata": {
        "id": "0wiABad_lYJb",
        "colab": {
          "base_uri": "https://localhost:8080/"
        },
        "outputId": "5da5797f-6aff-467c-8a5c-c26736fa0ce0"
      },
      "source": [
        "from sklearn.decomposition import PCA\n",
        "\n",
        "for i in range(2, 11):\n",
        "  pca = PCA(n_components = i)\n",
        "  pca.fit_transform(df_norm)\n",
        "  explained_variance = sum(pca.explained_variance_ratio_)\n",
        "  print(f\"Variance explained with {i} components: {round(100*explained_variance, 2)}%\")"
      ],
      "execution_count": null,
      "outputs": [
        {
          "output_type": "stream",
          "name": "stdout",
          "text": [
            "Variance explained with 2 components: 38.06%\n",
            "Variance explained with 3 components: 49.04%\n",
            "Variance explained with 4 components: 57.96%\n",
            "Variance explained with 5 components: 64.51%\n",
            "Variance explained with 6 components: 70.24%\n",
            "Variance explained with 7 components: 75.61%\n",
            "Variance explained with 8 components: 80.28%\n",
            "Variance explained with 9 components: 83.2%\n",
            "Variance explained with 10 components: 85.56%\n"
          ]
        }
      ]
    },
    {
      "cell_type": "markdown",
      "metadata": {
        "id": "tiIwFH3zCE7w"
      },
      "source": [
        "2.2.2 Set the number of components to 4. Which features load together with high weight in each component? Make sure to explore each component individually."
      ]
    },
    {
      "cell_type": "code",
      "metadata": {
        "id": "JXvtjJv99ZOW"
      },
      "source": [
        "pca = PCA(n_components = 4)\n",
        "components = pca.fit_transform(df_norm)"
      ],
      "execution_count": null,
      "outputs": []
    },
    {
      "cell_type": "code",
      "metadata": {
        "id": "iUQlnXUfDir2",
        "colab": {
          "base_uri": "https://localhost:8080/"
        },
        "outputId": "23b0afe1-12d3-4b24-dd5c-016c864b2a1f"
      },
      "source": [
        "#Exploring Component 1\n",
        "\n",
        "factors = pd.DataFrame({\n",
        "    \"Features\": df_norm.columns,\n",
        "    \"Component 1\": pca.components_[0]\n",
        "})\n",
        "factors.sort_values(\"Component 1\", ascending=False, ignore_index=True, inplace=True)\n",
        "\n",
        "print(f\"The top 3 in Component 1 are {factors.iloc[0, 0]}, {factors.iloc[1, 0]}, and {factors.iloc[2, 0]}.\")"
      ],
      "execution_count": null,
      "outputs": [
        {
          "output_type": "stream",
          "name": "stdout",
          "text": [
            "The top 3 in Component 1 are Number Admitted, Number Admitted who Enrolled, and Students submitting SAT scores - Number.\n"
          ]
        }
      ]
    },
    {
      "cell_type": "code",
      "metadata": {
        "id": "MVBE6lydEn2q",
        "colab": {
          "base_uri": "https://localhost:8080/"
        },
        "outputId": "a181bc4a-e832-4e32-f478-cd0af3e48be6"
      },
      "source": [
        "#Exploring Component 2\n",
        "\n",
        "factors = pd.DataFrame({\n",
        "    \"Features\": df_norm.columns,\n",
        "    \"Component 2\": pca.components_[1]\n",
        "})\n",
        "factors.sort_values(\"Component 2\", ascending=False, ignore_index=True, inplace=True)\n",
        "\n",
        "print(f\"The top 3 in Component 2 are {factors.iloc[0, 0]}, {factors.iloc[1, 0]}, and {factors.iloc[2, 0]}.\")"
      ],
      "execution_count": null,
      "outputs": [
        {
          "output_type": "stream",
          "name": "stdout",
          "text": [
            "The top 3 in Component 2 are In-state - Percent, Students submitting SAT scores - Percent, and Percent of Applicants Admitted.\n"
          ]
        }
      ]
    },
    {
      "cell_type": "code",
      "metadata": {
        "id": "05_FRdSRFOR7",
        "colab": {
          "base_uri": "https://localhost:8080/"
        },
        "outputId": "9f7c6b38-5a5a-4d97-a561-0dd531ec97bc"
      },
      "source": [
        "#Exploring Component 3\n",
        "\n",
        "factors = pd.DataFrame({\n",
        "    \"Features\": df_norm.columns,\n",
        "    \"Component 3\": pca.components_[2]\n",
        "})\n",
        "factors.sort_values(\"Component 3\", ascending=False, ignore_index=True, inplace=True)\n",
        "\n",
        "print(f\"The top 3 in Component 3 are {factors.iloc[0, 0]}, {factors.iloc[1, 0]}, and {factors.iloc[2, 0]}.\")"
      ],
      "execution_count": null,
      "outputs": [
        {
          "output_type": "stream",
          "name": "stdout",
          "text": [
            "The top 3 in Component 3 are Percent Admitted who Enrolled, Undergraduate_Total, and Undergraduate total_Grand Total.\n"
          ]
        }
      ]
    },
    {
      "cell_type": "code",
      "metadata": {
        "id": "1U7tTEjrFn9O",
        "colab": {
          "base_uri": "https://localhost:8080/"
        },
        "outputId": "fb5c8a39-bc1d-4762-8073-b2fd629bbc47"
      },
      "source": [
        "#Exploring Component 4\n",
        "\n",
        "factors = pd.DataFrame({\n",
        "    \"Features\": df_norm.columns,\n",
        "    \"Component 4\": pca.components_[3]\n",
        "})\n",
        "factors.sort_values(\"Component 4\", ascending=False, ignore_index=True, inplace=True)\n",
        "\n",
        "print(f\"The top 3 in Component 4 are {factors.iloc[0, 0]}, {factors.iloc[1, 0]}, and {factors.iloc[2, 0]}.\")"
      ],
      "execution_count": null,
      "outputs": [
        {
          "output_type": "stream",
          "name": "stdout",
          "text": [
            "The top 3 in Component 4 are SAT I Math - 75th Percentile, Percent Admitted who Enrolled, and In-state - Percent.\n"
          ]
        }
      ]
    },
    {
      "cell_type": "markdown",
      "metadata": {
        "id": "c91bcUwo4sdh"
      },
      "source": [
        "### Task 2.3. Unsupervised Clusters (6 points) \n",
        "Tune a K-means cluster model on this dataset, using the features from `df_norm`. In particular, tune the number of clusters *K* to a level that, in your best judgment, produces representative clusters and appropriate complexity.\n"
      ]
    },
    {
      "cell_type": "code",
      "metadata": {
        "id": "ixInyohP6Gh2"
      },
      "source": [
        "#Form the dataframe on which to tune the model\n",
        "\n",
        "condensed_df = pd.DataFrame(components, index=df['Institution name'])"
      ],
      "execution_count": null,
      "outputs": []
    },
    {
      "cell_type": "code",
      "metadata": {
        "id": "e1KRX5iH47QS",
        "colab": {
          "base_uri": "https://localhost:8080/",
          "height": 279
        },
        "outputId": "9fec3594-cd54-44d2-d813-f0b3f295555e"
      },
      "source": [
        "#Use the elbow method to decide how many clusters is appropriate\n",
        "\n",
        "import matplotlib.pyplot as plt\n",
        "from sklearn.cluster import KMeans\n",
        "\n",
        "distortions = []\n",
        "for i in range(1, 11):\n",
        "    km = KMeans(n_clusters=i, \n",
        "                init='k-means++', \n",
        "                n_init=10, \n",
        "                max_iter=300,\n",
        "                tol=0.0001, \n",
        "                random_state=0)\n",
        "    km.fit(condensed_df)\n",
        "    distortions.append(km.inertia_)\n",
        "plt.plot(range(1, 11), distortions, marker='o')\n",
        "plt.xlabel('Number of clusters')\n",
        "plt.ylabel('Distortion')\n",
        "plt.show()"
      ],
      "execution_count": null,
      "outputs": [
        {
          "output_type": "display_data",
          "data": {
            "text/plain": [
              "<Figure size 432x288 with 1 Axes>"
            ],
            "image/png": "[encoded data removed]"
          },
          "metadata": {
            "needs_background": "light"
          }
        }
      ]
    },
    {
      "cell_type": "code",
      "metadata": {
        "id": "woz_YlSzfRyc"
      },
      "source": [
        "#Fitting the model\n",
        "km = KMeans(n_clusters=4, \n",
        "                init='k-means++', \n",
        "                n_init=10, \n",
        "                max_iter=300,\n",
        "                tol=0.0001, \n",
        "                random_state=0)\n",
        "km_predict = km.fit_predict(condensed_df)"
      ],
      "execution_count": null,
      "outputs": []
    },
    {
      "cell_type": "code",
      "metadata": {
        "id": "7zh5DYp0-SlY"
      },
      "source": [
        "df[\"Cluster_Prediction\"] = km_predict"
      ],
      "execution_count": null,
      "outputs": []
    },
    {
      "cell_type": "code",
      "metadata": {
        "colab": {
          "base_uri": "https://localhost:8080/"
        },
        "id": "4j3Gwt89-blC",
        "outputId": "b410a074-06ff-47b3-9061-368b18b27298"
      },
      "source": [
        "#Calculate cluster statistics to see how they are differentiated from each other\n",
        "\n",
        "for i in range(0, 4):\n",
        "  df_i = df.loc[df[\"Cluster_Prediction\"] == i]\n",
        "  print(f\"Cluster {i+1} stats:\")\n",
        "  print(f\"Percentage of all data: {round(100*len(df_i)/len(df), 2)}%\")\n",
        "  print(f\"Average percent of applicants admitted: {round(100*np.mean(df_i['Percent of Applicants Admitted']), 2)}\")\n",
        "  print(f\"Average total number of undergrads: {round(np.mean(df_i['Undergraduate_Total']), 2)}\")\n",
        "  print(f\"Average 75th percentile marker for SAT I Math: {round(np.mean(df_i['SAT I Math - 75th Percentile']), 2)}\")\n",
        "  print(f\"Average percent of in-state students: {round(100*np.mean(df_i['In-state - Percent']), 2)}\")\n",
        "  print()"
      ],
      "execution_count": null,
      "outputs": [
        {
          "output_type": "stream",
          "name": "stdout",
          "text": [
            "Cluster 1 stats:\n",
            "Percentage of all data: 28.05%\n",
            "Average percent of applicants admitted: 69.42\n",
            "Average total number of undergrads: 3024.26\n",
            "Average 75th percentile marker for SAT I Math: 591.71\n",
            "Average percent of in-state students: 84.61\n",
            "\n",
            "Cluster 2 stats:\n",
            "Percentage of all data: 46.07%\n",
            "Average percent of applicants admitted: 68.14\n",
            "Average total number of undergrads: 3602.86\n",
            "Average 75th percentile marker for SAT I Math: 604.8\n",
            "Average percent of in-state students: 90.3\n",
            "\n",
            "Cluster 3 stats:\n",
            "Percentage of all data: 6.27%\n",
            "Average percent of applicants admitted: 58.54\n",
            "Average total number of undergrads: 23400.57\n",
            "Average 75th percentile marker for SAT I Math: 676.32\n",
            "Average percent of in-state students: 75.05\n",
            "\n",
            "Cluster 4 stats:\n",
            "Percentage of all data: 19.61%\n",
            "Average percent of applicants admitted: 61.25\n",
            "Average total number of undergrads: 2105.45\n",
            "Average 75th percentile marker for SAT I Math: 642.2\n",
            "Average percent of in-state students: 40.81\n",
            "\n"
          ]
        }
      ]
    },
    {
      "cell_type": "markdown",
      "metadata": {
        "id": "nw25uxOn5OgB"
      },
      "source": [
        "## Question 3 *(6 points)*\n",
        "\n",
        "**3.1) What number of clusters did you choose, and what was your evaluation process for choosing that value?**\n",
        "*I used the elbow method to plot the distortion for different numbers of clusters. There was a slight bend in the graph (\"elbow\") at k=4, so this is the value I chose.*\n",
        "\n",
        "\n",
        "**3.2) Do the sets of features you chose manually align with the principal components** and/**or clusters you discovered?**\n",
        "*The manual selections did not overlap very much with the principal components. The only features that appeared both in the manual selections and in one of the top 3 features contributing to a component were Undergraduate_Total and Percent of Applicants Admitted, which is related to size and selectivity. It seems like the number of undergrads is a big separating factor between clusters, as indicated by the cluster statistics; math SAT scores are as well.*\n",
        "\n",
        "\n",
        "**3.3) What additional features, not present in this data, would be useful to group together similar universities using unsupervised learning?**\n",
        "*The employment outcomes of graduates would be a useful feature; this could be how many graduates find a job in their chosen field within a year of graduation, and/or the average starting salary of graduates' first post-graduation job. Percent of students living on-campus vs. commuting would also help speak to the campus culture.*\n",
        "\n"
      ]
    }
  ]
}