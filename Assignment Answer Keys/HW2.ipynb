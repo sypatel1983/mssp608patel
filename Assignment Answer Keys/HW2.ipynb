{
  "nbformat": 4,
  "nbformat_minor": 0,
  "metadata": {
    "colab": {
      "provenance": [],
      "collapsed_sections": [
        "QzFBHtFHRBkH",
        "1-M5G2ryQRSe",
        "30c3YHQ0dD9a",
        "4_hMRgpe2NNr",
        "RVPEIM8dK6mr",
        "rtiBgO2ZLD8D",
        "B2ZEWAqydB47",
        "tCmxGceSnYMO",
        "lsRln8NQplY1",
        "lXZZNThFzcfo",
        "KM9mGXArVYdo",
        "PF1GaWw7NWAC",
        "Grps4s9aTxKH",
        "yOOkWEaIdEWu",
        "K-nzeiXvm05T",
        "_2upx-ygRKE-"
      ]
    },
    "kernelspec": {
      "name": "python3",
      "display_name": "Python 3"
    }
  },
  "cells": [
    {
      "cell_type": "markdown",
      "metadata": {
        "id": "QzFBHtFHRBkH"
      },
      "source": [
        "# Download the Data \n",
        "Keep this if you are working in Google Colab. Delete this if you are working on your own computer and have the data downloaded already. "
      ]
    },
    {
      "cell_type": "code",
      "metadata": {
        "id": "gD8xgRYrRAV3",
        "colab": {
          "base_uri": "https://localhost:8080/"
        },
        "outputId": "d3e10a84-f814-4b10-c67d-7f217415db8f"
      },
      "source": [
        "!wget --no-check-certificate 'https://docs.google.com/uc?export=download&id=0B5qTk6DHjanhOV9LRE5DY3l1T2pGemVBNTVQVzVsMlFCcHF3' -O lendingclub.csv"
      ],
      "execution_count": null,
      "outputs": [
        {
          "output_type": "stream",
          "name": "stdout",
          "text": [
            "--2021-11-01 22:07:12--  https://docs.google.com/uc?export=download&id=0B5qTk6DHjanhOV9LRE5DY3l1T2pGemVBNTVQVzVsMlFCcHF3\n",
            "Resolving docs.google.com (docs.google.com)... 173.194.202.102, 173.194.202.101, 173.194.202.113, ...\n",
            "Connecting to docs.google.com (docs.google.com)|173.194.202.102|:443... connected.\n",
            "HTTP request sent, awaiting response... 302 Moved Temporarily\n",
            "Location: https://doc-10-5c-docs.googleusercontent.com/docs/securesc/ha0ro937gcuc7l7deffksulhg5h7mbp1/bcakutoaslao37td806thc2u5dp649th/1635804375000/09819396713149841370/*/0B5qTk6DHjanhOV9LRE5DY3l1T2pGemVBNTVQVzVsMlFCcHF3?e=download [following]\n",
            "Warning: wildcards not supported in HTTP.\n",
            "--2021-11-01 22:07:12--  https://doc-10-5c-docs.googleusercontent.com/docs/securesc/ha0ro937gcuc7l7deffksulhg5h7mbp1/bcakutoaslao37td806thc2u5dp649th/1635804375000/09819396713149841370/*/0B5qTk6DHjanhOV9LRE5DY3l1T2pGemVBNTVQVzVsMlFCcHF3?e=download\n",
            "Resolving doc-10-5c-docs.googleusercontent.com (doc-10-5c-docs.googleusercontent.com)... 74.125.142.132, 2607:f8b0:400e:c08::84\n",
            "Connecting to doc-10-5c-docs.googleusercontent.com (doc-10-5c-docs.googleusercontent.com)|74.125.142.132|:443... connected.\n",
            "HTTP request sent, awaiting response... 200 OK\n",
            "Length: 6325329 (6.0M) [text/csv]\n",
            "Saving to: ‘lendingclub.csv’\n",
            "\n",
            "lendingclub.csv     100%[===================>]   6.03M  --.-KB/s    in 0.06s   \n",
            "\n",
            "2021-11-01 22:07:12 (107 MB/s) - ‘lendingclub.csv’ saved [6325329/6325329]\n",
            "\n"
          ]
        }
      ]
    },
    {
      "cell_type": "markdown",
      "metadata": {
        "id": "1-M5G2ryQRSe"
      },
      "source": [
        "# Homework 2 \n",
        "For last assignment, you trained a machine learning classifier to predict borrower success rates on LendingClub.com, using a set of features that were already present in the dataset. This week you will spend time optimizing that model.\n",
        "\n",
        "Feel free to reuse code from your first homework submission; this does not need to be done from scratch.\n",
        "\n",
        "# Question 1\n",
        "\n",
        "Choose **TWO** of the following three options:\n",
        "\n",
        "   - Option 1: The `state` column is currently broken into 51 distinct values. Create a new feature, `region`, that groups similar states together.\n",
        "   - Option 2: The `emp_length` column is currently a nominal value. Create a new feature, `emp_length_numeric`, that treats the variable as a numeric value instead.\n",
        "   - Option 3: The `title` column is a free-form string and is currently hard or impossible to use as a feature. Define one or more features that capture information about the type of loan being applied for, based on the contents of the title.\n",
        "\n",
        "For the options you have chosen, compare how switching to your new feature in a decision tree model improves or worsens performance compared to using the original representation. Report your quantitative results along with an explanation of your new feature's possible values."
      ]
    },
    {
      "cell_type": "markdown",
      "metadata": {
        "id": "30c3YHQ0dD9a"
      },
      "source": [
        "##**Pre-processing: Train and fit reference model**"
      ]
    },
    {
      "cell_type": "code",
      "metadata": {
        "id": "qm1p7kIF8aKv"
      },
      "source": [
        "import pandas as pd\n",
        "import numpy as np\n",
        "from sklearn.tree import DecisionTreeClassifier\n",
        "from sklearn.model_selection import train_test_split\n",
        "from sklearn import tree\n",
        "import matplotlib.pyplot as plt\n",
        "from sklearn.metrics import confusion_matrix, ConfusionMatrixDisplay\n",
        "\n",
        "df = pd.read_csv(\"lendingclub.csv\")"
      ],
      "execution_count": null,
      "outputs": []
    },
    {
      "cell_type": "code",
      "metadata": {
        "id": "f1Qw_uXfdPd1"
      },
      "source": [
        "#Define the data to be used\n",
        "X = df.loc[:, [\"amount\", \"fico\", \"dti\"]]\n",
        "y = df.policy_code\n",
        "\n",
        "#Split the data into testing and training groups, with 30% designated as test data\n",
        "X_train, X_test, y_train, y_test = train_test_split(\n",
        "    X, y, test_size=0.3, random_state=1, stratify=y)\n",
        "\n",
        "clf = DecisionTreeClassifier(max_depth=10)\n",
        "clf = clf.fit(X_train,y_train)"
      ],
      "execution_count": null,
      "outputs": []
    },
    {
      "cell_type": "code",
      "metadata": {
        "colab": {
          "base_uri": "https://localhost:8080/"
        },
        "id": "YBKRr9CEduqW",
        "outputId": "b0b0d412-b79c-422e-bccf-c84ec32f5018"
      },
      "source": [
        "#Establish baseline metrics\n",
        "\n",
        "predictions = clf.predict(X_test)\n",
        "cm = confusion_matrix(y_test, predictions)\n",
        "\n",
        "tp = cm[1, 1]\n",
        "tn = cm[0, 0]\n",
        "fn = cm[1, 0]\n",
        "fp = cm[0, 1]\n",
        "\n",
        "accuracy = round((tp+tn)/(tp+fp+tn+fn), ndigits=2)\n",
        "precision = round(tp/(tp+fp), ndigits=2)\n",
        "recall = round(tp/(tp+fn), ndigits=2)\n",
        "specificity = round(tn/(tn+fp), ndigits=2)\n",
        "\n",
        "f1score = round(2 * (precision * recall) / (precision + recall), ndigits=2)\n",
        "\n",
        "print(f\"The accuracy of the reference model is {accuracy}.\")\n",
        "print(f\"The precision of the reference model is {precision}.\")\n",
        "print(f\"The recall of the reference model is {recall}.\")\n",
        "print(f\"The specificity of the reference model is {specificity}.\")\n",
        "print(f\"The F1 score of the reference model is {f1score}.\")"
      ],
      "execution_count": null,
      "outputs": [
        {
          "output_type": "stream",
          "name": "stdout",
          "text": [
            "The accuracy of the reference model is 0.91.\n",
            "The precision of the reference model is 0.6.\n",
            "The recall of the reference model is 0.62.\n",
            "The specificity of the reference model is 0.95.\n",
            "The F1 score of the reference model is 0.61.\n"
          ]
        }
      ]
    },
    {
      "cell_type": "markdown",
      "metadata": {
        "id": "4_hMRgpe2NNr"
      },
      "source": [
        "##**Option One**\n"
      ]
    },
    {
      "cell_type": "code",
      "metadata": {
        "colab": {
          "base_uri": "https://localhost:8080/"
        },
        "id": "xMHUqvdG-MbH",
        "outputId": "74b73e0f-90d6-4b9e-eda5-37e62f2efe68"
      },
      "source": [
        "#Get a list of the unique values in the state column\n",
        "df.state.unique()"
      ],
      "execution_count": null,
      "outputs": [
        {
          "output_type": "execute_result",
          "data": {
            "text/plain": [
              "array(['GA', 'CA', 'FL', 'NJ', 'PA', 'MN', 'KS', 'LA', 'OR', 'MD', 'AR',\n",
              "       'AZ', 'CO', 'MT', 'MA', 'NY', 'IL', 'TX', 'WA', 'KY', 'OH', 'WI',\n",
              "       'NC', 'CT', 'MI', 'SC', 'VA', 'WV', 'RI', 'AL', 'NV', 'MO', 'OK',\n",
              "       'UT', 'AK', 'HI', 'VT', 'NH', 'NM', 'SD', 'DE', 'DC', 'WY', 'MS',\n",
              "       'ID', 'TN', 'IN', 'ME', 'IA', 'NE', 'ND'], dtype=object)"
            ]
          },
          "metadata": {},
          "execution_count": 16
        }
      ]
    },
    {
      "cell_type": "code",
      "metadata": {
        "id": "Yf0T9qhLK-Du"
      },
      "source": [
        "#Define regions and divvy unique state values into them\n",
        "#Note: I'm using the USDA definitions https://www.ars.usda.gov/people-locations/find-a-location/\n",
        "\n",
        "midwest = ['MN', 'WI', 'MI', 'IA', 'MO', 'IL', 'IN', 'OH', 'KY']\n",
        "northeast = ['NJ', 'PA', 'MD', 'ME', 'DE', 'DC', 'VT', 'MA', 'NY', 'CT', 'VA', 'WV', 'RI', 'NH', ]\n",
        "pacific_west = ['WA','OR', 'ID', 'CA', 'NV', 'UT', 'AZ', 'AK', 'HI']\n",
        "plains = ['MT', 'ND', 'SD', 'WY', 'NE', 'CO', 'KS', 'NM', 'TX', 'OK']\n",
        "southeast = ['GA', 'FL', 'LA', 'AR','NC', 'SC', 'AL', 'MS','TN']"
      ],
      "execution_count": null,
      "outputs": []
    },
    {
      "cell_type": "code",
      "metadata": {
        "colab": {
          "base_uri": "https://localhost:8080/"
        },
        "id": "VGiMab1RCFlm",
        "outputId": "08576d1c-8f4c-4ae1-db6b-46dd23142d1c"
      },
      "source": [
        "df.columns"
      ],
      "execution_count": null,
      "outputs": [
        {
          "output_type": "execute_result",
          "data": {
            "text/plain": [
              "Index(['amount', 'date', 'title', 'fico', 'dti', 'zip', 'state', 'emp_length',\n",
              "       'policy_code', 'year', 'outcome'],\n",
              "      dtype='object')"
            ]
          },
          "metadata": {},
          "execution_count": 18
        }
      ]
    },
    {
      "cell_type": "code",
      "metadata": {
        "id": "XITxxwGLAAWr"
      },
      "source": [
        "#assign each row a region based on its \"state\" value and add to a new column, \"region\"\n",
        "\n",
        "region = []\n",
        "\n",
        "for i in np.arange(len(df.state)):\n",
        "  if df.iloc[i, 6] in midwest:\n",
        "    region.append(\"midwest\")\n",
        "  elif df.iloc[i, 6] in northeast:\n",
        "    region.append(\"northeast\")\n",
        "  elif df.iloc[i, 6] in pacific_west:\n",
        "    region.append(\"pacific_west\") \n",
        "  elif df.iloc[i, 6] in plains:\n",
        "    region.append(\"plains\")\n",
        "  elif df.iloc[i, 6] in southeast:\n",
        "    region.append(\"southeast\")\n",
        "  else:\n",
        "    print(\"Something went wrong!\")\n",
        "\n",
        "df[\"region\"] = region"
      ],
      "execution_count": null,
      "outputs": []
    },
    {
      "cell_type": "code",
      "metadata": {
        "colab": {
          "base_uri": "https://localhost:8080/",
          "height": 205
        },
        "id": "sWMw0g5iCdko",
        "outputId": "4614b59b-e5a7-41e6-e137-7a104aa568eb"
      },
      "source": [
        "#Split nominal value of region into binary dummy variables\n",
        "#https://towardsdatascience.com/categorical-encoding-using-label-encoding-and-one-hot-encoder-911ef77fb5bd\n",
        "\n",
        "# create a dataframe with just the regions\n",
        "region_options = df.region.unique()\n",
        "regions_df = pd.DataFrame(region_options, columns=['region'])\n",
        "# generate binary values using get_dummies\n",
        "dum_df = pd.get_dummies(regions_df, columns=[\"region\"], prefix=[\"Region_is\"] )\n",
        "# merge to create a dataframe with regions and corresponding dummy variable values\n",
        "regions_df = regions_df.join(dum_df)\n",
        "regions_df.head()"
      ],
      "execution_count": null,
      "outputs": [
        {
          "output_type": "execute_result",
          "data": {
            "text/html": [
              "<div>\n",
              "<style scoped>\n",
              "    .dataframe tbody tr th:only-of-type {\n",
              "        vertical-align: middle;\n",
              "    }\n",
              "\n",
              "    .dataframe tbody tr th {\n",
              "        vertical-align: top;\n",
              "    }\n",
              "\n",
              "    .dataframe thead th {\n",
              "        text-align: right;\n",
              "    }\n",
              "</style>\n",
              "<table border=\"1\" class=\"dataframe\">\n",
              "  <thead>\n",
              "    <tr style=\"text-align: right;\">\n",
              "      <th></th>\n",
              "      <th>region</th>\n",
              "      <th>Region_is_midwest</th>\n",
              "      <th>Region_is_northeast</th>\n",
              "      <th>Region_is_pacific_west</th>\n",
              "      <th>Region_is_plains</th>\n",
              "      <th>Region_is_southeast</th>\n",
              "    </tr>\n",
              "  </thead>\n",
              "  <tbody>\n",
              "    <tr>\n",
              "      <th>0</th>\n",
              "      <td>southeast</td>\n",
              "      <td>0</td>\n",
              "      <td>0</td>\n",
              "      <td>0</td>\n",
              "      <td>0</td>\n",
              "      <td>1</td>\n",
              "    </tr>\n",
              "    <tr>\n",
              "      <th>1</th>\n",
              "      <td>pacific_west</td>\n",
              "      <td>0</td>\n",
              "      <td>0</td>\n",
              "      <td>1</td>\n",
              "      <td>0</td>\n",
              "      <td>0</td>\n",
              "    </tr>\n",
              "    <tr>\n",
              "      <th>2</th>\n",
              "      <td>northeast</td>\n",
              "      <td>0</td>\n",
              "      <td>1</td>\n",
              "      <td>0</td>\n",
              "      <td>0</td>\n",
              "      <td>0</td>\n",
              "    </tr>\n",
              "    <tr>\n",
              "      <th>3</th>\n",
              "      <td>midwest</td>\n",
              "      <td>1</td>\n",
              "      <td>0</td>\n",
              "      <td>0</td>\n",
              "      <td>0</td>\n",
              "      <td>0</td>\n",
              "    </tr>\n",
              "    <tr>\n",
              "      <th>4</th>\n",
              "      <td>plains</td>\n",
              "      <td>0</td>\n",
              "      <td>0</td>\n",
              "      <td>0</td>\n",
              "      <td>1</td>\n",
              "      <td>0</td>\n",
              "    </tr>\n",
              "  </tbody>\n",
              "</table>\n",
              "</div>"
            ],
            "text/plain": [
              "         region  Region_is_midwest  ...  Region_is_plains  Region_is_southeast\n",
              "0     southeast                  0  ...                 0                    1\n",
              "1  pacific_west                  0  ...                 0                    0\n",
              "2     northeast                  0  ...                 0                    0\n",
              "3       midwest                  1  ...                 0                    0\n",
              "4        plains                  0  ...                 1                    0\n",
              "\n",
              "[5 rows x 6 columns]"
            ]
          },
          "metadata": {},
          "execution_count": 20
        }
      ]
    },
    {
      "cell_type": "code",
      "metadata": {
        "id": "N6NpS5m8FKCN"
      },
      "source": [
        "#add dummy variables to main dataframe\n",
        "df = df.merge(regions_df)"
      ],
      "execution_count": null,
      "outputs": []
    },
    {
      "cell_type": "code",
      "metadata": {
        "colab": {
          "base_uri": "https://localhost:8080/",
          "height": 256
        },
        "id": "TB7-r2tOGDGi",
        "outputId": "8eb999f6-160e-40a8-9dfd-931c781a26be"
      },
      "source": [
        "#Confirm dummy variable values were assigned correctly\n",
        "df.groupby(\"region\").mean()"
      ],
      "execution_count": null,
      "outputs": [
        {
          "output_type": "execute_result",
          "data": {
            "text/html": [
              "<div>\n",
              "<style scoped>\n",
              "    .dataframe tbody tr th:only-of-type {\n",
              "        vertical-align: middle;\n",
              "    }\n",
              "\n",
              "    .dataframe tbody tr th {\n",
              "        vertical-align: top;\n",
              "    }\n",
              "\n",
              "    .dataframe thead th {\n",
              "        text-align: right;\n",
              "    }\n",
              "</style>\n",
              "<table border=\"1\" class=\"dataframe\">\n",
              "  <thead>\n",
              "    <tr style=\"text-align: right;\">\n",
              "      <th></th>\n",
              "      <th>amount</th>\n",
              "      <th>fico</th>\n",
              "      <th>dti</th>\n",
              "      <th>policy_code</th>\n",
              "      <th>year</th>\n",
              "      <th>Region_is_midwest</th>\n",
              "      <th>Region_is_northeast</th>\n",
              "      <th>Region_is_pacific_west</th>\n",
              "      <th>Region_is_plains</th>\n",
              "      <th>Region_is_southeast</th>\n",
              "    </tr>\n",
              "    <tr>\n",
              "      <th>region</th>\n",
              "      <th></th>\n",
              "      <th></th>\n",
              "      <th></th>\n",
              "      <th></th>\n",
              "      <th></th>\n",
              "      <th></th>\n",
              "      <th></th>\n",
              "      <th></th>\n",
              "      <th></th>\n",
              "      <th></th>\n",
              "    </tr>\n",
              "  </thead>\n",
              "  <tbody>\n",
              "    <tr>\n",
              "      <th>midwest</th>\n",
              "      <td>12679.292032</td>\n",
              "      <td>603.278687</td>\n",
              "      <td>398.984974</td>\n",
              "      <td>0.095133</td>\n",
              "      <td>2011.047861</td>\n",
              "      <td>1</td>\n",
              "      <td>0</td>\n",
              "      <td>0</td>\n",
              "      <td>0</td>\n",
              "      <td>0</td>\n",
              "    </tr>\n",
              "    <tr>\n",
              "      <th>northeast</th>\n",
              "      <td>12975.469979</td>\n",
              "      <td>606.376482</td>\n",
              "      <td>608.102721</td>\n",
              "      <td>0.120368</td>\n",
              "      <td>2011.083228</td>\n",
              "      <td>0</td>\n",
              "      <td>1</td>\n",
              "      <td>0</td>\n",
              "      <td>0</td>\n",
              "      <td>0</td>\n",
              "    </tr>\n",
              "    <tr>\n",
              "      <th>pacific_west</th>\n",
              "      <td>13426.288003</td>\n",
              "      <td>612.787803</td>\n",
              "      <td>540.885404</td>\n",
              "      <td>0.138623</td>\n",
              "      <td>2011.112020</td>\n",
              "      <td>0</td>\n",
              "      <td>0</td>\n",
              "      <td>1</td>\n",
              "      <td>0</td>\n",
              "      <td>0</td>\n",
              "    </tr>\n",
              "    <tr>\n",
              "      <th>plains</th>\n",
              "      <td>13347.944703</td>\n",
              "      <td>609.272503</td>\n",
              "      <td>227.025780</td>\n",
              "      <td>0.109836</td>\n",
              "      <td>2011.117329</td>\n",
              "      <td>0</td>\n",
              "      <td>0</td>\n",
              "      <td>0</td>\n",
              "      <td>1</td>\n",
              "      <td>0</td>\n",
              "    </tr>\n",
              "    <tr>\n",
              "      <th>southeast</th>\n",
              "      <td>12424.504545</td>\n",
              "      <td>583.737455</td>\n",
              "      <td>633.440088</td>\n",
              "      <td>0.097152</td>\n",
              "      <td>2011.128000</td>\n",
              "      <td>0</td>\n",
              "      <td>0</td>\n",
              "      <td>0</td>\n",
              "      <td>0</td>\n",
              "      <td>1</td>\n",
              "    </tr>\n",
              "  </tbody>\n",
              "</table>\n",
              "</div>"
            ],
            "text/plain": [
              "                    amount        fico  ...  Region_is_plains  Region_is_southeast\n",
              "region                                  ...                                       \n",
              "midwest       12679.292032  603.278687  ...                 0                    0\n",
              "northeast     12975.469979  606.376482  ...                 0                    0\n",
              "pacific_west  13426.288003  612.787803  ...                 0                    0\n",
              "plains        13347.944703  609.272503  ...                 1                    0\n",
              "southeast     12424.504545  583.737455  ...                 0                    1\n",
              "\n",
              "[5 rows x 10 columns]"
            ]
          },
          "metadata": {},
          "execution_count": 22
        }
      ]
    },
    {
      "cell_type": "code",
      "metadata": {
        "colab": {
          "base_uri": "https://localhost:8080/"
        },
        "id": "lHf8N9MIezwL",
        "outputId": "e0b285c3-ee64-46d6-9ff6-141659e59fea"
      },
      "source": [
        "#Get the names of the region columns to add some to the data to be used\n",
        "\n",
        "df.columns"
      ],
      "execution_count": null,
      "outputs": [
        {
          "output_type": "execute_result",
          "data": {
            "text/plain": [
              "Index(['amount', 'date', 'title', 'fico', 'dti', 'zip', 'state', 'emp_length',\n",
              "       'policy_code', 'year', 'outcome', 'region', 'Region_is_midwest',\n",
              "       'Region_is_northeast', 'Region_is_pacific_west', 'Region_is_plains',\n",
              "       'Region_is_southeast'],\n",
              "      dtype='object')"
            ]
          },
          "metadata": {},
          "execution_count": 23
        }
      ]
    },
    {
      "cell_type": "code",
      "metadata": {
        "id": "iLlF-XP6er_C"
      },
      "source": [
        "#Add the region columns to the data to be used\n",
        "X2 = df.loc[:, [\"amount\", \"fico\", \"dti\", 'Region_is_midwest',\n",
        "       'Region_is_northeast', 'Region_is_pacific_west', 'Region_is_plains',\n",
        "       'Region_is_southeast']]\n",
        "y2 = df.policy_code\n",
        "\n",
        "#Split the data into testing and training groups, with 30% designated as test data\n",
        "X2_train, X2_test, y2_train, y2_test = train_test_split(\n",
        "    X2, y2, test_size=0.3, random_state=1, stratify=y2)\n",
        "\n",
        "clf2 = DecisionTreeClassifier(max_depth=10)\n",
        "clf2 = clf2.fit(X2_train,y2_train)"
      ],
      "execution_count": null,
      "outputs": []
    },
    {
      "cell_type": "code",
      "metadata": {
        "colab": {
          "base_uri": "https://localhost:8080/"
        },
        "id": "cIrbsLMYfFbC",
        "outputId": "cf5e1b60-1853-4dbe-fb63-0f2449cefef9"
      },
      "source": [
        "#Generate metrics\n",
        "\n",
        "predictions2 = clf2.predict(X2_test)\n",
        "cm2 = confusion_matrix(y2_test, predictions2)\n",
        "\n",
        "tp = cm2[1, 1]\n",
        "tn = cm2[0, 0]\n",
        "fn = cm2[1, 0]\n",
        "fp = cm2[0, 1]\n",
        "\n",
        "accuracy = round((tp+tn)/(tp+fp+tn+fn), ndigits=2)\n",
        "precision = round(tp/(tp+fp), ndigits=2)\n",
        "recall = round(tp/(tp+fn), ndigits=2)\n",
        "specificity = round(tn/(tn+fp), ndigits=2)\n",
        "\n",
        "f1score = round(2 * (precision * recall) / (precision + recall), ndigits=2)\n",
        "\n",
        "print(f\"The accuracy of the model after adding regions is {accuracy}.\")\n",
        "print(f\"The precision of the model after adding regions is {precision}.\")\n",
        "print(f\"The recall of the model after adding regions is {recall}.\")\n",
        "print(f\"The specificity of the model after adding regions is {specificity}.\")\n",
        "print(f\"The F1 score of the model after adding regions is {f1score}.\")"
      ],
      "execution_count": null,
      "outputs": [
        {
          "output_type": "stream",
          "name": "stdout",
          "text": [
            "The accuracy of the model after adding regions is 0.91.\n",
            "The precision of the model after adding regions is 0.61.\n",
            "The recall of the model after adding regions is 0.62.\n",
            "The specificity of the model after adding regions is 0.95.\n",
            "The F1 score of the model after adding regions is 0.61.\n"
          ]
        }
      ]
    },
    {
      "cell_type": "markdown",
      "metadata": {
        "id": "HLvT9zxEc8pe"
      },
      "source": [
        "**Analysis**"
      ]
    },
    {
      "cell_type": "markdown",
      "metadata": {
        "id": "NUq56bjVc8ab"
      },
      "source": [
        "The new feature added, region, was encoded as six boolean variables: 'Region_is_midwest', 'Region_is_northeast', 'Region_is_pacific_west', 'Region_is_plains', and 'Region_is_southeast'. Exactly one of these was true for each loan request (row), so each took value 1 for the variable that matched its true region and 0 for the rest.\n",
        "\n",
        "Adding the region did not meaningfully change any of the performance metrics with the max depth at 10. This implies that the other features yield a higher information gain, and region is not very important relative to other inputs."
      ]
    },
    {
      "cell_type": "markdown",
      "metadata": {
        "id": "RVPEIM8dK6mr"
      },
      "source": [
        "##**Option Two**"
      ]
    },
    {
      "cell_type": "code",
      "metadata": {
        "id": "YcKQT2W6K_ZX"
      },
      "source": [
        "#Transform the employment length into a float variable\n",
        "\n",
        "#Replace greater than/less than formatted values with numbers\n",
        "df[\"emp_length\"].replace(\"< 1 year\", 0, inplace=True)\n",
        "df[\"emp_length\"].replace(\"10+ years\", 11, inplace=True)\n",
        "\n",
        "#Create and add new column by pulling out just the number at the beginning of each value\n",
        "emp_length_numeric = []\n",
        "\n",
        "for i in np.arange(len(df.emp_length)):\n",
        "  years_string = str(df.iloc[i, 7]).split()\n",
        "  years_float = float(years_string[0])\n",
        "  emp_length_numeric.append(years_float)\n",
        "\n",
        "df[\"emp_length_numeric\"] = emp_length_numeric"
      ],
      "execution_count": null,
      "outputs": []
    },
    {
      "cell_type": "code",
      "metadata": {
        "id": "gdML7AZkgYJc"
      },
      "source": [
        "#Add the emp_length_numeric columns to the data to be used\n",
        "X3 = df.loc[:, [\"amount\", \"fico\", \"dti\", \"emp_length_numeric\"]]\n",
        "y3 = df.policy_code\n",
        "\n",
        "#Split the data into testing and training groups, with 30% designated as test data\n",
        "X3_train, X3_test, y3_train, y3_test = train_test_split(\n",
        "    X3, y3, test_size=0.3, random_state=1, stratify=y3)\n",
        "\n",
        "clf3 = DecisionTreeClassifier(max_depth=10)\n",
        "clf3 = clf3.fit(X3_train,y3_train)"
      ],
      "execution_count": null,
      "outputs": []
    },
    {
      "cell_type": "code",
      "metadata": {
        "colab": {
          "base_uri": "https://localhost:8080/"
        },
        "id": "EWIndfyTgxM_",
        "outputId": "d66cbd64-c5ab-429e-fe56-86de4195dab7"
      },
      "source": [
        "#Generate new metrics\n",
        "\n",
        "predictions3 = clf3.predict(X3_test)\n",
        "cm3 = confusion_matrix(y3_test, predictions3)\n",
        "\n",
        "tp = cm3[1, 1]\n",
        "tn = cm3[0, 0]\n",
        "fn = cm3[1, 0]\n",
        "fp = cm3[0, 1]\n",
        "\n",
        "accuracy = round((tp+tn)/(tp+fp+tn+fn), ndigits=2)\n",
        "precision = round(tp/(tp+fp), ndigits=2)\n",
        "recall = round(tp/(tp+fn), ndigits=2)\n",
        "specificity = round(tn/(tn+fp), ndigits=2)\n",
        "\n",
        "f1score = round(2 * (precision * recall) / (precision + recall), ndigits=2)\n",
        "\n",
        "print(f\"The accuracy of the model after adding employment length is {accuracy}.\")\n",
        "print(f\"The precision of the model after adding employment length is {precision}.\")\n",
        "print(f\"The recall of the model after adding employment length is {recall}.\")\n",
        "print(f\"The specificity of the model after adding employment length is {specificity}.\")\n",
        "print(f\"The F1 score of the model after adding employment length is {f1score}.\")"
      ],
      "execution_count": null,
      "outputs": [
        {
          "output_type": "stream",
          "name": "stdout",
          "text": [
            "The accuracy of the model after adding employment length is 0.93.\n",
            "The precision of the model after adding employment length is 0.67.\n",
            "The recall of the model after adding employment length is 0.76.\n",
            "The specificity of the model after adding employment length is 0.95.\n",
            "The F1 score of the model after adding employment length is 0.71.\n"
          ]
        }
      ]
    },
    {
      "cell_type": "markdown",
      "metadata": {
        "id": "3PppDBWhgXMd"
      },
      "source": [
        "**Analysis**"
      ]
    },
    {
      "cell_type": "markdown",
      "metadata": {
        "id": "pD6jNaZ9hCRe"
      },
      "source": [
        "The new feature, employment length, could take any integer value between 0 and 11 (inclusive). 0 corresponded to \"< 1 year\" in the original dataset encoding, while 11 corresponded to \"10+ years\".\n",
        "\n",
        "Compare the metrics after adding employment length to the reference model metrics:\n",
        "\n",
        "* The accuracy of the reference model is 0.91; improvement of .02\n",
        "* The precision of the reference model is 0.6; improvement of .07\n",
        "* The recall of the reference model is 0.62; improvement of .14\n",
        "* The specificity of the reference model is 0.95; no change\n",
        "* The F1 score of the reference model is 0.61; improvement of .10\n",
        "\n",
        "Adding the employment length improved 4 out of the 5 metrics. The most improved were recall (+14%) and F1 score (+10%); the positive class performance is significantly better. The improvements to accuracy and specificity were small by comparison, which makes sense because the original dataset is highly imbalanced with only about 11% of loans being approved. This means the negative class would need a lot of points to be classified differently in order to show significant improvement."
      ]
    },
    {
      "cell_type": "markdown",
      "metadata": {
        "id": "rtiBgO2ZLD8D"
      },
      "source": [
        "##**Option Three**"
      ]
    },
    {
      "cell_type": "code",
      "metadata": {
        "id": "HYKKeFI7LAzP",
        "colab": {
          "base_uri": "https://localhost:8080/"
        },
        "outputId": "c3fbebc8-237c-4f3e-8c88-b2a5245642d4"
      },
      "source": [
        "#Inspect the title column to get a sense of what it contains\n",
        "df.title"
      ],
      "execution_count": null,
      "outputs": [
        {
          "output_type": "execute_result",
          "data": {
            "text/plain": [
              "0                      bike\n",
              "1              Debt Cleanup\n",
              "2                    payoff\n",
              "3          home improvement\n",
              "4        Debt consolidation\n",
              "                ...        \n",
              "81098    debt_consolidation\n",
              "81099      renewable_energy\n",
              "81100                   car\n",
              "81101    debt_consolidation\n",
              "81102    debt_consolidation\n",
              "Name: title, Length: 81103, dtype: object"
            ]
          },
          "metadata": {},
          "execution_count": 29
        }
      ]
    },
    {
      "cell_type": "code",
      "metadata": {
        "id": "teiBSqvhI4cK"
      },
      "source": [
        "#It appears that a lot of users are requesting loans to restructure/consolidate debt.\n",
        "#Create a binary variable to distinguish these types of loans from other types.\n",
        "\n",
        "is_debt_related = []\n",
        "\n",
        "for i in np.arange(len(df.title)):\n",
        "  if \"debt\" in df.iloc[i, 2].lower(): #Use lowercase version of title because case insensitive; \n",
        "                                      #https://thispointer.com/python-check-if-a-string-contains-a-sub-string-find-its-index-case-insensitive/\n",
        "    is_debt_related.append(1)\n",
        "  else:\n",
        "    is_debt_related.append(0)\n",
        "\n",
        "df[\"is_debt_related\"] = is_debt_related\n"
      ],
      "execution_count": null,
      "outputs": []
    },
    {
      "cell_type": "code",
      "metadata": {
        "id": "5zopPszzLLFu"
      },
      "source": [
        "#Add the is_debt_related column to the data to be used\n",
        "X4 = df.loc[:, [\"amount\", \"fico\", \"dti\", \"is_debt_related\"]]\n",
        "y4 = df.policy_code\n",
        "\n",
        "#Split the data into testing and training groups, with 30% designated as test data\n",
        "X4_train, X4_test, y4_train, y4_test = train_test_split(\n",
        "    X4, y4, test_size=0.3, random_state=1, stratify=y4)\n",
        "\n",
        "clf4 = DecisionTreeClassifier(max_depth=10)\n",
        "clf4 = clf4.fit(X4_train,y4_train)"
      ],
      "execution_count": null,
      "outputs": []
    },
    {
      "cell_type": "code",
      "metadata": {
        "colab": {
          "base_uri": "https://localhost:8080/"
        },
        "id": "9RFTmtcaii0Q",
        "outputId": "e4c44df6-431d-4d76-f6ce-bd7bb9b9c4ba"
      },
      "source": [
        "#Generate new metrics\n",
        "\n",
        "predictions4 = clf4.predict(X4_test)\n",
        "cm4 = confusion_matrix(y4_test, predictions4)\n",
        "\n",
        "tp = cm4[1, 1]\n",
        "tn = cm4[0, 0]\n",
        "fn = cm4[1, 0]\n",
        "fp = cm4[0, 1]\n",
        "\n",
        "accuracy = round((tp+tn)/(tp+fp+tn+fn), ndigits=2)\n",
        "precision = round(tp/(tp+fp), ndigits=2)\n",
        "recall = round(tp/(tp+fn), ndigits=2)\n",
        "specificity = round(tn/(tn+fp), ndigits=2)\n",
        "\n",
        "f1score = round(2 * (precision * recall) / (precision + recall), ndigits=2)\n",
        "\n",
        "print(f\"The accuracy of the model after adding a debt-related boolean is {accuracy}.\")\n",
        "print(f\"The precision of the model after adding a debt-related boolean is {precision}.\")\n",
        "print(f\"The recall of the model after adding a debt-related boolean is {recall}.\")\n",
        "print(f\"The specificity of the model after adding a debt-related boolean is {specificity}.\")\n",
        "print(f\"The F1 score of the model after adding a debt-related boolean is {f1score}.\")"
      ],
      "execution_count": null,
      "outputs": [
        {
          "output_type": "stream",
          "name": "stdout",
          "text": [
            "The accuracy of the model after adding a debt-related boolean is 0.91.\n",
            "The precision of the model after adding a debt-related boolean is 0.61.\n",
            "The recall of the model after adding a debt-related boolean is 0.62.\n",
            "The specificity of the model after adding a debt-related boolean is 0.95.\n",
            "The F1 score of the model after adding a debt-related boolean is 0.61.\n"
          ]
        }
      ]
    },
    {
      "cell_type": "markdown",
      "metadata": {
        "id": "r8MNkCneRAiW"
      },
      "source": [
        "**Analysis**\n",
        "\n"
      ]
    },
    {
      "cell_type": "markdown",
      "metadata": {
        "id": "A-K5tNLvi-l-"
      },
      "source": [
        "Adding a boolean indicating whether the title contained \"debt\" did not meaningfully improve any of the performance metrics with the max depth at 10. This implies that the other features yield a higher information gain, and whether or not the loan is about debt consolidation is not very important relative to other inputs."
      ]
    },
    {
      "cell_type": "markdown",
      "metadata": {
        "id": "B2ZEWAqydB47"
      },
      "source": [
        "# Question 2\n",
        "\n",
        "Choose **THREE** of the following five options:\n",
        "\n",
        "\n",
        "*   Part 1. Amount of data available for training.\n",
        "*   Part 2. Subset of features included in the model.\n",
        "*   Part 3. Decision tree vs. logistic regression classification.\n",
        "*   Part 4. Hyperparameter tuning for the best-performing model from option\n",
        "*   Part 5. Number of folds or stratification strategy for cross-validation.\n",
        "\n",
        "For each option you choose, write code to see how much impact that option has on model performance. For instance, you might choose to measure prediction accuracy as the amount of available data is increased from 1% of the total training set to 100%. \n",
        "\n",
        "Please ensure that you put textual analysis with each part, and at the end of the question, you conduct a comparative analysis. \n",
        "\n",
        "Note that for logistic regression classification, the default decision boundary may not produce the best model; you will likely want to check different decision boundaries if you choose options 3 and 4.\n",
        "\n",
        "Rank the three options you chose from the greatest impact on model performance to the least impact. Justify your ranking, based on specific quantitative experimental evidence."
      ]
    },
    {
      "cell_type": "markdown",
      "metadata": {
        "id": "tCmxGceSnYMO"
      },
      "source": [
        "##**Part 1: Data Availability & Usage**"
      ]
    },
    {
      "cell_type": "code",
      "metadata": {
        "colab": {
          "base_uri": "https://localhost:8080/"
        },
        "id": "mgLrxa26H0U8",
        "outputId": "cf8e5726-e188-438e-8095-6ab9547f0e51"
      },
      "source": [
        "#Define the data to be used\n",
        "X = df.loc[:, [\"amount\", \"fico\", \"dti\", \"emp_length_numeric\"]]\n",
        "y = df.policy_code\n",
        "\n",
        "#Split the data into testing and training groups, with 99% designated as test data\n",
        "#(using only 1% of data for training)\n",
        "\n",
        "X_train, X_test, y_train, y_test = train_test_split(\n",
        "    X, y, test_size=0.99, random_state=1, stratify=y)\n",
        "\n",
        "clf = DecisionTreeClassifier(max_depth=10)\n",
        "clf = clf.fit(X_train,y_train)\n",
        "\n",
        "#Generate performance metrics\n",
        "\n",
        "predictions = clf.predict(X_test)\n",
        "cm = confusion_matrix(y_test, predictions)\n",
        "\n",
        "tp = cm[1, 1]\n",
        "tn = cm[0, 0]\n",
        "fn = cm[1, 0]\n",
        "fp = cm[0, 1]\n",
        "\n",
        "accuracy = round((tp+tn)/(tp+fp+tn+fn), ndigits=2)\n",
        "precision = round(tp/(tp+fp), ndigits=2)\n",
        "recall = round(tp/(tp+fn), ndigits=2)\n",
        "specificity = round(tn/(tn+fp), ndigits=2)\n",
        "\n",
        "f1score = round(2 * (precision * recall) / (precision + recall), ndigits=2)\n",
        "\n",
        "print(f\"The accuracy of the model is {accuracy}.\")\n",
        "print(f\"The precision of the model is {precision}.\")\n",
        "print(f\"The recall of the model is {recall}.\")\n",
        "print(f\"The specificity of the model is {specificity}.\")\n",
        "print(f\"The F1 score of the model is {f1score}.\")"
      ],
      "execution_count": null,
      "outputs": [
        {
          "output_type": "stream",
          "name": "stdout",
          "text": [
            "The accuracy of the model is 0.9.\n",
            "The precision of the model is 0.57.\n",
            "The recall of the model is 0.45.\n",
            "The specificity of the model is 0.96.\n",
            "The F1 score of the model is 0.5.\n"
          ]
        }
      ]
    },
    {
      "cell_type": "code",
      "metadata": {
        "colab": {
          "base_uri": "https://localhost:8080/"
        },
        "id": "hzl4T2AUMr5a",
        "outputId": "508d882c-97a3-45b2-a896-35cbd32be07a"
      },
      "source": [
        "#Define the data to be used\n",
        "X = df.loc[:, [\"amount\", \"fico\", \"dti\", \"emp_length_numeric\"]]\n",
        "y = df.policy_code\n",
        "\n",
        "#Split the data into testing and training groups, with 70% designated as test data\n",
        "#(using 30% of data for training)\n",
        "\n",
        "X_train, X_test, y_train, y_test = train_test_split(\n",
        "    X, y, test_size=0.7, random_state=1, stratify=y)\n",
        "\n",
        "clf = DecisionTreeClassifier(max_depth=10)\n",
        "clf = clf.fit(X_train,y_train)\n",
        "\n",
        "#Generate performance metrics\n",
        "\n",
        "predictions = clf.predict(X_test)\n",
        "cm = confusion_matrix(y_test, predictions)\n",
        "\n",
        "tp = cm[1, 1]\n",
        "tn = cm[0, 0]\n",
        "fn = cm[1, 0]\n",
        "fp = cm[0, 1]\n",
        "\n",
        "accuracy = round((tp+tn)/(tp+fp+tn+fn), ndigits=2)\n",
        "precision = round(tp/(tp+fp), ndigits=2)\n",
        "recall = round(tp/(tp+fn), ndigits=2)\n",
        "specificity = round(tn/(tn+fp), ndigits=2)\n",
        "\n",
        "f1score = round(2 * (precision * recall) / (precision + recall), ndigits=2)\n",
        "\n",
        "print(f\"The accuracy of the model is {accuracy}.\")\n",
        "print(f\"The precision of the model is {precision}.\")\n",
        "print(f\"The recall of the model is {recall}.\")\n",
        "print(f\"The specificity of the model is {specificity}.\")\n",
        "print(f\"The F1 score of the model is {f1score}.\")"
      ],
      "execution_count": null,
      "outputs": [
        {
          "output_type": "stream",
          "name": "stdout",
          "text": [
            "The accuracy of the model is 0.92.\n",
            "The precision of the model is 0.65.\n",
            "The recall of the model is 0.7.\n",
            "The specificity of the model is 0.95.\n",
            "The F1 score of the model is 0.67.\n"
          ]
        }
      ]
    },
    {
      "cell_type": "code",
      "metadata": {
        "colab": {
          "base_uri": "https://localhost:8080/"
        },
        "id": "68N5DDqQcUI0",
        "outputId": "a750c8ac-6c19-482b-e859-d05cc90a3a9a"
      },
      "source": [
        "#Define the data to be used\n",
        "X = df.loc[:, [\"amount\", \"fico\", \"dti\", \"emp_length_numeric\"]]\n",
        "y = df.policy_code\n",
        "\n",
        "#Split the data into testing and training groups, with 30% designated as test data\n",
        "#(using 70% of data for training)\n",
        "\n",
        "X_train, X_test, y_train, y_test = train_test_split(\n",
        "    X, y, test_size=0.3, random_state=1, stratify=y)\n",
        "\n",
        "clf = DecisionTreeClassifier(max_depth=10)\n",
        "clf = clf.fit(X_train,y_train)\n",
        "\n",
        "#Generate performance metrics\n",
        "\n",
        "predictions = clf.predict(X_test)\n",
        "cm = confusion_matrix(y_test, predictions)\n",
        "\n",
        "tp = cm[1, 1]\n",
        "tn = cm[0, 0]\n",
        "fn = cm[1, 0]\n",
        "fp = cm[0, 1]\n",
        "\n",
        "accuracy = round((tp+tn)/(tp+fp+tn+fn), ndigits=2)\n",
        "precision = round(tp/(tp+fp), ndigits=2)\n",
        "recall = round(tp/(tp+fn), ndigits=2)\n",
        "specificity = round(tn/(tn+fp), ndigits=2)\n",
        "\n",
        "f1score = round(2 * (precision * recall) / (precision + recall), ndigits=2)\n",
        "\n",
        "print(f\"The accuracy of the model is {accuracy}.\")\n",
        "print(f\"The precision of the model is {precision}.\")\n",
        "print(f\"The recall of the model is {recall}.\")\n",
        "print(f\"The specificity of the model is {specificity}.\")\n",
        "print(f\"The F1 score of the model is {f1score}.\")"
      ],
      "execution_count": null,
      "outputs": [
        {
          "output_type": "stream",
          "name": "stdout",
          "text": [
            "The accuracy of the model is 0.93.\n",
            "The precision of the model is 0.67.\n",
            "The recall of the model is 0.76.\n",
            "The specificity of the model is 0.95.\n",
            "The F1 score of the model is 0.71.\n"
          ]
        }
      ]
    },
    {
      "cell_type": "code",
      "metadata": {
        "id": "7R6MJH3oL0mf",
        "colab": {
          "base_uri": "https://localhost:8080/"
        },
        "outputId": "6aaebb50-8e95-4b65-8959-a677dc7f7652"
      },
      "source": [
        "#Define the data to be used\n",
        "X = df.loc[:, [\"amount\", \"fico\", \"dti\", \"emp_length_numeric\"]]\n",
        "y = df.policy_code\n",
        "\n",
        "#Split the data into testing and training groups, with only 1% designated as test data\n",
        "#(using 99% of data for training)\n",
        "\n",
        "X_train, X_test, y_train, y_test = train_test_split(\n",
        "    X, y, test_size=0.01, random_state=1, stratify=y)\n",
        "\n",
        "clf = DecisionTreeClassifier(max_depth=10)\n",
        "clf = clf.fit(X_train,y_train)\n",
        "\n",
        "#Generate performance metrics\n",
        "\n",
        "predictions = clf.predict(X_test)\n",
        "cm = confusion_matrix(y_test, predictions)\n",
        "\n",
        "tp = cm[1, 1]\n",
        "tn = cm[0, 0]\n",
        "fn = cm[1, 0]\n",
        "fp = cm[0, 1]\n",
        "\n",
        "accuracy = round((tp+tn)/(tp+fp+tn+fn), ndigits=2)\n",
        "precision = round(tp/(tp+fp), ndigits=2)\n",
        "recall = round(tp/(tp+fn), ndigits=2)\n",
        "specificity = round(tn/(tn+fp), ndigits=2)\n",
        "\n",
        "f1score = round(2 * (precision * recall) / (precision + recall), ndigits=2)\n",
        "\n",
        "print(f\"The accuracy of the model is {accuracy}.\")\n",
        "print(f\"The precision of the model is {precision}.\")\n",
        "print(f\"The recall of the model is {recall}.\")\n",
        "print(f\"The specificity of the model is {specificity}.\")\n",
        "print(f\"The F1 score of the model is {f1score}.\")"
      ],
      "execution_count": null,
      "outputs": [
        {
          "output_type": "stream",
          "name": "stdout",
          "text": [
            "The accuracy of the model is 0.94.\n",
            "The precision of the model is 0.73.\n",
            "The recall of the model is 0.74.\n",
            "The specificity of the model is 0.97.\n",
            "The F1 score of the model is 0.73.\n"
          ]
        }
      ]
    },
    {
      "cell_type": "markdown",
      "metadata": {
        "id": "lY8-rfQW9UOl"
      },
      "source": [
        "###**Analysis**\n"
      ]
    },
    {
      "cell_type": "markdown",
      "metadata": {
        "id": "LxgF1wKSeUnF"
      },
      "source": [
        "![Screen Shot 2021-10-31 at 1.50.35 PM.png](data:image/png;base64,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)"
      ]
    },
    {
      "cell_type": "markdown",
      "metadata": {
        "id": "ozoDgxTnLUs8"
      },
      "source": [
        "Choosing the right split of data into training and testing sets affects model accuracy. As the chart above shows, 1% training data causes the model to significantly underperform. The positive-class metrics get much better when using 30% training data compared to 1%, with more modest improvements when moving from 30% to 70%. The difference in metrics between 70% and 99% is even more modest; accuracy and specificy go up by 1%, F1 score goes up by 2%, and precision has the biggest gain at 4%. However, recall drops by 2% and we have less information about how the model will perform on unseen data, since the test set was much smaller. Keeping the amount of training data at around 70% seems the best choice of the different amounts tested."
      ]
    },
    {
      "cell_type": "markdown",
      "metadata": {
        "id": "lsRln8NQplY1"
      },
      "source": [
        "##**Part 2: Subset of features included in the model**"
      ]
    },
    {
      "cell_type": "code",
      "metadata": {
        "colab": {
          "base_uri": "https://localhost:8080/"
        },
        "id": "g9EqFQ6y3Y98",
        "outputId": "6827a45b-09eb-4b50-8ec9-38e45ff01ddd"
      },
      "source": [
        "df.columns"
      ],
      "execution_count": null,
      "outputs": [
        {
          "output_type": "execute_result",
          "data": {
            "text/plain": [
              "Index(['amount', 'date', 'title', 'fico', 'dti', 'zip', 'state', 'emp_length',\n",
              "       'policy_code', 'year', 'outcome', 'region', 'Region_is_midwest',\n",
              "       'Region_is_northeast', 'Region_is_pacific_west', 'Region_is_plains',\n",
              "       'Region_is_southeast', 'emp_length_numeric', 'is_debt_related'],\n",
              "      dtype='object')"
            ]
          },
          "metadata": {},
          "execution_count": 37
        }
      ]
    },
    {
      "cell_type": "code",
      "metadata": {
        "id": "cSZyxBTR3Rle"
      },
      "source": [
        "#Main set of features to choose from: 'amount', 'fico', 'dti',\n",
        "       #'Region_is_midwest','Region_is_northeast', 'Region_is_pacific_west', 'Region_is_plains','Region_is_southeast', \n",
        "       #'emp_length_numeric', 'is_debt_related'\n",
        "\n",
        "#Subsets to try: 1) only regions, 2) only dti and is_debt_related, 3) only amount and emp_length_numeric, 4) all of the main features"
      ],
      "execution_count": null,
      "outputs": []
    },
    {
      "cell_type": "code",
      "metadata": {
        "colab": {
          "base_uri": "https://localhost:8080/"
        },
        "id": "2ZZRFNaoe_-v",
        "outputId": "0bc29433-0317-4f66-ce76-529c9d5ee14e"
      },
      "source": [
        "#Subset 0 (reference): Only features that seem most important based on previous analysis\n",
        "\n",
        "X = df.loc[:, [\"amount\", \"fico\", \"dti\", \"emp_length_numeric\"]]\n",
        "y = df.policy_code\n",
        "\n",
        "X_train, X_test, y_train, y_test = train_test_split(\n",
        "    X, y, test_size=0.3, random_state=1, stratify=y)\n",
        "\n",
        "clf = DecisionTreeClassifier(max_depth=10)\n",
        "clf = clf.fit(X_train,y_train)\n",
        "\n",
        "#Generate performance metrics\n",
        "\n",
        "predictions = clf.predict(X_test)\n",
        "cm = confusion_matrix(y_test, predictions)\n",
        "\n",
        "tp = cm[1, 1]\n",
        "tn = cm[0, 0]\n",
        "fn = cm[1, 0]\n",
        "fp = cm[0, 1]\n",
        "\n",
        "accuracy = round((tp+tn)/(tp+fp+tn+fn), ndigits=2)\n",
        "precision = round(tp/(tp+fp), ndigits=2)\n",
        "recall = round(tp/(tp+fn), ndigits=2)\n",
        "specificity = round(tn/(tn+fp), ndigits=2)\n",
        "\n",
        "f1score = round(2 * (precision * recall) / (precision + recall), ndigits=2)\n",
        "\n",
        "print(f\"The accuracy of the model is {accuracy}.\")\n",
        "print(f\"The precision of the model is {precision}.\")\n",
        "print(f\"The recall of the model is {recall}.\")\n",
        "print(f\"The specificity of the model is {specificity}.\")\n",
        "print(f\"The F1 score of the model is {f1score}.\")\n"
      ],
      "execution_count": null,
      "outputs": [
        {
          "output_type": "stream",
          "name": "stdout",
          "text": [
            "The accuracy of the model is 0.93.\n",
            "The precision of the model is 0.67.\n",
            "The recall of the model is 0.76.\n",
            "The specificity of the model is 0.95.\n",
            "The F1 score of the model is 0.71.\n"
          ]
        }
      ]
    },
    {
      "cell_type": "code",
      "metadata": {
        "id": "bWNb0O1ZNEeV",
        "colab": {
          "base_uri": "https://localhost:8080/"
        },
        "outputId": "f3d781d0-032c-4591-b618-d824f433395d"
      },
      "source": [
        "#Subset 1: Only region-related features\n",
        "\n",
        "X = df.loc[:, ['Region_is_midwest','Region_is_northeast', 'Region_is_pacific_west', 'Region_is_plains','Region_is_southeast']]\n",
        "y = df.policy_code\n",
        "\n",
        "X_train, X_test, y_train, y_test = train_test_split(\n",
        "    X, y, test_size=0.3, random_state=1, stratify=y)\n",
        "\n",
        "clf = DecisionTreeClassifier(max_depth=10)\n",
        "clf = clf.fit(X_train,y_train)\n",
        "\n",
        "#Generate performance metrics\n",
        "\n",
        "predictions = clf.predict(X_test)\n",
        "cm = confusion_matrix(y_test, predictions)\n",
        "\n",
        "tp = cm[1, 1]\n",
        "tn = cm[0, 0]\n",
        "fn = cm[1, 0]\n",
        "fp = cm[0, 1]\n",
        "\n",
        "accuracy = round((tp+tn)/(tp+fp+tn+fn), ndigits=2)\n",
        "precision = round(tp/(tp+fp), ndigits=2)\n",
        "recall = round(tp/(tp+fn), ndigits=2)\n",
        "specificity = round(tn/(tn+fp), ndigits=2)\n",
        "\n",
        "f1score = round(2 * (precision * recall) / (precision + recall), ndigits=2)\n",
        "\n",
        "print(f\"The accuracy of the model is {accuracy}.\")\n",
        "print(f\"The precision of the model is {precision}.\")\n",
        "print(f\"The recall of the model is {recall}.\")\n",
        "print(f\"The specificity of the model is {specificity}.\")\n",
        "print(f\"The F1 score of the model is {f1score}.\")\n"
      ],
      "execution_count": null,
      "outputs": [
        {
          "output_type": "stream",
          "name": "stdout",
          "text": [
            "The accuracy of the model is 0.89.\n",
            "The precision of the model is nan.\n",
            "The recall of the model is 0.0.\n",
            "The specificity of the model is 1.0.\n",
            "The F1 score of the model is nan.\n"
          ]
        },
        {
          "output_type": "stream",
          "name": "stderr",
          "text": [
            "/usr/local/lib/python3.7/dist-packages/ipykernel_launcher.py:23: RuntimeWarning: invalid value encountered in long_scalars\n"
          ]
        }
      ]
    },
    {
      "cell_type": "code",
      "metadata": {
        "colab": {
          "base_uri": "https://localhost:8080/"
        },
        "id": "qechKbbT4r3b",
        "outputId": "cdeb6003-2398-421d-8472-60397b4482d8"
      },
      "source": [
        "#Subset 2: Only debt-related features\n",
        "\n",
        "X = df.loc[:, ['dti', 'is_debt_related']]\n",
        "y = df.policy_code\n",
        "\n",
        "X_train, X_test, y_train, y_test = train_test_split(\n",
        "    X, y, test_size=0.3, random_state=1, stratify=y)\n",
        "\n",
        "clf = DecisionTreeClassifier(max_depth=10)\n",
        "clf = clf.fit(X_train,y_train)\n",
        "\n",
        "#Generate performance metrics\n",
        "\n",
        "predictions = clf.predict(X_test)\n",
        "cm = confusion_matrix(y_test, predictions)\n",
        "\n",
        "tp = cm[1, 1]\n",
        "tn = cm[0, 0]\n",
        "fn = cm[1, 0]\n",
        "fp = cm[0, 1]\n",
        "\n",
        "accuracy = round((tp+tn)/(tp+fp+tn+fn), ndigits=2)\n",
        "precision = round(tp/(tp+fp), ndigits=2)\n",
        "recall = round(tp/(tp+fn), ndigits=2)\n",
        "specificity = round(tn/(tn+fp), ndigits=2)\n",
        "\n",
        "f1score = round(2 * (precision * recall) / (precision + recall), ndigits=2)\n",
        "\n",
        "print(f\"The accuracy of the model is {accuracy}.\")\n",
        "print(f\"The precision of the model is {precision}.\")\n",
        "print(f\"The recall of the model is {recall}.\")\n",
        "print(f\"The specificity of the model is {specificity}.\")\n",
        "print(f\"The F1 score of the model is {f1score}.\")"
      ],
      "execution_count": null,
      "outputs": [
        {
          "output_type": "stream",
          "name": "stdout",
          "text": [
            "The accuracy of the model is 0.89.\n",
            "The precision of the model is 0.17.\n",
            "The recall of the model is 0.0.\n",
            "The specificity of the model is 1.0.\n",
            "The F1 score of the model is 0.0.\n"
          ]
        }
      ]
    },
    {
      "cell_type": "code",
      "metadata": {
        "colab": {
          "base_uri": "https://localhost:8080/"
        },
        "id": "ba1giQ525GPU",
        "outputId": "be40a66f-e734-4f6a-f2a6-406100f70baa"
      },
      "source": [
        "#Subset 3: Only amt and employment length\n",
        "\n",
        "X = df.loc[:, ['amount', 'emp_length_numeric']]\n",
        "y = df.policy_code\n",
        "\n",
        "X_train, X_test, y_train, y_test = train_test_split(\n",
        "    X, y, test_size=0.3, random_state=1, stratify=y)\n",
        "\n",
        "clf = DecisionTreeClassifier(max_depth=10)\n",
        "clf = clf.fit(X_train,y_train)\n",
        "\n",
        "#Generate performance metrics\n",
        "\n",
        "predictions = clf.predict(X_test)\n",
        "cm = confusion_matrix(y_test, predictions)\n",
        "\n",
        "tp = cm[1, 1]\n",
        "tn = cm[0, 0]\n",
        "fn = cm[1, 0]\n",
        "fp = cm[0, 1]\n",
        "\n",
        "accuracy = round((tp+tn)/(tp+fp+tn+fn), ndigits=2)\n",
        "precision = round(tp/(tp+fp), ndigits=2)\n",
        "recall = round(tp/(tp+fn), ndigits=2)\n",
        "specificity = round(tn/(tn+fp), ndigits=2)\n",
        "\n",
        "f1score = round(2 * (precision * recall) / (precision + recall), ndigits=2)\n",
        "\n",
        "print(f\"The accuracy of the model is {accuracy}.\")\n",
        "print(f\"The precision of the model is {precision}.\")\n",
        "print(f\"The recall of the model is {recall}.\")\n",
        "print(f\"The specificity of the model is {specificity}.\")\n",
        "print(f\"The F1 score of the model is {f1score}.\")"
      ],
      "execution_count": null,
      "outputs": [
        {
          "output_type": "stream",
          "name": "stdout",
          "text": [
            "The accuracy of the model is 0.9.\n",
            "The precision of the model is 0.59.\n",
            "The recall of the model is 0.38.\n",
            "The specificity of the model is 0.97.\n",
            "The F1 score of the model is 0.46.\n"
          ]
        }
      ]
    },
    {
      "cell_type": "code",
      "metadata": {
        "colab": {
          "base_uri": "https://localhost:8080/"
        },
        "id": "USuVnOHg5UkN",
        "outputId": "28addfcc-21b3-46d9-934c-0e4948c42bbe"
      },
      "source": [
        "#Subset 4: Full feature set\n",
        "\n",
        "X = df.loc[:, ['amount', 'fico', 'dti', 'Region_is_midwest','Region_is_northeast', \n",
        "'Region_is_pacific_west', 'Region_is_plains','Region_is_southeast', \n",
        "'emp_length_numeric', 'is_debt_related']]\n",
        "y = df.policy_code\n",
        "\n",
        "X_train, X_test, y_train, y_test = train_test_split(\n",
        "    X, y, test_size=0.3, random_state=1, stratify=y)\n",
        "\n",
        "clf = DecisionTreeClassifier(max_depth=10)\n",
        "clf = clf.fit(X_train,y_train)\n",
        "\n",
        "#Generate performance metrics\n",
        "\n",
        "predictions = clf.predict(X_test)\n",
        "cm = confusion_matrix(y_test, predictions)\n",
        "\n",
        "tp = cm[1, 1]\n",
        "tn = cm[0, 0]\n",
        "fn = cm[1, 0]\n",
        "fp = cm[0, 1]\n",
        "\n",
        "accuracy = round((tp+tn)/(tp+fp+tn+fn), ndigits=2)\n",
        "precision = round(tp/(tp+fp), ndigits=2)\n",
        "recall = round(tp/(tp+fn), ndigits=2)\n",
        "specificity = round(tn/(tn+fp), ndigits=2)\n",
        "\n",
        "f1score = round(2 * (precision * recall) / (precision + recall), ndigits=2)\n",
        "\n",
        "print(f\"The accuracy of the model is {accuracy}.\")\n",
        "print(f\"The precision of the model is {precision}.\")\n",
        "print(f\"The recall of the model is {recall}.\")\n",
        "print(f\"The specificity of the model is {specificity}.\")\n",
        "print(f\"The F1 score of the model is {f1score}.\")"
      ],
      "execution_count": null,
      "outputs": [
        {
          "output_type": "stream",
          "name": "stdout",
          "text": [
            "The accuracy of the model is 0.93.\n",
            "The precision of the model is 0.67.\n",
            "The recall of the model is 0.75.\n",
            "The specificity of the model is 0.95.\n",
            "The F1 score of the model is 0.71.\n"
          ]
        }
      ]
    },
    {
      "cell_type": "markdown",
      "metadata": {
        "id": "Hj50wAmlM0BY"
      },
      "source": [
        "###**Analysis**\n"
      ]
    },
    {
      "cell_type": "markdown",
      "metadata": {
        "id": "oYzVPiiRgUdo"
      },
      "source": [
        "![Screen Shot 2021-10-31 at 1.58.55 PM.png](data:image/png;base64,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)"
      ]
    },
    {
      "cell_type": "markdown",
      "metadata": {
        "id": "kkqn-Q-W4YEz"
      },
      "source": [
        "The choice of input features has a dramatic impact on the model performance.\n",
        "\n",
        "Subset 1 contained only regional variables, which ultimately did not have any training advantage. The optimal decision tree in this case was an all-negative classifier. It still gave a fairly high accuracy (89%) because the data was heavily imbalanced.\n",
        "\n",
        "Subset 2, which contained debt-to-income ratio metrics and indicated whether the title of the loan was about debt consolidation, only improved precision. The positive class was still performing poorly, with a recall and F1 score of 0.\n",
        "\n",
        "Subset 3, which trained the model on the amount requested and employment length (numeric), did better than an all-negative model, but not nearly as well as the full feature set.\n",
        "\n",
        "Subset 4, which included all features, performed almost exactly the same as the reference model. However, a number of the included features were redundant and unnecessary since they did not add to the training.\n",
        "\n",
        "Sticking with Subset 0, the original reference model with the employment length (numeric) included, remains the best choice."
      ]
    },
    {
      "cell_type": "markdown",
      "metadata": {
        "id": "lXZZNThFzcfo"
      },
      "source": [
        "##**Part 3: Decision tree versus Logistic Regression**\n"
      ]
    },
    {
      "cell_type": "code",
      "metadata": {
        "id": "RLuauQ7IM3ZI",
        "colab": {
          "base_uri": "https://localhost:8080/"
        },
        "outputId": "81165455-f2aa-4b38-f958-5691ab0bed9b"
      },
      "source": [
        "from sklearn.linear_model import LogisticRegression\n",
        "from sklearn.preprocessing import StandardScaler\n",
        "\n",
        "#Define data to use\n",
        "X = df.loc[:, [\"amount\", \"fico\", \"dti\", \"emp_length_numeric\"]]\n",
        "y = df.policy_code\n",
        "\n",
        "#Split into test and training data\n",
        "X_train, X_test, y_train, y_test = train_test_split(\n",
        "    X, y, test_size=0.3, random_state=1, stratify=y)\n",
        "\n",
        "#Scale data\n",
        "sc = StandardScaler()\n",
        "sc.fit(X_train)\n",
        "X_train_std = sc.transform(X_train)\n",
        "X_test_std = sc.transform(X_test)\n",
        "X_combined_std = np.vstack((X_train_std, X_test_std))\n",
        "y_combined = np.hstack((y_train, y_test))\n",
        "\n",
        "#Fit logistic regression model\n",
        "#NOTE: different values of C and solver were tried; these turned out to be the best\n",
        "lr = LogisticRegression(C=10, random_state=1, solver='liblinear')\n",
        "lr = lr.fit(X_train,y_train)\n",
        "\n",
        "#Generate performance metrics\n",
        "\n",
        "predictions = lr.predict(X_test)\n",
        "cm = confusion_matrix(y_test, predictions)\n",
        "\n",
        "tp = cm[1, 1]\n",
        "tn = cm[0, 0]\n",
        "fn = cm[1, 0]\n",
        "fp = cm[0, 1]\n",
        "\n",
        "accuracy = round((tp+tn)/(tp+fp+tn+fn), ndigits=2)\n",
        "precision = round(tp/(tp+fp), ndigits=2)\n",
        "recall = round(tp/(tp+fn), ndigits=2)\n",
        "specificity = round(tn/(tn+fp), ndigits=2)\n",
        "\n",
        "f1score = round(2 * (precision * recall) / (precision + recall), ndigits=2)\n",
        "\n",
        "print(f\"The accuracy of the model is {accuracy}.\")\n",
        "print(f\"The precision of the model is {precision}.\")\n",
        "print(f\"The recall of the model is {recall}.\")\n",
        "print(f\"The specificity of the model is {specificity}.\")\n",
        "print(f\"The F1 score of the model is {f1score}.\")"
      ],
      "execution_count": null,
      "outputs": [
        {
          "output_type": "stream",
          "name": "stdout",
          "text": [
            "The accuracy of the model is 0.89.\n",
            "The precision of the model is 0.51.\n",
            "The recall of the model is 0.23.\n",
            "The specificity of the model is 0.97.\n",
            "The F1 score of the model is 0.32.\n"
          ]
        }
      ]
    },
    {
      "cell_type": "markdown",
      "metadata": {
        "id": "hzHq-E8m-WBv"
      },
      "source": [
        "###**Analysis**\n"
      ]
    },
    {
      "cell_type": "markdown",
      "metadata": {
        "id": "jxLnu_dug5OF"
      },
      "source": [
        "![Screen Shot 2021-10-31 at 2.01.30 PM.png](data:image/png;base64,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)"
      ]
    },
    {
      "cell_type": "markdown",
      "metadata": {
        "id": "DHh1B3lIg9AN"
      },
      "source": [
        "The best-performing logistic regression model could not match the decision tree with max depth of 10; it significantly underperformed in the positive class metrics. The only metric it improved was specificity (by 2 percentage points). The decision tree appears to be the better classifier for this problem."
      ]
    },
    {
      "cell_type": "markdown",
      "metadata": {
        "id": "KM9mGXArVYdo"
      },
      "source": [
        "##**Part 4: Hyperparameter tuning for the best-performing model from option 3**"
      ]
    },
    {
      "cell_type": "code",
      "metadata": {
        "id": "FMobI2HeNKD5",
        "colab": {
          "base_uri": "https://localhost:8080/"
        },
        "outputId": "79827d20-b017-49d2-a261-61a8cc3a0e96"
      },
      "source": [
        "#The best model from option 3 was the decision tree using 70% training data \n",
        "#and the subset of features [\"amount\", \"fico\", \"dti\", \"emp_length_numeric\"].\n",
        "\n",
        "#Hyperparameters to tune: criterion, max_depth, min_samples_split, min_samples_leaf, max_features\n",
        "from sklearn.model_selection import GridSearchCV\n",
        "\n",
        "X = df.loc[:, [\"amount\", \"fico\", \"dti\", \"emp_length_numeric\"]]\n",
        "y = df.policy_code\n",
        "\n",
        "#Split the data into testing and training groups, with 30% designated as test data\n",
        "X_train, X_test, y_train, y_test = train_test_split(\n",
        "    X, y, test_size=0.3, random_state=1, stratify=y)\n",
        "\n",
        "\n",
        "param_grid = {\n",
        "    'criterion': ['gini', 'entropy'],\n",
        "    'max_depth': range(3, 10), \n",
        "    'min_samples_split': range(2, 6),\n",
        "    'min_samples_leaf': range(1, 4)\n",
        "}\n",
        "\n",
        "clf = DecisionTreeClassifier()\n",
        "\n",
        "gs = GridSearchCV(clf, \n",
        "                  param_grid=param_grid, \n",
        "                  cv=10,\n",
        "                  verbose=1,\n",
        "                  n_jobs=1)\n",
        "\n",
        "gs.fit(X_train, y_train)\n",
        "print(gs.best_score_)\n",
        "print(gs.best_params_)"
      ],
      "execution_count": null,
      "outputs": [
        {
          "output_type": "stream",
          "name": "stdout",
          "text": [
            "Fitting 10 folds for each of 168 candidates, totalling 1680 fits\n"
          ]
        },
        {
          "output_type": "stream",
          "name": "stderr",
          "text": [
            "[Parallel(n_jobs=1)]: Using backend SequentialBackend with 1 concurrent workers.\n"
          ]
        },
        {
          "output_type": "stream",
          "name": "stdout",
          "text": [
            "0.9267948513752835\n",
            "{'criterion': 'gini', 'max_depth': 9, 'min_samples_leaf': 2, 'min_samples_split': 4}\n"
          ]
        },
        {
          "output_type": "stream",
          "name": "stderr",
          "text": [
            "[Parallel(n_jobs=1)]: Done 1680 out of 1680 | elapsed:  1.9min finished\n"
          ]
        }
      ]
    },
    {
      "cell_type": "code",
      "metadata": {
        "colab": {
          "base_uri": "https://localhost:8080/"
        },
        "id": "wIly20D4UDaC",
        "outputId": "8958f2ff-fee1-45f2-9d5f-8ef5aedec616"
      },
      "source": [
        "#Run the model using these hyperparameters and generate performance metrics:\n",
        "\n",
        "\n",
        "X = df.loc[:, [\"amount\", \"fico\", \"dti\", \"emp_length_numeric\"]]\n",
        "y = df.policy_code\n",
        "\n",
        "X_train, X_test, y_train, y_test = train_test_split(\n",
        "    X, y, test_size=0.3, random_state=1, stratify=y)\n",
        "\n",
        "clf = DecisionTreeClassifier(criterion='gini', max_depth=9, min_samples_leaf=2, min_samples_split=4)\n",
        "clf = clf.fit(X_train,y_train)\n",
        "\n",
        "#Generate performance metrics\n",
        "\n",
        "predictions = clf.predict(X_test)\n",
        "cm = confusion_matrix(y_test, predictions)\n",
        "\n",
        "tp = cm[1, 1]\n",
        "tn = cm[0, 0]\n",
        "fn = cm[1, 0]\n",
        "fp = cm[0, 1]\n",
        "\n",
        "accuracy = round((tp+tn)/(tp+fp+tn+fn), ndigits=2)\n",
        "precision = round(tp/(tp+fp), ndigits=2)\n",
        "recall = round(tp/(tp+fn), ndigits=2)\n",
        "specificity = round(tn/(tn+fp), ndigits=2)\n",
        "\n",
        "f1score = round(2 * (precision * recall) / (precision + recall), ndigits=2)\n",
        "\n",
        "print(f\"The accuracy of the model is {accuracy}.\")\n",
        "print(f\"The precision of the model is {precision}.\")\n",
        "print(f\"The recall of the model is {recall}.\")\n",
        "print(f\"The specificity of the model is {specificity}.\")\n",
        "print(f\"The F1 score of the model is {f1score}.\")"
      ],
      "execution_count": null,
      "outputs": [
        {
          "output_type": "stream",
          "name": "stdout",
          "text": [
            "The accuracy of the model is 0.93.\n",
            "The precision of the model is 0.68.\n",
            "The recall of the model is 0.76.\n",
            "The specificity of the model is 0.95.\n",
            "The F1 score of the model is 0.72.\n"
          ]
        }
      ]
    },
    {
      "cell_type": "markdown",
      "metadata": {
        "id": "PF1GaWw7NWAC"
      },
      "source": [
        "###**Analysis**\n"
      ]
    },
    {
      "cell_type": "markdown",
      "metadata": {
        "id": "Souk4IMjVBjX"
      },
      "source": [
        "![Screen Shot 2021-11-01 at 5.07.24 PM.png](data:image/png;base64,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)"
      ]
    },
    {
      "cell_type": "markdown",
      "metadata": {
        "id": "znqKPmEyTgI_"
      },
      "source": [
        "The best hyperparameters according to a brute force grid search are:\n",
        "\n",
        "* 'criterion': 'gini' (matches default),\n",
        "* 'max_depth': 9 (default is None), \n",
        "* 'min_samples_leaf': 2 (default = 1), \n",
        "* 'min_samples_split': 4 (default = 2)\n",
        "\n",
        "In three out of four of the hyperparameters being tuned, the optimal value was different from the default value. Using these hyperparameters produced very small improvements in the precision and F1 scores (1 percentage point each). "
      ]
    },
    {
      "cell_type": "markdown",
      "metadata": {
        "id": "Grps4s9aTxKH"
      },
      "source": [
        "##**Part 5: Number of Folds for Cross Validation**\n",
        "\n"
      ]
    },
    {
      "cell_type": "code",
      "metadata": {
        "colab": {
          "base_uri": "https://localhost:8080/"
        },
        "id": "NG7Ga_NLYfpX",
        "outputId": "cbbf4ef3-996e-453d-dee7-8c6b6f38d894"
      },
      "source": [
        "#https://scikit-learn.org/stable/modules/generated/sklearn.model_selection.KFold.html\n",
        "#https://machinelearningmastery.com/how-to-configure-k-fold-cross-validation/\n",
        "\n",
        "from sklearn.model_selection import KFold\n",
        "from sklearn.model_selection import cross_val_score\n",
        "\n",
        "X = df.loc[:, [\"amount\", \"fico\", \"dti\", \"emp_length_numeric\"]]\n",
        "y = df.policy_code\n",
        "\n",
        "clf = DecisionTreeClassifier(criterion='gini', max_depth=9, min_samples_leaf=2, min_samples_split=4)\n",
        "\n",
        "#Define different numbers of folds to try\n",
        "k_values = range(2, 10)\n",
        "\n",
        "for k in k_values:\n",
        "  kfold = KFold(n_splits = k, shuffle=True, random_state = 1)\n",
        "  scores = cross_val_score(clf, X, y, scoring='accuracy', cv=kfold, n_jobs=-1)\n",
        "  print(f'Accuracy for k = {k}: %.3f (%.3f)' % (np.mean(scores), np.std(scores)))\n",
        "  f1scores = cross_val_score(clf, X, y, scoring='f1', cv=kfold, n_jobs=-1)\n",
        "  print(f'F1-scores for k = {k}: %.3f (%.3f)' % (np.mean(f1scores), np.std(f1scores)))"
      ],
      "execution_count": null,
      "outputs": [
        {
          "output_type": "stream",
          "name": "stdout",
          "text": [
            "Accuracy for k = 2: 0.925 (0.000)\n",
            "F1-scores for k = 2: 0.689 (0.003)\n",
            "Accuracy for k = 3: 0.926 (0.002)\n",
            "F1-scores for k = 3: 0.690 (0.002)\n",
            "Accuracy for k = 4: 0.927 (0.001)\n",
            "F1-scores for k = 4: 0.695 (0.004)\n",
            "Accuracy for k = 5: 0.928 (0.002)\n",
            "F1-scores for k = 5: 0.696 (0.010)\n",
            "Accuracy for k = 6: 0.928 (0.002)\n",
            "F1-scores for k = 6: 0.698 (0.007)\n",
            "Accuracy for k = 7: 0.928 (0.002)\n",
            "F1-scores for k = 7: 0.699 (0.009)\n",
            "Accuracy for k = 8: 0.928 (0.003)\n",
            "F1-scores for k = 8: 0.698 (0.015)\n",
            "Accuracy for k = 9: 0.928 (0.002)\n",
            "F1-scores for k = 9: 0.698 (0.007)\n"
          ]
        }
      ]
    },
    {
      "cell_type": "markdown",
      "metadata": {
        "id": "OSDkZkJTNURL"
      },
      "source": [
        "###**Analysis**\n"
      ]
    },
    {
      "cell_type": "markdown",
      "metadata": {
        "id": "qEnQhDiYcjOm"
      },
      "source": [
        "In this case, it seems k=7 gave the optimally high accuracy and F1 scores. However, the difference between k=2 and k=7 was not very dramatic:\n",
        "\n",
        "Accuracy for k = 2: 0.925 / Accuracy for k = 7: 0.928\n",
        "\n",
        "F1-score for k = 2: 0.689 / F1-score for k = 7: 0.699"
      ]
    },
    {
      "cell_type": "markdown",
      "metadata": {
        "id": "YrxquSXSATK6"
      },
      "source": [
        "\n",
        "###**Comparative Analysis**\n",
        "\n"
      ]
    },
    {
      "cell_type": "markdown",
      "metadata": {
        "id": "RUO6aYxQdvqv"
      },
      "source": [
        "In order of most to least impact on model performance:\n",
        "\n",
        "\n",
        "1.   Subset of features included in the model.\n",
        "2.   Amount of data available for training.\n",
        "3.   Decision tree vs. logistic regression classification.\n",
        "4.   Hyperparameter tuning for the best-performing model.\n",
        "5.   Number of folds or stratification strategy for cross-validation.\n",
        "\n",
        "These are ranked according to how dramatically different the performance metrics, especially positive class performance metrics, varied based on different choices. The choice of subset of features could take the model from no learning at all (all-negative classifier with recall zero) to a recall of .76. The choice of amount of data available for training caused the F1 score to range from .51 to .73. Logistic regression seemed to perform worse than decision tree; accuracy with logistic regression was the same as an all-negative classifier (.89) compared to .93 with decision tree, and all the other metrics except specificity suffered as well. Hyperparameter tuning caused some tiny improvements in the metrics, with number of folds helping almost not at all."
      ]
    },
    {
      "cell_type": "markdown",
      "metadata": {
        "id": "yOOkWEaIdEWu"
      },
      "source": [
        "# Question 3\n",
        "\n",
        "Report the best-performing model and the total set of choices that you made in the options above to get to that level of performance. Compare that model performance to the result you reported in Homework 1. \n",
        "\n",
        "   - Describe one hypothetical business context for LendingClub where the amount of improvement reported in Question 3 would be worth the extra time and effort needed for optimization.\n",
        "   - Describe one hypothetical business context where the improvement would **not** have been worth the extra time and effort."
      ]
    },
    {
      "cell_type": "markdown",
      "metadata": {
        "id": "hrzbBcLagW09"
      },
      "source": [
        "![Screen Shot 2021-11-01 at 5.57.13 PM.png](data:image/png;base64,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)"
      ]
    },
    {
      "cell_type": "markdown",
      "metadata": {
        "id": "r_aWYhCbgsFu"
      },
      "source": [
        "The best-performing model was a decision tree. The features used were [\"amount\", \"fico\", \"dti\", \"emp_length_numeric\"]. The model was trained on 70% of the available data and used the following hyperparameters: criterion='gini', max_depth=9, min_samples_leaf=2, min_samples_split=4. \n",
        "\n",
        "Since 89% of the data belonged to the negative class, a jump in accuracy from .91 to .93 was somewhat significant. Precision, recall, and F1 score also got meaningful bumps, meaning the positive class predictions were improved the most by the model adjustments.\n",
        "\n",
        "**Worth it**: This would be worth the optimization effort if business leaders were going to use it to help customers decide whether or not they should list their loan. Being better able to predict what results in a positive outcome can better inform an in-product feature that alerts users if their loan application is a good candidate.\n",
        "\n",
        "**Not worth it**: If business leaders only wanted to know general trends about what kinds of people are likely to get successful loans, the difference in performance would not be worth the optimization. For instance, marketers would probably choose to target the same groups of people given either set of performance metrics."
      ]
    },
    {
      "cell_type": "markdown",
      "metadata": {
        "id": "K-nzeiXvm05T"
      },
      "source": [
        "# Extra Credit\n",
        "\n",
        "For up to 2 points of extra credit, complete all three of the analyses in Question 1.\n",
        "\n",
        "For up to 4 points of extra credit, complete all five of the analyses in Question 2."
      ]
    },
    {
      "cell_type": "markdown",
      "metadata": {
        "id": "_2upx-ygRKE-"
      },
      "source": [
        "# Scoring Rubric\n",
        "![](https://drive.google.com/uc?export=view&id=1dLF4RcciHT_giZEXWio1D0hwK73tKYjK)\n",
        "\n",
        "![](https://drive.google.com/uc?export=view&id=1nYN7X847FeHtE-0LVpqhQk8iq2YEWx2d)"
      ]
    }
  ]
}